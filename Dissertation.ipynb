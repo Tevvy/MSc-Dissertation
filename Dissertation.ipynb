{
  "nbformat": 4,
  "nbformat_minor": 0,
  "metadata": {
    "colab": {
      "provenance": [],
      "collapsed_sections": [
        "1IqY90NmtcyD",
        "3GZGScgc0VcX",
        "elOLqc4G0b9n",
        "HMIgZmUo0iqS",
        "IiUFinOoJ6gg",
        "eNN4Nz1UzjCj",
        "6gZzz2H6qk3x",
        "yI1JwYr1qpYM",
        "xUfDoNpWqtKB",
        "m5G1d8Qrq5Ip",
        "q68q9SXPsjZg",
        "IdG2x_scsjZl",
        "7tS6bKEVsjZm",
        "kKMSlOFysjZm",
        "KUw84ZUAsjZn",
        "R60AUZv1stpL",
        "bdP58jkpstpL",
        "oh9da8xIstpL",
        "r6XLRXn2sz8C",
        "fUndL614sz8D",
        "vFwffXIGsz8D",
        "qTR3jWPCsz8E",
        "JFBJvLkDs4xK",
        "4ya4K65ks4xL",
        "K57ppiq-s4xL",
        "ZDDdpca7s4xM",
        "ZmF9K7Ags-iD",
        "UaEK4yT0s-iD",
        "-yKVV7iBs-iD",
        "ybjlSHAcs-iE",
        "tgir6jyYSPSc",
        "llpz5pxvSRmY",
        "lHaqNffibeER",
        "3BdPyk0cIayA",
        "U3bC5DoTIflE"
      ]
    },
    "kernelspec": {
      "name": "python3",
      "display_name": "Python 3"
    },
    "language_info": {
      "name": "python"
    }
  },
  "cells": [
    {
      "cell_type": "markdown",
      "source": [
        "# Initial Setup"
      ],
      "metadata": {
        "id": "1IqY90NmtcyD"
      }
    },
    {
      "cell_type": "markdown",
      "source": [
        "## Package and Data Loading"
      ],
      "metadata": {
        "id": "3GZGScgc0VcX"
      }
    },
    {
      "cell_type": "code",
      "execution_count": null,
      "metadata": {
        "id": "VLf52sVqSjAX"
      },
      "outputs": [],
      "source": [
        "#Import libraries\n",
        "#Numpy for array work and various mathematical methods\n",
        "import numpy as np\n",
        "#Pandas for dataframe manipulation\n",
        "import pandas as pd\n",
        "#Matplotlib for plotting\n",
        "import matplotlib.pyplot as plt\n",
        "#Seaborn for density plot\n",
        "import seaborn as sns\n",
        "#SKlearn metrics\n",
        "from sklearn.metrics import f1_score, precision_score, recall_score, confusion_matrix, accuracy_score\n",
        "\n",
        "#train_test_split for splitting\n",
        "from sklearn.model_selection import train_test_split\n",
        "from sklearn import ensemble, svm\n",
        "#Tensorflow, Keras and Layers for model building\n",
        "import tensorflow as tf\n",
        "from tensorflow import keras\n",
        "from tensorflow.keras import layers\n",
        "from keras.models import Sequential\n",
        "from keras.layers import Dense\n",
        "\n",
        "\n",
        "\n",
        "#Files and io to read dataset (only for google colab)\n",
        "from google.colab import files\n",
        "import io"
      ]
    },
    {
      "cell_type": "code",
      "source": [
        "#Upload file to google colab\n",
        "uploaded = files.upload()"
      ],
      "metadata": {
        "colab": {
          "resources": {
            "http://localhost:8080/nbextensions/google.colab/files.js": {
              "data": "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",
              "ok": true,
              "headers": [
                [
                  "content-type",
                  "application/javascript"
                ]
              ],
              "status": 200,
              "status_text": ""
            }
          },
          "base_uri": "https://localhost:8080/",
          "height": 73
        },
        "id": "X5T2zg5zSqnX",
        "outputId": "f787147c-ee79-4493-b0d2-2e819b2988f0"
      },
      "execution_count": null,
      "outputs": [
        {
          "output_type": "display_data",
          "data": {
            "text/plain": [
              "<IPython.core.display.HTML object>"
            ],
            "text/html": [
              "\n",
              "     <input type=\"file\" id=\"files-3c31a418-230e-416a-bcfb-eab58e415c3e\" name=\"files[]\" multiple disabled\n",
              "        style=\"border:none\" />\n",
              "     <output id=\"result-3c31a418-230e-416a-bcfb-eab58e415c3e\">\n",
              "      Upload widget is only available when the cell has been executed in the\n",
              "      current browser session. Please rerun this cell to enable.\n",
              "      </output>\n",
              "      <script src=\"/nbextensions/google.colab/files.js\"></script> "
            ]
          },
          "metadata": {}
        },
        {
          "output_type": "stream",
          "name": "stdout",
          "text": [
            "Saving 05_Project2.csv to 05_Project2.csv\n"
          ]
        }
      ]
    },
    {
      "cell_type": "code",
      "source": [
        "#Read file from uploaded area\n",
        "Data = pd.read_csv(io.BytesIO(uploaded['05_Project2.csv']))\n",
        "#Alternate Command if running on local machine\n",
        "#Data = pd.read_csv('05_Project2.csv')"
      ],
      "metadata": {
        "id": "WZD7EQh4l1za"
      },
      "execution_count": null,
      "outputs": []
    },
    {
      "cell_type": "markdown",
      "source": [
        "## Data Cleaning and Preparation"
      ],
      "metadata": {
        "id": "elOLqc4G0b9n"
      }
    },
    {
      "cell_type": "code",
      "source": [
        "#Check Data Types\n",
        "print('Data Types\\n' + str(Data.dtypes))"
      ],
      "metadata": {
        "colab": {
          "base_uri": "https://localhost:8080/"
        },
        "id": "NZ5GSVwml_aj",
        "outputId": "d6c9cb6e-53ea-4d36-af69-5e09a16dfa17"
      },
      "execution_count": null,
      "outputs": [
        {
          "output_type": "stream",
          "name": "stdout",
          "text": [
            "Data Types\n",
            "CatEdition           int64\n",
            "SpringSummer          bool\n",
            "ProductKey           int64\n",
            "WeeksOut             int64\n",
            "Status              object\n",
            "SalePriceIncVAT    float64\n",
            "ForecastPerWeek    float64\n",
            "ActualsPerWeek     float64\n",
            "DiscontinuedTF        bool\n",
            "dtype: object\n"
          ]
        }
      ]
    },
    {
      "cell_type": "code",
      "source": [
        "#Check for duplicate rows\n",
        "print('Any duplicated rows? ' + str(Data.duplicated().any()))"
      ],
      "metadata": {
        "colab": {
          "base_uri": "https://localhost:8080/"
        },
        "id": "-sFqs4DtmFjM",
        "outputId": "97dacc28-c268-481d-d215-20d1383010a4"
      },
      "execution_count": null,
      "outputs": [
        {
          "output_type": "stream",
          "name": "stdout",
          "text": [
            "Any duplicated rows? False\n"
          ]
        }
      ]
    },
    {
      "cell_type": "code",
      "source": [
        "#Check for missing values\n",
        "print('Any NA Values?\\n'+str(Data.isna().any()))"
      ],
      "metadata": {
        "colab": {
          "base_uri": "https://localhost:8080/"
        },
        "id": "uKJtUde-mLZA",
        "outputId": "76c72634-c239-4890-e74b-5ad368b8b67f"
      },
      "execution_count": null,
      "outputs": [
        {
          "output_type": "stream",
          "name": "stdout",
          "text": [
            "Any NA Values?\n",
            "CatEdition         False\n",
            "SpringSummer       False\n",
            "ProductKey         False\n",
            "WeeksOut           False\n",
            "Status             False\n",
            "SalePriceIncVAT    False\n",
            "ForecastPerWeek    False\n",
            "ActualsPerWeek     False\n",
            "DiscontinuedTF     False\n",
            "dtype: bool\n"
          ]
        }
      ]
    },
    {
      "cell_type": "code",
      "source": [
        "#Look at Data head to get an idea of what it looks like\n",
        "Data.head()"
      ],
      "metadata": {
        "id": "0oB1YrcomRKo",
        "outputId": "879ede52-a981-4e27-ba22-a9e43df36eb0",
        "colab": {
          "base_uri": "https://localhost:8080/",
          "height": 206
        }
      },
      "execution_count": null,
      "outputs": [
        {
          "output_type": "execute_result",
          "data": {
            "text/plain": [
              "   CatEdition  SpringSummer  ProductKey  WeeksOut Status  SalePriceIncVAT  \\\n",
              "0          89          True        8108       -11     RI            43.99   \n",
              "1          89          True        8108       -10     RI            43.99   \n",
              "2          89          True        8108        -9     RI            43.99   \n",
              "3          89          True        8108        -8     RI            43.99   \n",
              "4          89          True        8108        -7     RI            43.99   \n",
              "\n",
              "   ForecastPerWeek  ActualsPerWeek  DiscontinuedTF  \n",
              "0          250.545         248.642           False  \n",
              "1          255.700         244.333           False  \n",
              "2          206.111         252.187           False  \n",
              "3          188.625         254.764           False  \n",
              "4          169.142         249.000           False  "
            ],
            "text/html": [
              "\n",
              "  <div id=\"df-29f5cd73-3096-478f-ba71-22d031378bcd\">\n",
              "    <div class=\"colab-df-container\">\n",
              "      <div>\n",
              "<style scoped>\n",
              "    .dataframe tbody tr th:only-of-type {\n",
              "        vertical-align: middle;\n",
              "    }\n",
              "\n",
              "    .dataframe tbody tr th {\n",
              "        vertical-align: top;\n",
              "    }\n",
              "\n",
              "    .dataframe thead th {\n",
              "        text-align: right;\n",
              "    }\n",
              "</style>\n",
              "<table border=\"1\" class=\"dataframe\">\n",
              "  <thead>\n",
              "    <tr style=\"text-align: right;\">\n",
              "      <th></th>\n",
              "      <th>CatEdition</th>\n",
              "      <th>SpringSummer</th>\n",
              "      <th>ProductKey</th>\n",
              "      <th>WeeksOut</th>\n",
              "      <th>Status</th>\n",
              "      <th>SalePriceIncVAT</th>\n",
              "      <th>ForecastPerWeek</th>\n",
              "      <th>ActualsPerWeek</th>\n",
              "      <th>DiscontinuedTF</th>\n",
              "    </tr>\n",
              "  </thead>\n",
              "  <tbody>\n",
              "    <tr>\n",
              "      <th>0</th>\n",
              "      <td>89</td>\n",
              "      <td>True</td>\n",
              "      <td>8108</td>\n",
              "      <td>-11</td>\n",
              "      <td>RI</td>\n",
              "      <td>43.99</td>\n",
              "      <td>250.545</td>\n",
              "      <td>248.642</td>\n",
              "      <td>False</td>\n",
              "    </tr>\n",
              "    <tr>\n",
              "      <th>1</th>\n",
              "      <td>89</td>\n",
              "      <td>True</td>\n",
              "      <td>8108</td>\n",
              "      <td>-10</td>\n",
              "      <td>RI</td>\n",
              "      <td>43.99</td>\n",
              "      <td>255.700</td>\n",
              "      <td>244.333</td>\n",
              "      <td>False</td>\n",
              "    </tr>\n",
              "    <tr>\n",
              "      <th>2</th>\n",
              "      <td>89</td>\n",
              "      <td>True</td>\n",
              "      <td>8108</td>\n",
              "      <td>-9</td>\n",
              "      <td>RI</td>\n",
              "      <td>43.99</td>\n",
              "      <td>206.111</td>\n",
              "      <td>252.187</td>\n",
              "      <td>False</td>\n",
              "    </tr>\n",
              "    <tr>\n",
              "      <th>3</th>\n",
              "      <td>89</td>\n",
              "      <td>True</td>\n",
              "      <td>8108</td>\n",
              "      <td>-8</td>\n",
              "      <td>RI</td>\n",
              "      <td>43.99</td>\n",
              "      <td>188.625</td>\n",
              "      <td>254.764</td>\n",
              "      <td>False</td>\n",
              "    </tr>\n",
              "    <tr>\n",
              "      <th>4</th>\n",
              "      <td>89</td>\n",
              "      <td>True</td>\n",
              "      <td>8108</td>\n",
              "      <td>-7</td>\n",
              "      <td>RI</td>\n",
              "      <td>43.99</td>\n",
              "      <td>169.142</td>\n",
              "      <td>249.000</td>\n",
              "      <td>False</td>\n",
              "    </tr>\n",
              "  </tbody>\n",
              "</table>\n",
              "</div>\n",
              "      <button class=\"colab-df-convert\" onclick=\"convertToInteractive('df-29f5cd73-3096-478f-ba71-22d031378bcd')\"\n",
              "              title=\"Convert this dataframe to an interactive table.\"\n",
              "              style=\"display:none;\">\n",
              "        \n",
              "  <svg xmlns=\"http://www.w3.org/2000/svg\" height=\"24px\"viewBox=\"0 0 24 24\"\n",
              "       width=\"24px\">\n",
              "    <path d=\"M0 0h24v24H0V0z\" fill=\"none\"/>\n",
              "    <path d=\"M18.56 5.44l.94 2.06.94-2.06 2.06-.94-2.06-.94-.94-2.06-.94 2.06-2.06.94zm-11 1L8.5 8.5l.94-2.06 2.06-.94-2.06-.94L8.5 2.5l-.94 2.06-2.06.94zm10 10l.94 2.06.94-2.06 2.06-.94-2.06-.94-.94-2.06-.94 2.06-2.06.94z\"/><path d=\"M17.41 7.96l-1.37-1.37c-.4-.4-.92-.59-1.43-.59-.52 0-1.04.2-1.43.59L10.3 9.45l-7.72 7.72c-.78.78-.78 2.05 0 2.83L4 21.41c.39.39.9.59 1.41.59.51 0 1.02-.2 1.41-.59l7.78-7.78 2.81-2.81c.8-.78.8-2.07 0-2.86zM5.41 20L4 18.59l7.72-7.72 1.47 1.35L5.41 20z\"/>\n",
              "  </svg>\n",
              "      </button>\n",
              "      \n",
              "  <style>\n",
              "    .colab-df-container {\n",
              "      display:flex;\n",
              "      flex-wrap:wrap;\n",
              "      gap: 12px;\n",
              "    }\n",
              "\n",
              "    .colab-df-convert {\n",
              "      background-color: #E8F0FE;\n",
              "      border: none;\n",
              "      border-radius: 50%;\n",
              "      cursor: pointer;\n",
              "      display: none;\n",
              "      fill: #1967D2;\n",
              "      height: 32px;\n",
              "      padding: 0 0 0 0;\n",
              "      width: 32px;\n",
              "    }\n",
              "\n",
              "    .colab-df-convert:hover {\n",
              "      background-color: #E2EBFA;\n",
              "      box-shadow: 0px 1px 2px rgba(60, 64, 67, 0.3), 0px 1px 3px 1px rgba(60, 64, 67, 0.15);\n",
              "      fill: #174EA6;\n",
              "    }\n",
              "\n",
              "    [theme=dark] .colab-df-convert {\n",
              "      background-color: #3B4455;\n",
              "      fill: #D2E3FC;\n",
              "    }\n",
              "\n",
              "    [theme=dark] .colab-df-convert:hover {\n",
              "      background-color: #434B5C;\n",
              "      box-shadow: 0px 1px 3px 1px rgba(0, 0, 0, 0.15);\n",
              "      filter: drop-shadow(0px 1px 2px rgba(0, 0, 0, 0.3));\n",
              "      fill: #FFFFFF;\n",
              "    }\n",
              "  </style>\n",
              "\n",
              "      <script>\n",
              "        const buttonEl =\n",
              "          document.querySelector('#df-29f5cd73-3096-478f-ba71-22d031378bcd button.colab-df-convert');\n",
              "        buttonEl.style.display =\n",
              "          google.colab.kernel.accessAllowed ? 'block' : 'none';\n",
              "\n",
              "        async function convertToInteractive(key) {\n",
              "          const element = document.querySelector('#df-29f5cd73-3096-478f-ba71-22d031378bcd');\n",
              "          const dataTable =\n",
              "            await google.colab.kernel.invokeFunction('convertToInteractive',\n",
              "                                                     [key], {});\n",
              "          if (!dataTable) return;\n",
              "\n",
              "          const docLinkHtml = 'Like what you see? Visit the ' +\n",
              "            '<a target=\"_blank\" href=https://colab.research.google.com/notebooks/data_table.ipynb>data table notebook</a>'\n",
              "            + ' to learn more about interactive tables.';\n",
              "          element.innerHTML = '';\n",
              "          dataTable['output_type'] = 'display_data';\n",
              "          await google.colab.output.renderOutput(dataTable, element);\n",
              "          const docLink = document.createElement('div');\n",
              "          docLink.innerHTML = docLinkHtml;\n",
              "          element.appendChild(docLink);\n",
              "        }\n",
              "      </script>\n",
              "    </div>\n",
              "  </div>\n",
              "  "
            ]
          },
          "metadata": {},
          "execution_count": 7
        }
      ]
    },
    {
      "cell_type": "code",
      "source": [
        "#Copy Data to clean\n",
        "CleanedData=Data.copy()\n",
        "#Combine ProductKey and CatEdition to create a universal index\n",
        "CleanedData['ProductCatComposite'] = CleanedData.ProductKey.astype(str)+ '-' + CleanedData.CatEdition.astype(str)\n",
        "CleanedData['ProductCatComposite']=CleanedData['ProductCatComposite'].astype(str)\n",
        "#Convert Booleans to integers\n",
        "CleanedData['SpringSummer']=CleanedData['SpringSummer'].astype(int)\n",
        "CleanedData['DiscontinuedTF']=CleanedData['DiscontinuedTF'].astype(int)\n",
        "#Dummy Code Status variable\n",
        "CleanedData['Status']=pd.get_dummies(CleanedData['Status'])['RO']\n",
        "#Head to check check data\n",
        "CleanedData.head()"
      ],
      "metadata": {
        "colab": {
          "base_uri": "https://localhost:8080/",
          "height": 206
        },
        "id": "v_AOWdtAqF26",
        "outputId": "e7b4394f-724f-44bc-8969-705b2714cfea"
      },
      "execution_count": null,
      "outputs": [
        {
          "output_type": "execute_result",
          "data": {
            "text/plain": [
              "   CatEdition  SpringSummer  ProductKey  WeeksOut  Status  SalePriceIncVAT  \\\n",
              "0          89             1        8108       -11       0            43.99   \n",
              "1          89             1        8108       -10       0            43.99   \n",
              "2          89             1        8108        -9       0            43.99   \n",
              "3          89             1        8108        -8       0            43.99   \n",
              "4          89             1        8108        -7       0            43.99   \n",
              "\n",
              "   ForecastPerWeek  ActualsPerWeek  DiscontinuedTF ProductCatComposite  \n",
              "0          250.545         248.642               0             8108-89  \n",
              "1          255.700         244.333               0             8108-89  \n",
              "2          206.111         252.187               0             8108-89  \n",
              "3          188.625         254.764               0             8108-89  \n",
              "4          169.142         249.000               0             8108-89  "
            ],
            "text/html": [
              "\n",
              "  <div id=\"df-18774b7a-46b0-41a6-8ef6-bea05e0e82ae\">\n",
              "    <div class=\"colab-df-container\">\n",
              "      <div>\n",
              "<style scoped>\n",
              "    .dataframe tbody tr th:only-of-type {\n",
              "        vertical-align: middle;\n",
              "    }\n",
              "\n",
              "    .dataframe tbody tr th {\n",
              "        vertical-align: top;\n",
              "    }\n",
              "\n",
              "    .dataframe thead th {\n",
              "        text-align: right;\n",
              "    }\n",
              "</style>\n",
              "<table border=\"1\" class=\"dataframe\">\n",
              "  <thead>\n",
              "    <tr style=\"text-align: right;\">\n",
              "      <th></th>\n",
              "      <th>CatEdition</th>\n",
              "      <th>SpringSummer</th>\n",
              "      <th>ProductKey</th>\n",
              "      <th>WeeksOut</th>\n",
              "      <th>Status</th>\n",
              "      <th>SalePriceIncVAT</th>\n",
              "      <th>ForecastPerWeek</th>\n",
              "      <th>ActualsPerWeek</th>\n",
              "      <th>DiscontinuedTF</th>\n",
              "      <th>ProductCatComposite</th>\n",
              "    </tr>\n",
              "  </thead>\n",
              "  <tbody>\n",
              "    <tr>\n",
              "      <th>0</th>\n",
              "      <td>89</td>\n",
              "      <td>1</td>\n",
              "      <td>8108</td>\n",
              "      <td>-11</td>\n",
              "      <td>0</td>\n",
              "      <td>43.99</td>\n",
              "      <td>250.545</td>\n",
              "      <td>248.642</td>\n",
              "      <td>0</td>\n",
              "      <td>8108-89</td>\n",
              "    </tr>\n",
              "    <tr>\n",
              "      <th>1</th>\n",
              "      <td>89</td>\n",
              "      <td>1</td>\n",
              "      <td>8108</td>\n",
              "      <td>-10</td>\n",
              "      <td>0</td>\n",
              "      <td>43.99</td>\n",
              "      <td>255.700</td>\n",
              "      <td>244.333</td>\n",
              "      <td>0</td>\n",
              "      <td>8108-89</td>\n",
              "    </tr>\n",
              "    <tr>\n",
              "      <th>2</th>\n",
              "      <td>89</td>\n",
              "      <td>1</td>\n",
              "      <td>8108</td>\n",
              "      <td>-9</td>\n",
              "      <td>0</td>\n",
              "      <td>43.99</td>\n",
              "      <td>206.111</td>\n",
              "      <td>252.187</td>\n",
              "      <td>0</td>\n",
              "      <td>8108-89</td>\n",
              "    </tr>\n",
              "    <tr>\n",
              "      <th>3</th>\n",
              "      <td>89</td>\n",
              "      <td>1</td>\n",
              "      <td>8108</td>\n",
              "      <td>-8</td>\n",
              "      <td>0</td>\n",
              "      <td>43.99</td>\n",
              "      <td>188.625</td>\n",
              "      <td>254.764</td>\n",
              "      <td>0</td>\n",
              "      <td>8108-89</td>\n",
              "    </tr>\n",
              "    <tr>\n",
              "      <th>4</th>\n",
              "      <td>89</td>\n",
              "      <td>1</td>\n",
              "      <td>8108</td>\n",
              "      <td>-7</td>\n",
              "      <td>0</td>\n",
              "      <td>43.99</td>\n",
              "      <td>169.142</td>\n",
              "      <td>249.000</td>\n",
              "      <td>0</td>\n",
              "      <td>8108-89</td>\n",
              "    </tr>\n",
              "  </tbody>\n",
              "</table>\n",
              "</div>\n",
              "      <button class=\"colab-df-convert\" onclick=\"convertToInteractive('df-18774b7a-46b0-41a6-8ef6-bea05e0e82ae')\"\n",
              "              title=\"Convert this dataframe to an interactive table.\"\n",
              "              style=\"display:none;\">\n",
              "        \n",
              "  <svg xmlns=\"http://www.w3.org/2000/svg\" height=\"24px\"viewBox=\"0 0 24 24\"\n",
              "       width=\"24px\">\n",
              "    <path d=\"M0 0h24v24H0V0z\" fill=\"none\"/>\n",
              "    <path d=\"M18.56 5.44l.94 2.06.94-2.06 2.06-.94-2.06-.94-.94-2.06-.94 2.06-2.06.94zm-11 1L8.5 8.5l.94-2.06 2.06-.94-2.06-.94L8.5 2.5l-.94 2.06-2.06.94zm10 10l.94 2.06.94-2.06 2.06-.94-2.06-.94-.94-2.06-.94 2.06-2.06.94z\"/><path d=\"M17.41 7.96l-1.37-1.37c-.4-.4-.92-.59-1.43-.59-.52 0-1.04.2-1.43.59L10.3 9.45l-7.72 7.72c-.78.78-.78 2.05 0 2.83L4 21.41c.39.39.9.59 1.41.59.51 0 1.02-.2 1.41-.59l7.78-7.78 2.81-2.81c.8-.78.8-2.07 0-2.86zM5.41 20L4 18.59l7.72-7.72 1.47 1.35L5.41 20z\"/>\n",
              "  </svg>\n",
              "      </button>\n",
              "      \n",
              "  <style>\n",
              "    .colab-df-container {\n",
              "      display:flex;\n",
              "      flex-wrap:wrap;\n",
              "      gap: 12px;\n",
              "    }\n",
              "\n",
              "    .colab-df-convert {\n",
              "      background-color: #E8F0FE;\n",
              "      border: none;\n",
              "      border-radius: 50%;\n",
              "      cursor: pointer;\n",
              "      display: none;\n",
              "      fill: #1967D2;\n",
              "      height: 32px;\n",
              "      padding: 0 0 0 0;\n",
              "      width: 32px;\n",
              "    }\n",
              "\n",
              "    .colab-df-convert:hover {\n",
              "      background-color: #E2EBFA;\n",
              "      box-shadow: 0px 1px 2px rgba(60, 64, 67, 0.3), 0px 1px 3px 1px rgba(60, 64, 67, 0.15);\n",
              "      fill: #174EA6;\n",
              "    }\n",
              "\n",
              "    [theme=dark] .colab-df-convert {\n",
              "      background-color: #3B4455;\n",
              "      fill: #D2E3FC;\n",
              "    }\n",
              "\n",
              "    [theme=dark] .colab-df-convert:hover {\n",
              "      background-color: #434B5C;\n",
              "      box-shadow: 0px 1px 3px 1px rgba(0, 0, 0, 0.15);\n",
              "      filter: drop-shadow(0px 1px 2px rgba(0, 0, 0, 0.3));\n",
              "      fill: #FFFFFF;\n",
              "    }\n",
              "  </style>\n",
              "\n",
              "      <script>\n",
              "        const buttonEl =\n",
              "          document.querySelector('#df-18774b7a-46b0-41a6-8ef6-bea05e0e82ae button.colab-df-convert');\n",
              "        buttonEl.style.display =\n",
              "          google.colab.kernel.accessAllowed ? 'block' : 'none';\n",
              "\n",
              "        async function convertToInteractive(key) {\n",
              "          const element = document.querySelector('#df-18774b7a-46b0-41a6-8ef6-bea05e0e82ae');\n",
              "          const dataTable =\n",
              "            await google.colab.kernel.invokeFunction('convertToInteractive',\n",
              "                                                     [key], {});\n",
              "          if (!dataTable) return;\n",
              "\n",
              "          const docLinkHtml = 'Like what you see? Visit the ' +\n",
              "            '<a target=\"_blank\" href=https://colab.research.google.com/notebooks/data_table.ipynb>data table notebook</a>'\n",
              "            + ' to learn more about interactive tables.';\n",
              "          element.innerHTML = '';\n",
              "          dataTable['output_type'] = 'display_data';\n",
              "          await google.colab.output.renderOutput(dataTable, element);\n",
              "          const docLink = document.createElement('div');\n",
              "          docLink.innerHTML = docLinkHtml;\n",
              "          element.appendChild(docLink);\n",
              "        }\n",
              "      </script>\n",
              "    </div>\n",
              "  </div>\n",
              "  "
            ]
          },
          "metadata": {},
          "execution_count": 8
        }
      ]
    },
    {
      "cell_type": "code",
      "source": [
        "#Find number of unique Product Catalogue combos\n",
        "CleanedData['ProductCatComposite'].nunique()"
      ],
      "metadata": {
        "colab": {
          "base_uri": "https://localhost:8080/"
        },
        "id": "K18arVsasqUw",
        "outputId": "0da5a463-c08d-4e6a-ee56-f91ed2ca7511"
      },
      "execution_count": null,
      "outputs": [
        {
          "output_type": "execute_result",
          "data": {
            "text/plain": [
              "178905"
            ]
          },
          "metadata": {},
          "execution_count": 9
        }
      ]
    },
    {
      "cell_type": "code",
      "source": [
        "#Create a wide format dataset using unique ProductCatComposite and other unique variables\n",
        "WideData=CleanedData[['ProductCatComposite','DiscontinuedTF','SpringSummer', 'SalePriceIncVAT']].drop_duplicates()\n",
        "#Reset index\n",
        "WideData.reset_index(inplace=True, drop=True)\n",
        "#Check to make sure correct size\n",
        "len(WideData)"
      ],
      "metadata": {
        "colab": {
          "base_uri": "https://localhost:8080/"
        },
        "id": "DUX2gJMsnlWo",
        "outputId": "11563805-35df-4f44-fb77-8b740e390d5c"
      },
      "execution_count": null,
      "outputs": [
        {
          "output_type": "execute_result",
          "data": {
            "text/plain": [
              "179075"
            ]
          },
          "metadata": {},
          "execution_count": 10
        }
      ]
    },
    {
      "cell_type": "code",
      "source": [
        "#Check why duplicates are appearing\n",
        "WideData[WideData.duplicated(subset=['ProductCatComposite'],keep=False)]"
      ],
      "metadata": {
        "colab": {
          "base_uri": "https://localhost:8080/",
          "height": 424
        },
        "id": "TmYJ1ipfcTSz",
        "outputId": "1dedce93-7a99-4517-b06b-bf2041d19148"
      },
      "execution_count": null,
      "outputs": [
        {
          "output_type": "execute_result",
          "data": {
            "text/plain": [
              "       ProductCatComposite  DiscontinuedTF  SpringSummer  SalePriceIncVAT\n",
              "2460              64787-94               1             0            10.00\n",
              "2461              64787-94               1             0             7.00\n",
              "2462              48548-94               1             0            10.00\n",
              "2463              48548-94               1             0             7.00\n",
              "2464              72726-94               1             0            10.00\n",
              "...                    ...             ...           ...              ...\n",
              "175235            60588-94               1             0            49.99\n",
              "175236            35549-94               1             0            39.99\n",
              "175237            35549-94               1             0            49.99\n",
              "175968            31945-93               0             1            12.00\n",
              "175969            31945-93               0             1            10.00\n",
              "\n",
              "[336 rows x 4 columns]"
            ],
            "text/html": [
              "\n",
              "  <div id=\"df-ca80fcc4-932f-4945-a7dc-d7976876c02d\">\n",
              "    <div class=\"colab-df-container\">\n",
              "      <div>\n",
              "<style scoped>\n",
              "    .dataframe tbody tr th:only-of-type {\n",
              "        vertical-align: middle;\n",
              "    }\n",
              "\n",
              "    .dataframe tbody tr th {\n",
              "        vertical-align: top;\n",
              "    }\n",
              "\n",
              "    .dataframe thead th {\n",
              "        text-align: right;\n",
              "    }\n",
              "</style>\n",
              "<table border=\"1\" class=\"dataframe\">\n",
              "  <thead>\n",
              "    <tr style=\"text-align: right;\">\n",
              "      <th></th>\n",
              "      <th>ProductCatComposite</th>\n",
              "      <th>DiscontinuedTF</th>\n",
              "      <th>SpringSummer</th>\n",
              "      <th>SalePriceIncVAT</th>\n",
              "    </tr>\n",
              "  </thead>\n",
              "  <tbody>\n",
              "    <tr>\n",
              "      <th>2460</th>\n",
              "      <td>64787-94</td>\n",
              "      <td>1</td>\n",
              "      <td>0</td>\n",
              "      <td>10.00</td>\n",
              "    </tr>\n",
              "    <tr>\n",
              "      <th>2461</th>\n",
              "      <td>64787-94</td>\n",
              "      <td>1</td>\n",
              "      <td>0</td>\n",
              "      <td>7.00</td>\n",
              "    </tr>\n",
              "    <tr>\n",
              "      <th>2462</th>\n",
              "      <td>48548-94</td>\n",
              "      <td>1</td>\n",
              "      <td>0</td>\n",
              "      <td>10.00</td>\n",
              "    </tr>\n",
              "    <tr>\n",
              "      <th>2463</th>\n",
              "      <td>48548-94</td>\n",
              "      <td>1</td>\n",
              "      <td>0</td>\n",
              "      <td>7.00</td>\n",
              "    </tr>\n",
              "    <tr>\n",
              "      <th>2464</th>\n",
              "      <td>72726-94</td>\n",
              "      <td>1</td>\n",
              "      <td>0</td>\n",
              "      <td>10.00</td>\n",
              "    </tr>\n",
              "    <tr>\n",
              "      <th>...</th>\n",
              "      <td>...</td>\n",
              "      <td>...</td>\n",
              "      <td>...</td>\n",
              "      <td>...</td>\n",
              "    </tr>\n",
              "    <tr>\n",
              "      <th>175235</th>\n",
              "      <td>60588-94</td>\n",
              "      <td>1</td>\n",
              "      <td>0</td>\n",
              "      <td>49.99</td>\n",
              "    </tr>\n",
              "    <tr>\n",
              "      <th>175236</th>\n",
              "      <td>35549-94</td>\n",
              "      <td>1</td>\n",
              "      <td>0</td>\n",
              "      <td>39.99</td>\n",
              "    </tr>\n",
              "    <tr>\n",
              "      <th>175237</th>\n",
              "      <td>35549-94</td>\n",
              "      <td>1</td>\n",
              "      <td>0</td>\n",
              "      <td>49.99</td>\n",
              "    </tr>\n",
              "    <tr>\n",
              "      <th>175968</th>\n",
              "      <td>31945-93</td>\n",
              "      <td>0</td>\n",
              "      <td>1</td>\n",
              "      <td>12.00</td>\n",
              "    </tr>\n",
              "    <tr>\n",
              "      <th>175969</th>\n",
              "      <td>31945-93</td>\n",
              "      <td>0</td>\n",
              "      <td>1</td>\n",
              "      <td>10.00</td>\n",
              "    </tr>\n",
              "  </tbody>\n",
              "</table>\n",
              "<p>336 rows × 4 columns</p>\n",
              "</div>\n",
              "      <button class=\"colab-df-convert\" onclick=\"convertToInteractive('df-ca80fcc4-932f-4945-a7dc-d7976876c02d')\"\n",
              "              title=\"Convert this dataframe to an interactive table.\"\n",
              "              style=\"display:none;\">\n",
              "        \n",
              "  <svg xmlns=\"http://www.w3.org/2000/svg\" height=\"24px\"viewBox=\"0 0 24 24\"\n",
              "       width=\"24px\">\n",
              "    <path d=\"M0 0h24v24H0V0z\" fill=\"none\"/>\n",
              "    <path d=\"M18.56 5.44l.94 2.06.94-2.06 2.06-.94-2.06-.94-.94-2.06-.94 2.06-2.06.94zm-11 1L8.5 8.5l.94-2.06 2.06-.94-2.06-.94L8.5 2.5l-.94 2.06-2.06.94zm10 10l.94 2.06.94-2.06 2.06-.94-2.06-.94-.94-2.06-.94 2.06-2.06.94z\"/><path d=\"M17.41 7.96l-1.37-1.37c-.4-.4-.92-.59-1.43-.59-.52 0-1.04.2-1.43.59L10.3 9.45l-7.72 7.72c-.78.78-.78 2.05 0 2.83L4 21.41c.39.39.9.59 1.41.59.51 0 1.02-.2 1.41-.59l7.78-7.78 2.81-2.81c.8-.78.8-2.07 0-2.86zM5.41 20L4 18.59l7.72-7.72 1.47 1.35L5.41 20z\"/>\n",
              "  </svg>\n",
              "      </button>\n",
              "      \n",
              "  <style>\n",
              "    .colab-df-container {\n",
              "      display:flex;\n",
              "      flex-wrap:wrap;\n",
              "      gap: 12px;\n",
              "    }\n",
              "\n",
              "    .colab-df-convert {\n",
              "      background-color: #E8F0FE;\n",
              "      border: none;\n",
              "      border-radius: 50%;\n",
              "      cursor: pointer;\n",
              "      display: none;\n",
              "      fill: #1967D2;\n",
              "      height: 32px;\n",
              "      padding: 0 0 0 0;\n",
              "      width: 32px;\n",
              "    }\n",
              "\n",
              "    .colab-df-convert:hover {\n",
              "      background-color: #E2EBFA;\n",
              "      box-shadow: 0px 1px 2px rgba(60, 64, 67, 0.3), 0px 1px 3px 1px rgba(60, 64, 67, 0.15);\n",
              "      fill: #174EA6;\n",
              "    }\n",
              "\n",
              "    [theme=dark] .colab-df-convert {\n",
              "      background-color: #3B4455;\n",
              "      fill: #D2E3FC;\n",
              "    }\n",
              "\n",
              "    [theme=dark] .colab-df-convert:hover {\n",
              "      background-color: #434B5C;\n",
              "      box-shadow: 0px 1px 3px 1px rgba(0, 0, 0, 0.15);\n",
              "      filter: drop-shadow(0px 1px 2px rgba(0, 0, 0, 0.3));\n",
              "      fill: #FFFFFF;\n",
              "    }\n",
              "  </style>\n",
              "\n",
              "      <script>\n",
              "        const buttonEl =\n",
              "          document.querySelector('#df-ca80fcc4-932f-4945-a7dc-d7976876c02d button.colab-df-convert');\n",
              "        buttonEl.style.display =\n",
              "          google.colab.kernel.accessAllowed ? 'block' : 'none';\n",
              "\n",
              "        async function convertToInteractive(key) {\n",
              "          const element = document.querySelector('#df-ca80fcc4-932f-4945-a7dc-d7976876c02d');\n",
              "          const dataTable =\n",
              "            await google.colab.kernel.invokeFunction('convertToInteractive',\n",
              "                                                     [key], {});\n",
              "          if (!dataTable) return;\n",
              "\n",
              "          const docLinkHtml = 'Like what you see? Visit the ' +\n",
              "            '<a target=\"_blank\" href=https://colab.research.google.com/notebooks/data_table.ipynb>data table notebook</a>'\n",
              "            + ' to learn more about interactive tables.';\n",
              "          element.innerHTML = '';\n",
              "          dataTable['output_type'] = 'display_data';\n",
              "          await google.colab.output.renderOutput(dataTable, element);\n",
              "          const docLink = document.createElement('div');\n",
              "          docLink.innerHTML = docLinkHtml;\n",
              "          element.appendChild(docLink);\n",
              "        }\n",
              "      </script>\n",
              "    </div>\n",
              "  </div>\n",
              "  "
            ]
          },
          "metadata": {},
          "execution_count": 11
        }
      ]
    },
    {
      "cell_type": "code",
      "source": [
        "#Keep the first price of each pair\n",
        "WideData=WideData.drop_duplicates(subset=['ProductCatComposite'],keep='first')\n",
        "#Check length again\n",
        "len(WideData)"
      ],
      "metadata": {
        "colab": {
          "base_uri": "https://localhost:8080/"
        },
        "id": "yWHdOD8scvfZ",
        "outputId": "e6322219-96e9-4f35-c872-4c5b1238f6ec"
      },
      "execution_count": null,
      "outputs": [
        {
          "output_type": "execute_result",
          "data": {
            "text/plain": [
              "178905"
            ]
          },
          "metadata": {},
          "execution_count": 12
        }
      ]
    },
    {
      "cell_type": "code",
      "source": [
        "#Sequentially merge weeks out data onto WideData, splitting into 6 datasets total\n",
        "#Add suffixes for readability\n",
        "FourWeekData=WideData.merge(CleanedData.loc[Data['WeeksOut']==-24][['ProductCatComposite', 'Status',\t'ForecastPerWeek',\t'ActualsPerWeek']],how='left', on='ProductCatComposite',suffixes=(None,'_24'))\n",
        "FourWeekData=FourWeekData.merge(CleanedData.loc[Data['WeeksOut']==-23][['ProductCatComposite','Status',\t'ForecastPerWeek',\t'ActualsPerWeek']],how='left', on='ProductCatComposite',suffixes=(None,'_23'))\n",
        "FourWeekData=FourWeekData.merge(CleanedData.loc[Data['WeeksOut']==-22][['ProductCatComposite','Status',\t'ForecastPerWeek',\t'ActualsPerWeek']],how='left', on='ProductCatComposite',suffixes=(None,'_22'))\n",
        "FourWeekData=FourWeekData.merge(CleanedData.loc[Data['WeeksOut']==-21][['ProductCatComposite','Status',\t'ForecastPerWeek',\t'ActualsPerWeek']],how='left', on='ProductCatComposite',suffixes=(None,'_21'))\n",
        "\n",
        "EightWeekData=FourWeekData\n",
        "EightWeekData=EightWeekData.merge(CleanedData.loc[Data['WeeksOut']==-20][['ProductCatComposite','Status',\t'ForecastPerWeek',\t'ActualsPerWeek']],how='left', on='ProductCatComposite',suffixes=(None,'_20'))\n",
        "EightWeekData=EightWeekData.merge(CleanedData.loc[Data['WeeksOut']==-19][['ProductCatComposite','Status',\t'ForecastPerWeek',\t'ActualsPerWeek']],how='left', on='ProductCatComposite',suffixes=(None,'_19'))\n",
        "EightWeekData=EightWeekData.merge(CleanedData.loc[Data['WeeksOut']==-18][['ProductCatComposite','Status',\t'ForecastPerWeek',\t'ActualsPerWeek']],how='left', on='ProductCatComposite',suffixes=(None,'_18'))\n",
        "EightWeekData=EightWeekData.merge(CleanedData.loc[Data['WeeksOut']==-17][['ProductCatComposite','Status',\t'ForecastPerWeek',\t'ActualsPerWeek']],how='left', on='ProductCatComposite',suffixes=(None,'_17'))\n",
        "\n",
        "TwelveWeekData=EightWeekData\n",
        "TwelveWeekData=TwelveWeekData.merge(CleanedData.loc[Data['WeeksOut']==-16][['ProductCatComposite','Status',\t'ForecastPerWeek',\t'ActualsPerWeek']],how='left', on='ProductCatComposite',suffixes=(None,'_16'))\n",
        "TwelveWeekData=TwelveWeekData.merge(CleanedData.loc[Data['WeeksOut']==-15][['ProductCatComposite','Status',\t'ForecastPerWeek',\t'ActualsPerWeek']],how='left', on='ProductCatComposite',suffixes=(None,'_15'))\n",
        "TwelveWeekData=TwelveWeekData.merge(CleanedData.loc[Data['WeeksOut']==-14][['ProductCatComposite','Status',\t'ForecastPerWeek',\t'ActualsPerWeek']],how='left', on='ProductCatComposite',suffixes=(None,'_14'))\n",
        "TwelveWeekData=TwelveWeekData.merge(CleanedData.loc[Data['WeeksOut']==-13][['ProductCatComposite','Status',\t'ForecastPerWeek',\t'ActualsPerWeek']],how='left', on='ProductCatComposite',suffixes=(None,'_13'))\n",
        "\n",
        "SixteenWeekData=TwelveWeekData\n",
        "SixteenWeekData=SixteenWeekData.merge(CleanedData.loc[Data['WeeksOut']==-12][['ProductCatComposite','Status',\t'ForecastPerWeek',\t'ActualsPerWeek']],how='left', on='ProductCatComposite',suffixes=(None,'_12'))\n",
        "SixteenWeekData=SixteenWeekData.merge(CleanedData.loc[Data['WeeksOut']==-11][['ProductCatComposite','Status',\t'ForecastPerWeek',\t'ActualsPerWeek']],how='left', on='ProductCatComposite',suffixes=(None,'_11'))\n",
        "SixteenWeekData=SixteenWeekData.merge(CleanedData.loc[Data['WeeksOut']==-10][['ProductCatComposite','Status',\t'ForecastPerWeek',\t'ActualsPerWeek']],how='left', on='ProductCatComposite',suffixes=(None,'_10'))\n",
        "SixteenWeekData=SixteenWeekData.merge(CleanedData.loc[Data['WeeksOut']==-9][['ProductCatComposite','Status',\t'ForecastPerWeek',\t'ActualsPerWeek']],how='left', on='ProductCatComposite',suffixes=(None,'_9'))\n",
        "\n",
        "TwentyWeekData=SixteenWeekData\n",
        "TwentyWeekData=TwentyWeekData.merge(CleanedData.loc[Data['WeeksOut']==-8][['ProductCatComposite','Status',\t'ForecastPerWeek',\t'ActualsPerWeek']],how='left', on='ProductCatComposite',suffixes=(None,'_8'))\n",
        "TwentyWeekData=TwentyWeekData.merge(CleanedData.loc[Data['WeeksOut']==-7][['ProductCatComposite','Status',\t'ForecastPerWeek',\t'ActualsPerWeek']],how='left', on='ProductCatComposite',suffixes=(None,'_7'))\n",
        "TwentyWeekData=TwentyWeekData.merge(CleanedData.loc[Data['WeeksOut']==-6][['ProductCatComposite','Status',\t'ForecastPerWeek',\t'ActualsPerWeek']],how='left', on='ProductCatComposite',suffixes=(None,'_6'))\n",
        "TwentyWeekData=TwentyWeekData.merge(CleanedData.loc[Data['WeeksOut']==-5][['ProductCatComposite','Status',\t'ForecastPerWeek',\t'ActualsPerWeek']],how='left', on='ProductCatComposite',suffixes=(None,'_5'))\n",
        "\n",
        "TwentyfourWeekData=TwentyWeekData\n",
        "TwentyfourWeekData=TwentyfourWeekData.merge(CleanedData.loc[Data['WeeksOut']==-4][['ProductCatComposite','Status',\t'ForecastPerWeek',\t'ActualsPerWeek']],how='left', on='ProductCatComposite',suffixes=(None,'_4'))\n",
        "TwentyfourWeekData=TwentyfourWeekData.merge(CleanedData.loc[Data['WeeksOut']==-3][['ProductCatComposite','Status',\t'ForecastPerWeek',\t'ActualsPerWeek']],how='left', on='ProductCatComposite',suffixes=(None,'_3'))\n",
        "TwentyfourWeekData=TwentyfourWeekData.merge(CleanedData.loc[Data['WeeksOut']==-2][['ProductCatComposite','Status',\t'ForecastPerWeek',\t'ActualsPerWeek']],how='left', on='ProductCatComposite',suffixes=(None,'_2'))\n",
        "TwentyfourWeekData=TwentyfourWeekData.merge(CleanedData.loc[Data['WeeksOut']==-1][['ProductCatComposite','Status',\t'ForecastPerWeek',\t'ActualsPerWeek']],how='left', on='ProductCatComposite',suffixes=(None,'_1'))\n"
      ],
      "metadata": {
        "id": "E1Ro3CqhgY2w"
      },
      "execution_count": null,
      "outputs": []
    },
    {
      "cell_type": "code",
      "source": [
        "#Add the _24 suffixes\n",
        "new_names = [(i,i+'_24') for i in FourWeekData.iloc[:, 4:7].columns.values]\n",
        "FourWeekData.rename(columns = dict(new_names), inplace=True)\n",
        "EightWeekData.rename(columns = dict(new_names), inplace=True)\n",
        "TwelveWeekData.rename(columns = dict(new_names), inplace=True)\n",
        "SixteenWeekData.rename(columns = dict(new_names), inplace=True)\n",
        "TwentyWeekData.rename(columns = dict(new_names), inplace=True)\n",
        "TwentyfourWeekData.rename(columns = dict(new_names), inplace=True)"
      ],
      "metadata": {
        "id": "EGGMc946jMut"
      },
      "execution_count": null,
      "outputs": []
    },
    {
      "cell_type": "code",
      "source": [
        "#Reset Indexs\n",
        "FourWeekData.set_index('ProductCatComposite',inplace=True)\n",
        "EightWeekData.set_index('ProductCatComposite',inplace=True)\n",
        "TwelveWeekData.set_index('ProductCatComposite',inplace=True)\n",
        "SixteenWeekData.set_index('ProductCatComposite',inplace=True)\n",
        "TwentyWeekData.set_index('ProductCatComposite',inplace=True)\n",
        "TwentyfourWeekData.set_index('ProductCatComposite',inplace=True)"
      ],
      "metadata": {
        "id": "yXtF3Ta4tuu7"
      },
      "execution_count": null,
      "outputs": []
    },
    {
      "cell_type": "code",
      "source": [
        "#Drop any missing values\n",
        "FourWeekData=FourWeekData.dropna()\n",
        "EightWeekData=EightWeekData.dropna()\n",
        "TwelveWeekData=TwelveWeekData.dropna()\n",
        "SixteenWeekData=SixteenWeekData.dropna()\n",
        "TwentyWeekData=TwentyWeekData.dropna()\n",
        "TwentyfourWeekData=TwentyfourWeekData.dropna()"
      ],
      "metadata": {
        "id": "AhayH0OLo2XK"
      },
      "execution_count": null,
      "outputs": []
    },
    {
      "cell_type": "code",
      "source": [
        "#Get head to see new format\n",
        "EightWeekData.head()"
      ],
      "metadata": {
        "colab": {
          "base_uri": "https://localhost:8080/",
          "height": 331
        },
        "id": "NawqANqkl7Ix",
        "outputId": "989315eb-67f8-4b69-a0e1-b3cdf545380a"
      },
      "execution_count": null,
      "outputs": [
        {
          "output_type": "execute_result",
          "data": {
            "text/plain": [
              "                     DiscontinuedTF  SpringSummer  SalePriceIncVAT  Status_24  \\\n",
              "ProductCatComposite                                                             \n",
              "8108-89                           0             1            43.99        0.0   \n",
              "8108-90                           0             0            32.99        1.0   \n",
              "8108-91                           0             1            23.99        1.0   \n",
              "8108-92                           1             0            23.99        1.0   \n",
              "71280-89                          0             1            44.99        0.0   \n",
              "\n",
              "                     ForecastPerWeek_24  ActualsPerWeek_24  Status_23  \\\n",
              "ProductCatComposite                                                     \n",
              "8108-89                         208.666                0.0        0.0   \n",
              "8108-90                          49.708               68.0        1.0   \n",
              "8108-91                          26.583               18.0        1.0   \n",
              "8108-92                           8.041                4.0        1.0   \n",
              "71280-89                          5.875               12.0        0.0   \n",
              "\n",
              "                     ForecastPerWeek_23  ActualsPerWeek_23  Status_22  ...  \\\n",
              "ProductCatComposite                                                    ...   \n",
              "8108-89                         217.695                0.0        0.0  ...   \n",
              "8108-90                          43.130               60.0        1.0  ...   \n",
              "8108-91                          28.217               18.0        1.0  ...   \n",
              "8108-92                           7.913                6.0        1.0  ...   \n",
              "71280-89                          5.869               19.0        0.0  ...   \n",
              "\n",
              "                     ActualsPerWeek_20  Status_19  ForecastPerWeek_19  \\\n",
              "ProductCatComposite                                                     \n",
              "8108-89                            0.0        0.0             263.315   \n",
              "8108-90                           48.2        1.0              32.000   \n",
              "8108-91                           18.0        1.0              34.105   \n",
              "8108-92                            5.0        1.0               6.842   \n",
              "71280-89                          27.2        0.0             272.526   \n",
              "\n",
              "                     ActualsPerWeek_19  Status_18  ForecastPerWeek_18  \\\n",
              "ProductCatComposite                                                     \n",
              "8108-89                          0.000        0.0             563.444   \n",
              "8108-90                         44.833        1.0              32.000   \n",
              "8108-91                         16.000        1.0              36.555   \n",
              "8108-92                          4.833        1.0               6.833   \n",
              "71280-89                        28.500        0.0             242.055   \n",
              "\n",
              "                     ActualsPerWeek_18  Status_17  ForecastPerWeek_17  \\\n",
              "ProductCatComposite                                                     \n",
              "8108-89                          0.000        0.0             596.529   \n",
              "8108-90                         44.571        1.0              31.058   \n",
              "8108-91                         15.428        1.0              32.941   \n",
              "8108-92                          4.857        1.0               7.117   \n",
              "71280-89                        27.714        0.0             249.235   \n",
              "\n",
              "                     ActualsPerWeek_17  \n",
              "ProductCatComposite                     \n",
              "8108-89                          0.000  \n",
              "8108-90                         49.125  \n",
              "8108-91                         14.250  \n",
              "8108-92                          5.000  \n",
              "71280-89                        27.875  \n",
              "\n",
              "[5 rows x 27 columns]"
            ],
            "text/html": [
              "\n",
              "  <div id=\"df-7f84a373-953c-4a58-83f7-e194a5b33897\">\n",
              "    <div class=\"colab-df-container\">\n",
              "      <div>\n",
              "<style scoped>\n",
              "    .dataframe tbody tr th:only-of-type {\n",
              "        vertical-align: middle;\n",
              "    }\n",
              "\n",
              "    .dataframe tbody tr th {\n",
              "        vertical-align: top;\n",
              "    }\n",
              "\n",
              "    .dataframe thead th {\n",
              "        text-align: right;\n",
              "    }\n",
              "</style>\n",
              "<table border=\"1\" class=\"dataframe\">\n",
              "  <thead>\n",
              "    <tr style=\"text-align: right;\">\n",
              "      <th></th>\n",
              "      <th>DiscontinuedTF</th>\n",
              "      <th>SpringSummer</th>\n",
              "      <th>SalePriceIncVAT</th>\n",
              "      <th>Status_24</th>\n",
              "      <th>ForecastPerWeek_24</th>\n",
              "      <th>ActualsPerWeek_24</th>\n",
              "      <th>Status_23</th>\n",
              "      <th>ForecastPerWeek_23</th>\n",
              "      <th>ActualsPerWeek_23</th>\n",
              "      <th>Status_22</th>\n",
              "      <th>...</th>\n",
              "      <th>ActualsPerWeek_20</th>\n",
              "      <th>Status_19</th>\n",
              "      <th>ForecastPerWeek_19</th>\n",
              "      <th>ActualsPerWeek_19</th>\n",
              "      <th>Status_18</th>\n",
              "      <th>ForecastPerWeek_18</th>\n",
              "      <th>ActualsPerWeek_18</th>\n",
              "      <th>Status_17</th>\n",
              "      <th>ForecastPerWeek_17</th>\n",
              "      <th>ActualsPerWeek_17</th>\n",
              "    </tr>\n",
              "    <tr>\n",
              "      <th>ProductCatComposite</th>\n",
              "      <th></th>\n",
              "      <th></th>\n",
              "      <th></th>\n",
              "      <th></th>\n",
              "      <th></th>\n",
              "      <th></th>\n",
              "      <th></th>\n",
              "      <th></th>\n",
              "      <th></th>\n",
              "      <th></th>\n",
              "      <th></th>\n",
              "      <th></th>\n",
              "      <th></th>\n",
              "      <th></th>\n",
              "      <th></th>\n",
              "      <th></th>\n",
              "      <th></th>\n",
              "      <th></th>\n",
              "      <th></th>\n",
              "      <th></th>\n",
              "      <th></th>\n",
              "    </tr>\n",
              "  </thead>\n",
              "  <tbody>\n",
              "    <tr>\n",
              "      <th>8108-89</th>\n",
              "      <td>0</td>\n",
              "      <td>1</td>\n",
              "      <td>43.99</td>\n",
              "      <td>0.0</td>\n",
              "      <td>208.666</td>\n",
              "      <td>0.0</td>\n",
              "      <td>0.0</td>\n",
              "      <td>217.695</td>\n",
              "      <td>0.0</td>\n",
              "      <td>0.0</td>\n",
              "      <td>...</td>\n",
              "      <td>0.0</td>\n",
              "      <td>0.0</td>\n",
              "      <td>263.315</td>\n",
              "      <td>0.000</td>\n",
              "      <td>0.0</td>\n",
              "      <td>563.444</td>\n",
              "      <td>0.000</td>\n",
              "      <td>0.0</td>\n",
              "      <td>596.529</td>\n",
              "      <td>0.000</td>\n",
              "    </tr>\n",
              "    <tr>\n",
              "      <th>8108-90</th>\n",
              "      <td>0</td>\n",
              "      <td>0</td>\n",
              "      <td>32.99</td>\n",
              "      <td>1.0</td>\n",
              "      <td>49.708</td>\n",
              "      <td>68.0</td>\n",
              "      <td>1.0</td>\n",
              "      <td>43.130</td>\n",
              "      <td>60.0</td>\n",
              "      <td>1.0</td>\n",
              "      <td>...</td>\n",
              "      <td>48.2</td>\n",
              "      <td>1.0</td>\n",
              "      <td>32.000</td>\n",
              "      <td>44.833</td>\n",
              "      <td>1.0</td>\n",
              "      <td>32.000</td>\n",
              "      <td>44.571</td>\n",
              "      <td>1.0</td>\n",
              "      <td>31.058</td>\n",
              "      <td>49.125</td>\n",
              "    </tr>\n",
              "    <tr>\n",
              "      <th>8108-91</th>\n",
              "      <td>0</td>\n",
              "      <td>1</td>\n",
              "      <td>23.99</td>\n",
              "      <td>1.0</td>\n",
              "      <td>26.583</td>\n",
              "      <td>18.0</td>\n",
              "      <td>1.0</td>\n",
              "      <td>28.217</td>\n",
              "      <td>18.0</td>\n",
              "      <td>1.0</td>\n",
              "      <td>...</td>\n",
              "      <td>18.0</td>\n",
              "      <td>1.0</td>\n",
              "      <td>34.105</td>\n",
              "      <td>16.000</td>\n",
              "      <td>1.0</td>\n",
              "      <td>36.555</td>\n",
              "      <td>15.428</td>\n",
              "      <td>1.0</td>\n",
              "      <td>32.941</td>\n",
              "      <td>14.250</td>\n",
              "    </tr>\n",
              "    <tr>\n",
              "      <th>8108-92</th>\n",
              "      <td>1</td>\n",
              "      <td>0</td>\n",
              "      <td>23.99</td>\n",
              "      <td>1.0</td>\n",
              "      <td>8.041</td>\n",
              "      <td>4.0</td>\n",
              "      <td>1.0</td>\n",
              "      <td>7.913</td>\n",
              "      <td>6.0</td>\n",
              "      <td>1.0</td>\n",
              "      <td>...</td>\n",
              "      <td>5.0</td>\n",
              "      <td>1.0</td>\n",
              "      <td>6.842</td>\n",
              "      <td>4.833</td>\n",
              "      <td>1.0</td>\n",
              "      <td>6.833</td>\n",
              "      <td>4.857</td>\n",
              "      <td>1.0</td>\n",
              "      <td>7.117</td>\n",
              "      <td>5.000</td>\n",
              "    </tr>\n",
              "    <tr>\n",
              "      <th>71280-89</th>\n",
              "      <td>0</td>\n",
              "      <td>1</td>\n",
              "      <td>44.99</td>\n",
              "      <td>0.0</td>\n",
              "      <td>5.875</td>\n",
              "      <td>12.0</td>\n",
              "      <td>0.0</td>\n",
              "      <td>5.869</td>\n",
              "      <td>19.0</td>\n",
              "      <td>0.0</td>\n",
              "      <td>...</td>\n",
              "      <td>27.2</td>\n",
              "      <td>0.0</td>\n",
              "      <td>272.526</td>\n",
              "      <td>28.500</td>\n",
              "      <td>0.0</td>\n",
              "      <td>242.055</td>\n",
              "      <td>27.714</td>\n",
              "      <td>0.0</td>\n",
              "      <td>249.235</td>\n",
              "      <td>27.875</td>\n",
              "    </tr>\n",
              "  </tbody>\n",
              "</table>\n",
              "<p>5 rows × 27 columns</p>\n",
              "</div>\n",
              "      <button class=\"colab-df-convert\" onclick=\"convertToInteractive('df-7f84a373-953c-4a58-83f7-e194a5b33897')\"\n",
              "              title=\"Convert this dataframe to an interactive table.\"\n",
              "              style=\"display:none;\">\n",
              "        \n",
              "  <svg xmlns=\"http://www.w3.org/2000/svg\" height=\"24px\"viewBox=\"0 0 24 24\"\n",
              "       width=\"24px\">\n",
              "    <path d=\"M0 0h24v24H0V0z\" fill=\"none\"/>\n",
              "    <path d=\"M18.56 5.44l.94 2.06.94-2.06 2.06-.94-2.06-.94-.94-2.06-.94 2.06-2.06.94zm-11 1L8.5 8.5l.94-2.06 2.06-.94-2.06-.94L8.5 2.5l-.94 2.06-2.06.94zm10 10l.94 2.06.94-2.06 2.06-.94-2.06-.94-.94-2.06-.94 2.06-2.06.94z\"/><path d=\"M17.41 7.96l-1.37-1.37c-.4-.4-.92-.59-1.43-.59-.52 0-1.04.2-1.43.59L10.3 9.45l-7.72 7.72c-.78.78-.78 2.05 0 2.83L4 21.41c.39.39.9.59 1.41.59.51 0 1.02-.2 1.41-.59l7.78-7.78 2.81-2.81c.8-.78.8-2.07 0-2.86zM5.41 20L4 18.59l7.72-7.72 1.47 1.35L5.41 20z\"/>\n",
              "  </svg>\n",
              "      </button>\n",
              "      \n",
              "  <style>\n",
              "    .colab-df-container {\n",
              "      display:flex;\n",
              "      flex-wrap:wrap;\n",
              "      gap: 12px;\n",
              "    }\n",
              "\n",
              "    .colab-df-convert {\n",
              "      background-color: #E8F0FE;\n",
              "      border: none;\n",
              "      border-radius: 50%;\n",
              "      cursor: pointer;\n",
              "      display: none;\n",
              "      fill: #1967D2;\n",
              "      height: 32px;\n",
              "      padding: 0 0 0 0;\n",
              "      width: 32px;\n",
              "    }\n",
              "\n",
              "    .colab-df-convert:hover {\n",
              "      background-color: #E2EBFA;\n",
              "      box-shadow: 0px 1px 2px rgba(60, 64, 67, 0.3), 0px 1px 3px 1px rgba(60, 64, 67, 0.15);\n",
              "      fill: #174EA6;\n",
              "    }\n",
              "\n",
              "    [theme=dark] .colab-df-convert {\n",
              "      background-color: #3B4455;\n",
              "      fill: #D2E3FC;\n",
              "    }\n",
              "\n",
              "    [theme=dark] .colab-df-convert:hover {\n",
              "      background-color: #434B5C;\n",
              "      box-shadow: 0px 1px 3px 1px rgba(0, 0, 0, 0.15);\n",
              "      filter: drop-shadow(0px 1px 2px rgba(0, 0, 0, 0.3));\n",
              "      fill: #FFFFFF;\n",
              "    }\n",
              "  </style>\n",
              "\n",
              "      <script>\n",
              "        const buttonEl =\n",
              "          document.querySelector('#df-7f84a373-953c-4a58-83f7-e194a5b33897 button.colab-df-convert');\n",
              "        buttonEl.style.display =\n",
              "          google.colab.kernel.accessAllowed ? 'block' : 'none';\n",
              "\n",
              "        async function convertToInteractive(key) {\n",
              "          const element = document.querySelector('#df-7f84a373-953c-4a58-83f7-e194a5b33897');\n",
              "          const dataTable =\n",
              "            await google.colab.kernel.invokeFunction('convertToInteractive',\n",
              "                                                     [key], {});\n",
              "          if (!dataTable) return;\n",
              "\n",
              "          const docLinkHtml = 'Like what you see? Visit the ' +\n",
              "            '<a target=\"_blank\" href=https://colab.research.google.com/notebooks/data_table.ipynb>data table notebook</a>'\n",
              "            + ' to learn more about interactive tables.';\n",
              "          element.innerHTML = '';\n",
              "          dataTable['output_type'] = 'display_data';\n",
              "          await google.colab.output.renderOutput(dataTable, element);\n",
              "          const docLink = document.createElement('div');\n",
              "          docLink.innerHTML = docLinkHtml;\n",
              "          element.appendChild(docLink);\n",
              "        }\n",
              "      </script>\n",
              "    </div>\n",
              "  </div>\n",
              "  "
            ]
          },
          "metadata": {},
          "execution_count": 17
        }
      ]
    },
    {
      "cell_type": "markdown",
      "source": [
        "## Metric Functions"
      ],
      "metadata": {
        "id": "HMIgZmUo0iqS"
      }
    },
    {
      "cell_type": "code",
      "source": [
        "#Create metric function for SVM and Forest Models\n",
        "def get_metrics(dataset_, y_true, model):\n",
        "    #Get predictions\n",
        "    y_pred = model.predict(dataset_)\n",
        "    #Use Binary average as two class problem\n",
        "    p = precision_score(y_true, y_pred, average='binary')\n",
        "    r = recall_score(y_true, y_pred, average='binary')\n",
        "    f1 = f1_score(y_true, y_pred, average='binary')\n",
        "    a = accuracy_score(y_true, y_pred)\n",
        "    return (a, p, r, f1)"
      ],
      "metadata": {
        "id": "gf0L15nH0m00"
      },
      "execution_count": null,
      "outputs": []
    },
    {
      "cell_type": "code",
      "source": [
        "#Same as above with one change\n",
        "def get_metrics_nn(dataset_, y_true, model):\n",
        "    #NN returns probabilities, round to get predictions\n",
        "    prob_pred = model.predict(dataset_)\n",
        "    y_pred= np.around(prob_pred)\n",
        "    #Use Binary average\n",
        "    p = precision_score(y_true, y_pred, average='binary')\n",
        "    r = recall_score(y_true, y_pred, average='binary')\n",
        "    f1 = f1_score(y_true, y_pred, average='binary')\n",
        "    a = accuracy_score(y_true, y_pred)\n",
        "    return (a, p, r, f1)"
      ],
      "metadata": {
        "id": "ca8ousts0m00"
      },
      "execution_count": null,
      "outputs": []
    },
    {
      "cell_type": "code",
      "source": [
        "#Define confusion matrix function \n",
        "def get_confusion_matrix(dataset_, y_true, model):\n",
        "    y_pred= model.predict(dataset_)\n",
        "    cm = confusion_matrix(y_true, y_pred)\n",
        "    return cm"
      ],
      "metadata": {
        "id": "fipMGE421ySa"
      },
      "execution_count": null,
      "outputs": []
    },
    {
      "cell_type": "markdown",
      "source": [
        "# EDA"
      ],
      "metadata": {
        "id": "IiUFinOoJ6gg"
      }
    },
    {
      "cell_type": "code",
      "source": [
        "#Set plot size\n",
        "plt.figure(figsize=(10,8))\n",
        "#Create a bar chart using pandas syntax and value counts\n",
        "WideData['DiscontinuedTF'].value_counts().plot(kind='bar')\n",
        "#change xtick labels to True and False\n",
        "plt.xticks([0,1], ['False','True'], rotation='horizontal')\n",
        "#Add x and ylabels, as well as title\n",
        "plt.xlabel('Discontinued?')\n",
        "plt.ylabel('Count')\n",
        "plt.title('Total Discontinued and Not Discontinued Counts')\n",
        "plt.show()"
      ],
      "metadata": {
        "colab": {
          "base_uri": "https://localhost:8080/",
          "height": 513
        },
        "id": "F54KGtazJ9Vv",
        "outputId": "ad47b14b-8076-4762-a28f-6c06d7753593"
      },
      "execution_count": null,
      "outputs": [
        {
          "output_type": "display_data",
          "data": {
            "text/plain": [
              "<Figure size 720x576 with 1 Axes>"
            ],
            "image/png": "[encoded data removed]"
          },
          "metadata": {
            "needs_background": "light"
          }
        }
      ]
    },
    {
      "cell_type": "code",
      "source": [
        "#Find the max forecast value for each product catalogue composite\n",
        "maxvalsforecastTrue=TwentyfourWeekData.loc[TwentyfourWeekData['DiscontinuedTF']==1].iloc[:,list(range(4,75,3))].max(axis=1)\n",
        "maxvalsforecastFalse=TwentyfourWeekData.loc[TwentyfourWeekData['DiscontinuedTF']==0].iloc[:,list(range(4,75,3))].max(axis=1)\n",
        "\n",
        "#scale the forecast values using these maxs\n",
        "forecastscaledTrue=(TwentyfourWeekData.loc[TwentyfourWeekData['DiscontinuedTF']==1].iloc[:,list(range(4,75,3))].T/maxvalsforecastTrue).T\n",
        "forecastscaledFalse=(TwentyfourWeekData.loc[TwentyfourWeekData['DiscontinuedTF']==0].iloc[:,list(range(4,75,3))].T/maxvalsforecastFalse).T\n",
        "\n",
        "#figure size\n",
        "plt.figure(figsize=(10,8))\n",
        "#Plot the mean scaled forecasts for the two target classes\n",
        "plt.plot(forecastscaledTrue.mean(), label='Discontinued')\n",
        "plt.plot(forecastscaledFalse.mean(), label='Not Discontinued')\n",
        "#Change xticks to weeks out\n",
        "plt.xticks(list(range(0,24)), list(range(24,0,-1)), rotation='horizontal')\n",
        "#Add labels\n",
        "plt.xlabel('Weeks Out')\n",
        "plt.ylabel('Proportion of Forecast Sales compared to max for each product')\n",
        "plt.title('Forecast Sales Over Time between Discontinued and Not Discontinued Products')\n",
        "#Add legend\n",
        "plt.legend(loc='best')\n",
        "plt.show()"
      ],
      "metadata": {
        "colab": {
          "base_uri": "https://localhost:8080/",
          "height": 513
        },
        "id": "YkVG_FUILkfE",
        "outputId": "4faca931-bb3d-415d-cba1-3e454f7ef08b"
      },
      "execution_count": null,
      "outputs": [
        {
          "output_type": "display_data",
          "data": {
            "text/plain": [
              "<Figure size 720x576 with 1 Axes>"
            ],
            "image/png": "[encoded data removed]"
          },
          "metadata": {
            "needs_background": "light"
          }
        }
      ]
    },
    {
      "cell_type": "code",
      "source": [
        "#Same as above except with actual values\n",
        "maxvalsactualTrue=TwentyfourWeekData.loc[TwentyfourWeekData['DiscontinuedTF']==1].iloc[:,list(range(5,75,3))].max(axis=1)\n",
        "maxvalsactualFalse=TwentyfourWeekData.loc[TwentyfourWeekData['DiscontinuedTF']==0].iloc[:,list(range(5,75,3))].max(axis=1)\n",
        "\n",
        "actualscaledTrue=(TwentyfourWeekData.loc[TwentyfourWeekData['DiscontinuedTF']==1].iloc[:,list(range(5,75,3))].T/maxvalsactualTrue).T\n",
        "actualscaledFalse=(TwentyfourWeekData.loc[TwentyfourWeekData['DiscontinuedTF']==0].iloc[:,list(range(5,75,3))].T/maxvalsactualFalse).T\n",
        "\n",
        "plt.figure(figsize=(10,8))\n",
        "plt.plot(actualscaledTrue.mean(), label='Discontinued')\n",
        "plt.plot(actualscaledFalse.mean(), label='Not Discontinued')\n",
        "plt.xticks(list(range(0,24)), list(range(24,0,-1)), rotation='horizontal')\n",
        "plt.xlabel('Weeks Out')\n",
        "plt.ylabel('Proportion of Actual Sales compared to max for each product')\n",
        "plt.title('Actual Sales Over Time between Discontinued and Not Discontinued Products')\n",
        "plt.legend(loc='best')\n",
        "plt.show()"
      ],
      "metadata": {
        "colab": {
          "base_uri": "https://localhost:8080/",
          "height": 513
        },
        "outputId": "9ba4848e-ea99-4722-97b1-55d7a3842481",
        "id": "Uhl4PDwaW7z2"
      },
      "execution_count": null,
      "outputs": [
        {
          "output_type": "display_data",
          "data": {
            "text/plain": [
              "<Figure size 720x576 with 1 Axes>"
            ],
            "image/png": "[encoded data removed]"
          },
          "metadata": {
            "needs_background": "light"
          }
        }
      ]
    },
    {
      "cell_type": "code",
      "source": [
        "#Same as DiscontinuedTF barplots but with SpringSummer\n",
        "plt.figure(figsize=(10,8))\n",
        "WideData['SpringSummer'].value_counts().plot(kind='bar')\n",
        "plt.xticks([0,1], ['Autumn or Winter','Spring or Summer'], rotation='horizontal')\n",
        "plt.xlabel('Season')\n",
        "plt.ylabel('Count')\n",
        "plt.title('Total Counts of Products between Seasons')\n",
        "plt.show()"
      ],
      "metadata": {
        "colab": {
          "base_uri": "https://localhost:8080/",
          "height": 513
        },
        "id": "dF5PGpiigC2N",
        "outputId": "7188488b-be2f-4e32-f607-b656c21e79a3"
      },
      "execution_count": null,
      "outputs": [
        {
          "output_type": "display_data",
          "data": {
            "text/plain": [
              "<Figure size 720x576 with 1 Axes>"
            ],
            "image/png": "[encoded data removed]"
          },
          "metadata": {
            "needs_background": "light"
          }
        }
      ]
    },
    {
      "cell_type": "code",
      "source": [
        "#Set width\n",
        "width=0.3\n",
        "#Get value counts and index\n",
        "a=WideData['DiscontinuedTF'].loc[WideData['SpringSummer']==1].value_counts()\n",
        "x = list(a.index)\n",
        "y = list(a)\n",
        "#Repeat for AutumnWinter\n",
        "b=WideData['DiscontinuedTF'].loc[WideData['SpringSummer']==0].value_counts()\n",
        "x2 = list(b.index)\n",
        "y2 = list(b)\n",
        "plt.figure(figsize=(10,8))\n",
        "#Create bar plot using Spring and Summer\n",
        "plt.bar(x,y,width,label='Spring or Summer')\n",
        "#Creat offsetted bar plots for Autumn and Winter\n",
        "plt.bar([x+width for x in x2],y2,width,label='Autumn or Winter')\n",
        "#Set xticks to middle\n",
        "plt.xticks([0.15,1.15], ['False','True'], rotation='horizontal')\n",
        "#Add labels and legend\n",
        "plt.xlabel('Discontinued?')\n",
        "plt.ylabel('Count')\n",
        "plt.title('Count of Discontinued vs Not Discontinued between Seasons')\n",
        "plt.legend(loc='best')\n",
        "plt.show()"
      ],
      "metadata": {
        "colab": {
          "base_uri": "https://localhost:8080/",
          "height": 513
        },
        "id": "ZkGFBoccXmAY",
        "outputId": "6210b0fb-35ed-43ea-a1c8-e9c8b137146e"
      },
      "execution_count": null,
      "outputs": [
        {
          "output_type": "display_data",
          "data": {
            "text/plain": [
              "<Figure size 720x576 with 1 Axes>"
            ],
            "image/png": "[encoded data removed]"
          },
          "metadata": {
            "needs_background": "light"
          }
        }
      ]
    },
    {
      "cell_type": "code",
      "source": [
        "plt.figure(figsize=(10,8))\n",
        "#Densitpy plots for price, using seaborn (may take slightly longer to run)\n",
        "WideData.loc[WideData['DiscontinuedTF']==1].SalePriceIncVAT.plot.density(label='Discontinued')\n",
        "WideData.loc[WideData['DiscontinuedTF']==0].SalePriceIncVAT.plot.density(label='Not Discontinued')\n",
        "#Set lims to make more viewable\n",
        "plt.xlim(0,500)\n",
        "plt.ylim(0,0.016)\n",
        "#Add labels\n",
        "plt.xlabel('Sale Price Inc VAT')\n",
        "plt.title('Density of Prices between Discontinued and Not Discontinued')\n",
        "plt.legend(loc='best')\n",
        "plt.show()"
      ],
      "metadata": {
        "colab": {
          "base_uri": "https://localhost:8080/",
          "height": 513
        },
        "id": "khpt3oKKazAd",
        "outputId": "fedf498a-1f76-40df-ef10-f7be4302c6ab"
      },
      "execution_count": null,
      "outputs": [
        {
          "output_type": "display_data",
          "data": {
            "text/plain": [
              "<Figure size 720x576 with 1 Axes>"
            ],
            "image/png": "[encoded data removed]"
          },
          "metadata": {
            "needs_background": "light"
          }
        }
      ]
    },
    {
      "cell_type": "code",
      "source": [
        "plt.figure(figsize=(10,8))\n",
        "#Take mean of Status to find proportion RO\n",
        "plt.plot(TwentyfourWeekData.loc[TwentyfourWeekData['DiscontinuedTF']==1].iloc[:,list(range(3,75,3))].mean(), label='Discontinued')\n",
        "plt.plot(TwentyfourWeekData.loc[TwentyfourWeekData['DiscontinuedTF']==0].iloc[:,list(range(3,75,3))].mean(), label='Not Discontinued')\n",
        "#xticks\n",
        "plt.xticks(list(range(0,24)), list(range(24,0,-1)), rotation='horizontal')\n",
        "#labels and legend\n",
        "plt.xlabel('Weeks Out')\n",
        "plt.ylabel('Proportion of Products Running Out')\n",
        "plt.title('Proportion of Running Out Products over time between Discontinued and Not Discontinued')\n",
        "plt.legend(loc='best')\n",
        "plt.show()"
      ],
      "metadata": {
        "colab": {
          "base_uri": "https://localhost:8080/",
          "height": 513
        },
        "id": "WWd3Cu3sgq3c",
        "outputId": "29eabe39-31a1-47f6-f0c8-44a7320398d4"
      },
      "execution_count": null,
      "outputs": [
        {
          "output_type": "display_data",
          "data": {
            "text/plain": [
              "<Figure size 720x576 with 1 Axes>"
            ],
            "image/png": "[encoded data removed]"
          },
          "metadata": {
            "needs_background": "light"
          }
        }
      ]
    },
    {
      "cell_type": "markdown",
      "source": [
        "#Model Creation, Fitting, and Comparison"
      ],
      "metadata": {
        "id": "eNN4Nz1UzjCj"
      }
    },
    {
      "cell_type": "markdown",
      "source": [
        "## Four Week Data Models"
      ],
      "metadata": {
        "id": "cnPqwrSUs-lq"
      }
    },
    {
      "cell_type": "code",
      "source": [
        "#Comments are only in Four Week Models, as the code is syntaxically the same for all other datasets"
      ],
      "metadata": {
        "id": "Jx3hWBQ6d63H"
      },
      "execution_count": null,
      "outputs": []
    },
    {
      "cell_type": "markdown",
      "source": [
        "### Data Splitting"
      ],
      "metadata": {
        "id": "6gZzz2H6qk3x"
      }
    },
    {
      "cell_type": "code",
      "source": [
        "#Perform data splitting into train, val, and test\n",
        "FourTrain, FourTest=train_test_split(FourWeekData, train_size=0.8, random_state=31415)\n",
        "FourTrain, FourVal=train_test_split(FourTrain, train_size=0.9, random_state=31415)"
      ],
      "metadata": {
        "id": "fEU6rkgaxTiZ"
      },
      "execution_count": null,
      "outputs": []
    },
    {
      "cell_type": "code",
      "source": [
        "#Split into Target and Feature Variables\n",
        "FourTrainY=FourTrain['DiscontinuedTF']\n",
        "FourTrainX=FourTrain.iloc[:,1:]\n",
        "\n",
        "FourValY=FourVal['DiscontinuedTF']\n",
        "FourValX=FourVal.iloc[:,1:]\n",
        "\n",
        "FourTestY=FourTest['DiscontinuedTF']\n",
        "FourTestX=FourTest.iloc[:,1:]"
      ],
      "metadata": {
        "id": "twZ4_02Huv2B"
      },
      "execution_count": null,
      "outputs": []
    },
    {
      "cell_type": "markdown",
      "source": [
        "### Random Forest"
      ],
      "metadata": {
        "id": "yI1JwYr1qpYM"
      }
    },
    {
      "cell_type": "code",
      "source": [
        "#Call Random forest with set random state\n",
        "FourWeekForest = ensemble.RandomForestClassifier(random_state=31415)\n",
        "#Fit forest using training data\n",
        "FourWeekForest = FourWeekForest.fit(FourTrainX, FourTrainY)"
      ],
      "metadata": {
        "id": "Nhm3CaXzuotB"
      },
      "execution_count": null,
      "outputs": []
    },
    {
      "cell_type": "code",
      "source": [
        "#Get training metrics\n",
        "FourForestTrainMetrics=get_metrics(FourTrainX, FourTrainY, FourWeekForest)\n",
        "print('Training Accuracy Score:'+ str(FourForestTrainMetrics[0]))\n",
        "print('Training Precision Score:'+ str(FourForestTrainMetrics[1]))\n",
        "print('Training Recall Score:'+ str(FourForestTrainMetrics[2]))\n",
        "print('Training F1 Score:'+ str(FourForestTrainMetrics[3]))"
      ],
      "metadata": {
        "colab": {
          "base_uri": "https://localhost:8080/"
        },
        "id": "vKLOJintvfCq",
        "outputId": "8a119628-4b7d-4d86-fb80-1a8cfb7d0344"
      },
      "execution_count": null,
      "outputs": [
        {
          "output_type": "stream",
          "name": "stdout",
          "text": [
            "Training Accuracy Score:0.9996963445239307\n",
            "Training Precision Score:0.9996354799513973\n",
            "Training Recall Score:0.9996759690550447\n",
            "Training F1 Score:0.999655724093238\n"
          ]
        }
      ]
    },
    {
      "cell_type": "code",
      "source": [
        "#And validation metrics\n",
        "FourForestValMetrics=get_metrics(FourValX, FourValY, FourWeekForest)\n",
        "print('Validation Accuracy Score:'+ str(FourForestValMetrics[0]))\n",
        "print('Validation Precision Score:'+ str(FourForestValMetrics[1]))\n",
        "print('Validation Recall Score:'+ str(FourForestValMetrics[2]))\n",
        "print('Validation F1 Score:'+ str(FourForestValMetrics[3]))"
      ],
      "metadata": {
        "colab": {
          "base_uri": "https://localhost:8080/"
        },
        "id": "2Zkb_IB2yKi1",
        "outputId": "13030e22-2ad0-4bb5-eae4-63270cbd3836"
      },
      "execution_count": null,
      "outputs": [
        {
          "output_type": "stream",
          "name": "stdout",
          "text": [
            "Validation Accuracy Score:0.7818503335744715\n",
            "Validation Precision Score:0.7670932358318099\n",
            "Validation Recall Score:0.7444996451383961\n",
            "Validation F1 Score:0.7556275886907978\n"
          ]
        }
      ]
    },
    {
      "cell_type": "markdown",
      "source": [
        "### SVM"
      ],
      "metadata": {
        "id": "xUfDoNpWqtKB"
      }
    },
    {
      "cell_type": "code",
      "source": [
        "#Same as with forest, but using SVC\n",
        "FourWeekSVM = svm.SVC(random_state=31415)\n",
        "FourWeekSVM = FourWeekSVM.fit(FourTrainX, FourTrainY)"
      ],
      "metadata": {
        "id": "eUKOremiHfMU"
      },
      "execution_count": null,
      "outputs": []
    },
    {
      "cell_type": "code",
      "source": [
        "FourSVMTrainMetrics=get_metrics(FourTrainX, FourTrainY, FourWeekSVM)\n",
        "print('Training Accuracy Score:'+ str(FourSVMTrainMetrics[0]))\n",
        "print('Training Precision Score:'+ str(FourSVMTrainMetrics[1]))\n",
        "print('Training Recall Score:'+ str(FourSVMTrainMetrics[2]))\n",
        "print('Training F1 Score:'+ str(FourSVMTrainMetrics[3]))"
      ],
      "metadata": {
        "id": "ZQxVP41yHfMZ",
        "colab": {
          "base_uri": "https://localhost:8080/"
        },
        "outputId": "240237ad-641f-466a-99f5-8242db0e6ec4"
      },
      "execution_count": null,
      "outputs": [
        {
          "output_type": "stream",
          "name": "stdout",
          "text": [
            "Training Accuracy Score:0.6601559360180049\n",
            "Training Precision Score:0.631611973598587\n",
            "Training Recall Score:0.5503868119405403\n",
            "Training F1 Score:0.5882085578858516\n"
          ]
        }
      ]
    },
    {
      "cell_type": "code",
      "source": [
        "FourSVMValMetrics=get_metrics(FourValX, FourValY, FourWeekSVM)\n",
        "print('Validation Accuracy Score:'+ str(FourSVMValMetrics[0]))\n",
        "print('Validation Precision Score:'+ str(FourSVMValMetrics[1]))\n",
        "print('Validation Recall Score:'+ str(FourSVMValMetrics[2]))\n",
        "print('Validation F1 Score:'+ str(FourSVMValMetrics[3]))"
      ],
      "metadata": {
        "id": "-PR8lH9nHfMa",
        "colab": {
          "base_uri": "https://localhost:8080/"
        },
        "outputId": "39ba5a47-6163-459c-d38a-bc7c30cc52e4"
      },
      "execution_count": null,
      "outputs": [
        {
          "output_type": "stream",
          "name": "stdout",
          "text": [
            "Validation Accuracy Score:0.6600755566272808\n",
            "Validation Precision Score:0.6469605180697723\n",
            "Validation Recall Score:0.5495031937544358\n",
            "Validation F1 Score:0.5942626882855224\n"
          ]
        }
      ]
    },
    {
      "cell_type": "markdown",
      "source": [
        "### Neural Network"
      ],
      "metadata": {
        "id": "m5G1d8Qrq5Ip"
      }
    },
    {
      "cell_type": "code",
      "source": [
        "#Set Neural Network to be sequential\n",
        "FourWeekNN = Sequential()\n",
        "#Add a dense layer\n",
        "FourWeekNN.add(Dense(12, activation=\"relu\"))\n",
        "#and an output layer\n",
        "FourWeekNN.add(Dense(1, activation=\"sigmoid\"))"
      ],
      "metadata": {
        "id": "aPO4rqLgGmsD"
      },
      "execution_count": null,
      "outputs": []
    },
    {
      "cell_type": "code",
      "source": [
        "#Set keras seed\n",
        "keras.utils.set_random_seed(31415)\n",
        "#Compile using BCE and RMSProp\n",
        "FourWeekNN.compile(\n",
        "    loss=\"binary_crossentropy\", optimizer=\"rmsprop\", \n",
        "    metrics=[\"acc\"]\n",
        ")\n",
        "#Fit with appropriate epochs and batch size\n",
        "FourWeekNN.fit(FourTrainX, FourTrainY, epochs=10, batch_size=128)"
      ],
      "metadata": {
        "id": "JRqQX6HaHprL",
        "colab": {
          "base_uri": "https://localhost:8080/"
        },
        "outputId": "68952934-4de9-417a-c788-43013cba137a"
      },
      "execution_count": null,
      "outputs": [
        {
          "output_type": "stream",
          "name": "stdout",
          "text": [
            "Epoch 1/10\n",
            "875/875 [==============================] - 3s 2ms/step - loss: 2.1261 - acc: 0.6521\n",
            "Epoch 2/10\n",
            "875/875 [==============================] - 2s 2ms/step - loss: 1.1788 - acc: 0.6942\n",
            "Epoch 3/10\n",
            "875/875 [==============================] - 2s 2ms/step - loss: 0.9834 - acc: 0.7073\n",
            "Epoch 4/10\n",
            "875/875 [==============================] - 2s 2ms/step - loss: 0.8800 - acc: 0.7128\n",
            "Epoch 5/10\n",
            "875/875 [==============================] - 2s 2ms/step - loss: 0.8398 - acc: 0.7155\n",
            "Epoch 6/10\n",
            "875/875 [==============================] - 2s 2ms/step - loss: 0.8134 - acc: 0.7187\n",
            "Epoch 7/10\n",
            "875/875 [==============================] - 2s 2ms/step - loss: 0.7933 - acc: 0.7206\n",
            "Epoch 8/10\n",
            "875/875 [==============================] - 2s 2ms/step - loss: 0.7767 - acc: 0.7234\n",
            "Epoch 9/10\n",
            "875/875 [==============================] - 2s 2ms/step - loss: 0.7751 - acc: 0.7237\n",
            "Epoch 10/10\n",
            "875/875 [==============================] - 2s 2ms/step - loss: 0.7661 - acc: 0.7241\n"
          ]
        },
        {
          "output_type": "execute_result",
          "data": {
            "text/plain": [
              "<keras.callbacks.History at 0x7f28f02d2f10>"
            ]
          },
          "metadata": {},
          "execution_count": 61
        }
      ]
    },
    {
      "cell_type": "code",
      "source": [
        "#Summary to infer output shape and parameters for all following models\n",
        "FourWeekNN.summary()"
      ],
      "metadata": {
        "colab": {
          "base_uri": "https://localhost:8080/"
        },
        "id": "muRADyXguL21",
        "outputId": "cecbb1bd-02c4-4930-ecd2-95b130b63a2c"
      },
      "execution_count": null,
      "outputs": [
        {
          "output_type": "stream",
          "name": "stdout",
          "text": [
            "Model: \"sequential_1\"\n",
            "_________________________________________________________________\n",
            " Layer (type)                Output Shape              Param #   \n",
            "=================================================================\n",
            " dense_2 (Dense)             (None, 12)                180       \n",
            "                                                                 \n",
            " dense_3 (Dense)             (None, 1)                 13        \n",
            "                                                                 \n",
            "=================================================================\n",
            "Total params: 193\n",
            "Trainable params: 193\n",
            "Non-trainable params: 0\n",
            "_________________________________________________________________\n"
          ]
        }
      ]
    },
    {
      "cell_type": "code",
      "source": [
        "#Metrics use nn version\n",
        "FourNNTrainMetrics=get_metrics_nn(FourTrainX, FourTrainY, FourWeekNN)\n",
        "print('Training Accuracy Score:'+ str(FourNNTrainMetrics[0]))\n",
        "print('Training Precision Score:'+ str(FourNNTrainMetrics[1]))\n",
        "print('Training Recall Score:'+ str(FourNNTrainMetrics[2]))\n",
        "print('Training F1 Score:'+ str(FourNNTrainMetrics[3]))"
      ],
      "metadata": {
        "id": "2aSfUbKdIJzk",
        "colab": {
          "base_uri": "https://localhost:8080/"
        },
        "outputId": "bd190afd-eba2-4294-aac3-3c82894af7e2"
      },
      "execution_count": null,
      "outputs": [
        {
          "output_type": "stream",
          "name": "stdout",
          "text": [
            "Training Accuracy Score:0.7462958497441257\n",
            "Training Precision Score:0.6920878597468262\n",
            "Training Recall Score:0.7650978168415083\n",
            "Training F1 Score:0.7267638147453469\n"
          ]
        }
      ]
    },
    {
      "cell_type": "code",
      "source": [
        "FourNNValMetrics=get_metrics_nn(FourValX, FourValY, FourWeekNN)\n",
        "print('Validation Accuracy Score:'+ str(FourNNValMetrics[0]))\n",
        "print('Validation Precision Score:'+ str(FourNNValMetrics[1]))\n",
        "print('Validation Recall Score:'+ str(FourNNValMetrics[2]))\n",
        "print('Validation F1 Score:'+ str(FourNNValMetrics[3]))"
      ],
      "metadata": {
        "id": "Wq3tx14uIJzl",
        "colab": {
          "base_uri": "https://localhost:8080/"
        },
        "outputId": "0e55a818-08c1-418c-cefd-d7c2af58324b"
      },
      "execution_count": null,
      "outputs": [
        {
          "output_type": "stream",
          "name": "stdout",
          "text": [
            "Validation Accuracy Score:0.7486536452053694\n",
            "Validation Precision Score:0.7067743530575243\n",
            "Validation Recall Score:0.7608232789212207\n",
            "Validation F1 Score:0.7328035546441084\n"
          ]
        }
      ]
    },
    {
      "cell_type": "markdown",
      "source": [
        "## Eight Week Data Models"
      ],
      "metadata": {
        "id": "q68q9SXPsjZg"
      }
    },
    {
      "cell_type": "markdown",
      "source": [
        "### Data Splitting"
      ],
      "metadata": {
        "id": "IdG2x_scsjZl"
      }
    },
    {
      "cell_type": "code",
      "source": [
        "EightTrain, EightTest=train_test_split(EightWeekData, train_size=0.8, random_state=31415)\n",
        "EightTrain, EightVal=train_test_split(EightTrain, train_size=0.9, random_state=31415)"
      ],
      "metadata": {
        "id": "caIlp11JsjZm"
      },
      "execution_count": null,
      "outputs": []
    },
    {
      "cell_type": "code",
      "source": [
        "EightTrainY=EightTrain['DiscontinuedTF']\n",
        "EightTrainX=EightTrain.iloc[:,1:]\n",
        "\n",
        "EightValY=EightVal['DiscontinuedTF']\n",
        "EightValX=EightVal.iloc[:,1:]\n",
        "\n",
        "EightTestY=EightTest['DiscontinuedTF']\n",
        "EightTestX=EightTest.iloc[:,1:]"
      ],
      "metadata": {
        "id": "Ji1aTG0SsjZm"
      },
      "execution_count": null,
      "outputs": []
    },
    {
      "cell_type": "markdown",
      "source": [
        "### Random Forest"
      ],
      "metadata": {
        "id": "7tS6bKEVsjZm"
      }
    },
    {
      "cell_type": "code",
      "source": [
        "EightWeekForest = ensemble.RandomForestClassifier(random_state=31415)\n",
        "EightWeekForest = EightWeekForest.fit(EightTrainX, EightTrainY)"
      ],
      "metadata": {
        "id": "jXmZhgzLsjZm"
      },
      "execution_count": null,
      "outputs": []
    },
    {
      "cell_type": "code",
      "source": [
        "EightForestTrainMetrics=get_metrics(EightTrainX, EightTrainY, EightWeekForest)\n",
        "print('Training Accuracy Score:'+ str(EightForestTrainMetrics[0]))\n",
        "print('Training Precision Score:'+ str(EightForestTrainMetrics[1]))\n",
        "print('Training Recall Score:'+ str(EightForestTrainMetrics[2]))\n",
        "print('Training F1 Score:'+ str(EightForestTrainMetrics[3]))"
      ],
      "metadata": {
        "colab": {
          "base_uri": "https://localhost:8080/"
        },
        "outputId": "2306831d-b796-462f-a5fe-905ba5362418",
        "id": "h5r0axqnsjZm"
      },
      "execution_count": null,
      "outputs": [
        {
          "output_type": "stream",
          "name": "stdout",
          "text": [
            "Training Accuracy Score:0.9999547756874095\n",
            "Training Precision Score:0.9999170141698305\n",
            "Training Recall Score:0.9999792522511307\n",
            "Training F1 Score:0.9999481322420357\n"
          ]
        }
      ]
    },
    {
      "cell_type": "code",
      "source": [
        "EightForestValMetrics=get_metrics(EightValX, EightValY, EightWeekForest)\n",
        "print('Validation Accuracy Score:'+ str(EightForestValMetrics[0]))\n",
        "print('Validation Precision Score:'+ str(EightForestValMetrics[1]))\n",
        "print('Validation Recall Score:'+ str(EightForestValMetrics[2]))\n",
        "print('Validation F1 Score:'+ str(EightForestValMetrics[3]))"
      ],
      "metadata": {
        "colab": {
          "base_uri": "https://localhost:8080/"
        },
        "outputId": "ba9a86d3-9c93-404d-e9e3-ffb690b040a2",
        "id": "zSZpvIRLsjZm"
      },
      "execution_count": null,
      "outputs": [
        {
          "output_type": "stream",
          "name": "stdout",
          "text": [
            "Validation Accuracy Score:0.8385022385022385\n",
            "Validation Precision Score:0.826306586360987\n",
            "Validation Recall Score:0.7959947594984091\n",
            "Validation F1 Score:0.8108674928503338\n"
          ]
        }
      ]
    },
    {
      "cell_type": "markdown",
      "source": [
        "### SVM"
      ],
      "metadata": {
        "id": "kKMSlOFysjZm"
      }
    },
    {
      "cell_type": "code",
      "source": [
        "EightWeekSVM = svm.SVC(random_state=31415)\n",
        "EightWeekSVM = EightWeekSVM.fit(EightTrainX, EightTrainY)"
      ],
      "metadata": {
        "id": "wA22gUBHsjZn"
      },
      "execution_count": null,
      "outputs": []
    },
    {
      "cell_type": "code",
      "source": [
        "EightSVMTrainMetrics=get_metrics(EightTrainX, EightTrainY, EightWeekSVM)\n",
        "print('Training Accuracy Score:'+ str(EightSVMTrainMetrics[0]))\n",
        "print('Training Precision Score:'+ str(EightSVMTrainMetrics[1]))\n",
        "print('Training Recall Score:'+ str(EightSVMTrainMetrics[2]))\n",
        "print('Training F1 Score:'+ str(EightSVMTrainMetrics[3]))"
      ],
      "metadata": {
        "id": "uHE-F-iCsjZn",
        "colab": {
          "base_uri": "https://localhost:8080/"
        },
        "outputId": "2027e783-0413-445d-f2b7-d0cb96be3851"
      },
      "execution_count": null,
      "outputs": [
        {
          "output_type": "stream",
          "name": "stdout",
          "text": [
            "Training Accuracy Score:0.6686776410998553\n",
            "Training Precision Score:0.6395868027900465\n",
            "Training Recall Score:0.5498153450350637\n",
            "Training F1 Score:0.5913132733094576\n"
          ]
        }
      ]
    },
    {
      "cell_type": "code",
      "source": [
        "EightSVMValMetrics=get_metrics(EightValX, EightValY, EightWeekSVM)\n",
        "print('Validation Accuracy Score:'+ str(EightSVMValMetrics[0]))\n",
        "print('Validation Precision Score:'+ str(EightSVMValMetrics[1]))\n",
        "print('Validation Recall Score:'+ str(EightSVMValMetrics[2]))\n",
        "print('Validation F1 Score:'+ str(EightSVMValMetrics[3]))"
      ],
      "metadata": {
        "id": "_OS4eL1usjZn",
        "colab": {
          "base_uri": "https://localhost:8080/"
        },
        "outputId": "4d731886-2a5a-4037-f562-26644df945ec"
      },
      "execution_count": null,
      "outputs": [
        {
          "output_type": "stream",
          "name": "stdout",
          "text": [
            "Validation Accuracy Score:0.6752136752136753\n",
            "Validation Precision Score:0.6450782757881193\n",
            "Validation Recall Score:0.5629795994759499\n",
            "Validation F1 Score:0.6012392564461324\n"
          ]
        }
      ]
    },
    {
      "cell_type": "markdown",
      "source": [
        "### Neural Network"
      ],
      "metadata": {
        "id": "KUw84ZUAsjZn"
      }
    },
    {
      "cell_type": "code",
      "source": [
        "EightWeekNN = Sequential()\n",
        "EightWeekNN.add(Dense(12, activation=\"relu\"))\n",
        "EightWeekNN.add(Dense(1, activation=\"sigmoid\"))"
      ],
      "metadata": {
        "id": "Yis6wZFIsjZn"
      },
      "execution_count": null,
      "outputs": []
    },
    {
      "cell_type": "code",
      "source": [
        "tf.keras.utils.set_random_seed(31415)\n",
        "#And binary crossentropy\n",
        "EightWeekNN.compile(\n",
        "    loss=\"binary_crossentropy\", optimizer=\"rmsprop\", \n",
        "    metrics=[\"acc\"]\n",
        ")\n",
        "\n",
        "EightWeekNN.fit(EightTrainX, EightTrainY, epochs=10, batch_size=128)"
      ],
      "metadata": {
        "id": "XJbl5UbdsjZn",
        "colab": {
          "base_uri": "https://localhost:8080/",
          "height": 200
        },
        "outputId": "ca3e15da-49d0-48bf-e93b-78f8911be87d"
      },
      "execution_count": null,
      "outputs": [
        {
          "output_type": "error",
          "ename": "NameError",
          "evalue": "ignored",
          "traceback": [
            "\u001b[0;31m---------------------------------------------------------------------------\u001b[0m",
            "\u001b[0;31mNameError\u001b[0m                                 Traceback (most recent call last)",
            "\u001b[0;32m<ipython-input-64-67f20dbe9b98>\u001b[0m in \u001b[0;36m<module>\u001b[0;34m\u001b[0m\n\u001b[1;32m      6\u001b[0m )\n\u001b[1;32m      7\u001b[0m \u001b[0;34m\u001b[0m\u001b[0m\n\u001b[0;32m----> 8\u001b[0;31m \u001b[0mEightWeekNN\u001b[0m\u001b[0;34m.\u001b[0m\u001b[0mfit\u001b[0m\u001b[0;34m(\u001b[0m\u001b[0mEightTrainX\u001b[0m\u001b[0;34m,\u001b[0m \u001b[0mEightTrainY\u001b[0m\u001b[0;34m,\u001b[0m \u001b[0mepochs\u001b[0m\u001b[0;34m=\u001b[0m\u001b[0;36m10\u001b[0m\u001b[0;34m,\u001b[0m \u001b[0mbatch_size\u001b[0m\u001b[0;34m=\u001b[0m\u001b[0;36m128\u001b[0m\u001b[0;34m)\u001b[0m\u001b[0;34m\u001b[0m\u001b[0;34m\u001b[0m\u001b[0m\n\u001b[0m",
            "\u001b[0;31mNameError\u001b[0m: name 'EightTrainX' is not defined"
          ]
        }
      ]
    },
    {
      "cell_type": "code",
      "source": [
        "EightNNTrainMetrics=get_metrics_nn(EightTrainX, EightTrainY, EightWeekNN)\n",
        "print('Training Accuracy Score:'+ str(EightNNTrainMetrics[0]))\n",
        "print('Training Precision Score:'+ str(EightNNTrainMetrics[1]))\n",
        "print('Training Recall Score:'+ str(EightNNTrainMetrics[2]))\n",
        "print('Training F1 Score:'+ str(EightNNTrainMetrics[3]))"
      ],
      "metadata": {
        "id": "peVIAdRvsjZn"
      },
      "execution_count": null,
      "outputs": []
    },
    {
      "cell_type": "code",
      "source": [
        "EightNNValMetrics=get_metrics_nn(EightValX, EightValY, EightWeekNN)\n",
        "print('Validation Accuracy Score:'+ str(EightNNValMetrics[0]))\n",
        "print('Validation Precision Score:'+ str(EightNNValMetrics[1]))\n",
        "print('Validation Recall Score:'+ str(EightNNValMetrics[2]))\n",
        "print('Validation F1 Score:'+ str(EightNNValMetrics[3]))"
      ],
      "metadata": {
        "id": "n8SPKpFjsjZo"
      },
      "execution_count": null,
      "outputs": []
    },
    {
      "cell_type": "markdown",
      "source": [
        "## Twelve Week Data Models"
      ],
      "metadata": {
        "id": "R60AUZv1stpL"
      }
    },
    {
      "cell_type": "markdown",
      "source": [
        "### Data Splitting"
      ],
      "metadata": {
        "id": "bdP58jkpstpL"
      }
    },
    {
      "cell_type": "code",
      "source": [
        "TwelveTrain, TwelveTest=train_test_split(TwelveWeekData, train_size=0.8, random_state=31415)\n",
        "TwelveTrain, TwelveVal=train_test_split(TwelveTrain, train_size=0.9, random_state=31415)"
      ],
      "metadata": {
        "id": "TN6wMLCsstpL"
      },
      "execution_count": null,
      "outputs": []
    },
    {
      "cell_type": "code",
      "source": [
        "TwelveTrainY=TwelveTrain['DiscontinuedTF']\n",
        "TwelveTrainX=TwelveTrain.iloc[:,1:]\n",
        "\n",
        "TwelveValY=TwelveVal['DiscontinuedTF']\n",
        "TwelveValX=TwelveVal.iloc[:,1:]\n",
        "\n",
        "TwelveTestY=TwelveTest['DiscontinuedTF']\n",
        "TwelveTestX=TwelveTest.iloc[:,1:]"
      ],
      "metadata": {
        "id": "xm_-wUFxstpL"
      },
      "execution_count": null,
      "outputs": []
    },
    {
      "cell_type": "markdown",
      "source": [
        "### Random Forest"
      ],
      "metadata": {
        "id": "oh9da8xIstpL"
      }
    },
    {
      "cell_type": "code",
      "source": [
        "TwelveWeekForest = ensemble.RandomForestClassifier(random_state=31415)\n",
        "TwelveWeekForest = TwelveWeekForest.fit(TwelveTrainX, TwelveTrainY)"
      ],
      "metadata": {
        "id": "6ZAPfXj6stpL"
      },
      "execution_count": null,
      "outputs": []
    },
    {
      "cell_type": "code",
      "source": [
        "TwelveForestTrainMetrics=get_metrics(TwelveTrainX, TwelveTrainY, TwelveWeekForest)\n",
        "print('Training Accuracy Score:'+ str(TwelveForestTrainMetrics[0]))\n",
        "print('Training Precision Score:'+ str(TwelveForestTrainMetrics[1]))\n",
        "print('Training Recall Score:'+ str(TwelveForestTrainMetrics[2]))\n",
        "print('Training F1 Score:'+ str(TwelveForestTrainMetrics[3]))"
      ],
      "metadata": {
        "id": "4kiGYZawstpL",
        "colab": {
          "base_uri": "https://localhost:8080/"
        },
        "outputId": "4d5426d7-3e01-49b0-f404-fef65b0e7d4d"
      },
      "execution_count": null,
      "outputs": [
        {
          "output_type": "stream",
          "name": "stdout",
          "text": [
            "Training Accuracy Score:0.9999634956559831\n",
            "Training Precision Score:0.9999577032885694\n",
            "Training Recall Score:0.9999577032885694\n",
            "Training F1 Score:0.9999577032885694\n"
          ]
        }
      ]
    },
    {
      "cell_type": "code",
      "source": [
        "TwelveForestValMetrics=get_metrics(TwelveValX, TwelveValY, TwelveWeekForest)\n",
        "print('Validation Accuracy Score:'+ str(TwelveForestValMetrics[0]))\n",
        "print('Validation Precision Score:'+ str(TwelveForestValMetrics[1]))\n",
        "print('Validation Recall Score:'+ str(TwelveForestValMetrics[2]))\n",
        "print('Validation F1 Score:'+ str(TwelveForestValMetrics[3]))"
      ],
      "metadata": {
        "id": "4YAGMcFDstpM",
        "colab": {
          "base_uri": "https://localhost:8080/"
        },
        "outputId": "29fba91d-9e8e-46db-bc07-60bb594ad85d"
      },
      "execution_count": null,
      "outputs": [
        {
          "output_type": "stream",
          "name": "stdout",
          "text": [
            "Validation Accuracy Score:0.8901116951379764\n",
            "Validation Precision Score:0.8839060376625898\n",
            "Validation Recall Score:0.8601927073493293\n",
            "Validation F1 Score:0.8718881654538492\n"
          ]
        }
      ]
    },
    {
      "cell_type": "markdown",
      "source": [
        "### SVM"
      ],
      "metadata": {
        "id": "3QWOUGBKstpM"
      }
    },
    {
      "cell_type": "code",
      "source": [
        "TwelveWeekSVM = svm.SVC(random_state=31415)\n",
        "TwelveWeekSVM = TwelveWeekSVM.fit(TwelveTrainX, TwelveTrainY)"
      ],
      "metadata": {
        "id": "MLdQOJHjstpM"
      },
      "execution_count": null,
      "outputs": []
    },
    {
      "cell_type": "code",
      "source": [
        "TwelveSVMTrainMetrics=get_metrics(TwelveTrainX, TwelveTrainY, TwelveWeekSVM)\n",
        "print('Training Accuracy Score:'+ str(TwelveSVMTrainMetrics[0]))\n",
        "print('Training Precision Score:'+ str(TwelveSVMTrainMetrics[1]))\n",
        "print('Training Recall Score:'+ str(TwelveSVMTrainMetrics[2]))\n",
        "print('Training F1 Score:'+ str(TwelveSVMTrainMetrics[3]))"
      ],
      "metadata": {
        "id": "XR8bg89pstpM",
        "colab": {
          "base_uri": "https://localhost:8080/"
        },
        "outputId": "214b9e3b-488f-4333-c380-00900adeeff6"
      },
      "execution_count": null,
      "outputs": [
        {
          "output_type": "stream",
          "name": "stdout",
          "text": [
            "Training Accuracy Score:0.6746641600350441\n",
            "Training Precision Score:0.6401792598303778\n",
            "Training Recall Score:0.561911811356667\n",
            "Training F1 Score:0.5984975616348872\n"
          ]
        }
      ]
    },
    {
      "cell_type": "code",
      "source": [
        "TwelveSVMValMetrics=get_metrics(TwelveValX, TwelveValY, TwelveWeekSVM)\n",
        "print('Validation Accuracy Score:'+ str(TwelveSVMValMetrics[0]))\n",
        "print('Validation Precision Score:'+ str(TwelveSVMValMetrics[1]))\n",
        "print('Validation Recall Score:'+ str(TwelveSVMValMetrics[2]))\n",
        "print('Validation F1 Score:'+ str(TwelveSVMValMetrics[3]))"
      ],
      "metadata": {
        "id": "sLU3bgvLstpM",
        "colab": {
          "base_uri": "https://localhost:8080/"
        },
        "outputId": "74b8a585-659b-4b68-d3df-b09a5c6f17ad"
      },
      "execution_count": null,
      "outputs": [
        {
          "output_type": "stream",
          "name": "stdout",
          "text": [
            "Validation Accuracy Score:0.6709099868593955\n",
            "Validation Precision Score:0.6392980935875217\n",
            "Validation Recall Score:0.5575288116380125\n",
            "Validation F1 Score:0.595620143304067\n"
          ]
        }
      ]
    },
    {
      "cell_type": "markdown",
      "source": [
        "### Neural Network"
      ],
      "metadata": {
        "id": "eERZoOwlstpM"
      }
    },
    {
      "cell_type": "code",
      "source": [
        "TwelveWeekNN = Sequential()\n",
        "TwelveWeekNN.add(Dense(12, activation=\"relu\"))\n",
        "TwelveWeekNN.add(Dense(1, activation=\"sigmoid\"))"
      ],
      "metadata": {
        "id": "2iOxw_irstpM"
      },
      "execution_count": null,
      "outputs": []
    },
    {
      "cell_type": "code",
      "source": [
        "tf.keras.utils.set_random_seed(31415)\n",
        "#And binary crossentropy\n",
        "TwelveWeekNN.compile(\n",
        "    loss=\"binary_crossentropy\", optimizer=\"rmsprop\", \n",
        "    metrics=[\"acc\"]\n",
        ")\n",
        "\n",
        "TwelveWeekNN.fit(TwelveTrainX, TwelveTrainY, epochs=10,batch_size=128)"
      ],
      "metadata": {
        "id": "lCUBKkqwstpM",
        "colab": {
          "base_uri": "https://localhost:8080/"
        },
        "outputId": "e09fa26a-6f01-4ed8-f6eb-d89a70155851"
      },
      "execution_count": null,
      "outputs": [
        {
          "output_type": "stream",
          "name": "stdout",
          "text": [
            "Epoch 1/10\n",
            "857/857 [==============================] - 4s 4ms/step - loss: 0.5158 - acc: 0.8136\n",
            "Epoch 2/10\n",
            "857/857 [==============================] - 3s 4ms/step - loss: 0.4984 - acc: 0.8210\n",
            "Epoch 3/10\n",
            "857/857 [==============================] - 3s 4ms/step - loss: 0.4815 - acc: 0.8270\n",
            "Epoch 4/10\n",
            "857/857 [==============================] - 3s 4ms/step - loss: 0.4671 - acc: 0.8280\n",
            "Epoch 5/10\n",
            "857/857 [==============================] - 3s 4ms/step - loss: 0.4499 - acc: 0.8313\n",
            "Epoch 6/10\n",
            "857/857 [==============================] - 2s 2ms/step - loss: 0.4476 - acc: 0.8320\n",
            "Epoch 7/10\n",
            "857/857 [==============================] - 2s 2ms/step - loss: 0.4389 - acc: 0.8346\n",
            "Epoch 8/10\n",
            "857/857 [==============================] - 2s 2ms/step - loss: 0.4325 - acc: 0.8368\n",
            "Epoch 9/10\n",
            "857/857 [==============================] - 2s 2ms/step - loss: 0.4305 - acc: 0.8374\n",
            "Epoch 10/10\n",
            "857/857 [==============================] - 2s 2ms/step - loss: 0.4229 - acc: 0.8395\n"
          ]
        },
        {
          "output_type": "execute_result",
          "data": {
            "text/plain": [
              "<keras.callbacks.History at 0x7fcc69efc3d0>"
            ]
          },
          "metadata": {},
          "execution_count": 109
        }
      ]
    },
    {
      "cell_type": "code",
      "source": [
        "TwelveNNTrainMetrics=get_metrics_nn(TwelveTrainX, TwelveTrainY, TwelveWeekNN)\n",
        "print('Training Accuracy Score:'+ str(TwelveNNTrainMetrics[0]))\n",
        "print('Training Precision Score:'+ str(TwelveNNTrainMetrics[1]))\n",
        "print('Training Recall Score:'+ str(TwelveNNTrainMetrics[2]))\n",
        "print('Training F1 Score:'+ str(TwelveNNTrainMetrics[3]))"
      ],
      "metadata": {
        "id": "hA7_nq-RstpM"
      },
      "execution_count": null,
      "outputs": []
    },
    {
      "cell_type": "code",
      "source": [
        "TwelveNNValMetrics=get_metrics_nn(TwelveValX, TwelveValY, TwelveWeekNN)\n",
        "print('Validation Accuracy Score:'+ str(TwelveNNValMetrics[0]))\n",
        "print('Validation Precision Score:'+ str(TwelveNNValMetrics[1]))\n",
        "print('Validation Recall Score:'+ str(TwelveNNValMetrics[2]))\n",
        "print('Validation F1 Score:'+ str(TwelveNNValMetrics[3]))"
      ],
      "metadata": {
        "id": "-YkfBP_VstpN",
        "colab": {
          "base_uri": "https://localhost:8080/"
        },
        "outputId": "58fe4e38-9ee3-4732-d770-a7e91dffd93f"
      },
      "execution_count": null,
      "outputs": [
        {
          "output_type": "stream",
          "name": "stdout",
          "text": [
            "Validation Accuracy Score:0.8153745072273325\n",
            "Validation Precision Score:0.8664259927797834\n",
            "Validation Recall Score:0.6801435858681277\n",
            "Validation F1 Score:0.7620660457239627\n"
          ]
        }
      ]
    },
    {
      "cell_type": "markdown",
      "source": [
        "## Sixteen Week Data Models"
      ],
      "metadata": {
        "id": "r6XLRXn2sz8C"
      }
    },
    {
      "cell_type": "markdown",
      "source": [
        "### Data Splitting"
      ],
      "metadata": {
        "id": "fUndL614sz8D"
      }
    },
    {
      "cell_type": "code",
      "source": [
        "SixteenTrain, SixteenTest=train_test_split(SixteenWeekData, train_size=0.8, random_state=31415)\n",
        "SixteenTrain, SixteenVal=train_test_split(SixteenTrain, train_size=0.9, random_state=31415)"
      ],
      "metadata": {
        "id": "XOqqIkHrsz8D"
      },
      "execution_count": null,
      "outputs": []
    },
    {
      "cell_type": "code",
      "source": [
        "SixteenTrainY=SixteenTrain['DiscontinuedTF']\n",
        "SixteenTrainX=SixteenTrain.iloc[:,1:]\n",
        "\n",
        "SixteenValY=SixteenVal['DiscontinuedTF']\n",
        "SixteenValX=SixteenVal.iloc[:,1:]\n",
        "\n",
        "SixteenTestY=SixteenTest['DiscontinuedTF']\n",
        "SixteenTestX=SixteenTest.iloc[:,1:]"
      ],
      "metadata": {
        "id": "jyrQxaUPsz8D"
      },
      "execution_count": null,
      "outputs": []
    },
    {
      "cell_type": "markdown",
      "source": [
        "### Random Forest"
      ],
      "metadata": {
        "id": "vFwffXIGsz8D"
      }
    },
    {
      "cell_type": "code",
      "source": [
        "SixteenWeekForest = ensemble.RandomForestClassifier(random_state=31415)\n",
        "SixteenWeekForest = SixteenWeekForest.fit(SixteenTrainX, SixteenTrainY)"
      ],
      "metadata": {
        "id": "X71BuVdKsz8D"
      },
      "execution_count": null,
      "outputs": []
    },
    {
      "cell_type": "code",
      "source": [
        "SixteenForestTrainMetrics=get_metrics(SixteenTrainX, SixteenTrainY, SixteenWeekForest)\n",
        "print('Training Accuracy Score:'+ str(SixteenForestTrainMetrics[0]))\n",
        "print('Training Precision Score:'+ str(SixteenForestTrainMetrics[1]))\n",
        "print('Training Recall Score:'+ str(SixteenForestTrainMetrics[2]))\n",
        "print('Training F1 Score:'+ str(SixteenForestTrainMetrics[3]))"
      ],
      "metadata": {
        "id": "jZ_TI_x5sz8D",
        "colab": {
          "base_uri": "https://localhost:8080/"
        },
        "outputId": "804042c0-abb9-4c7c-9b14-13f145bd8178"
      },
      "execution_count": null,
      "outputs": [
        {
          "output_type": "stream",
          "name": "stdout",
          "text": [
            "Training Accuracy Score:0.9999117494567076\n",
            "Training Precision Score:0.9998597524630973\n",
            "Training Recall Score:0.9998597524630973\n",
            "Training F1 Score:0.9998597524630973\n"
          ]
        }
      ]
    },
    {
      "cell_type": "code",
      "source": [
        "SixteenForestValMetrics=get_metrics(SixteenValX, SixteenValY, SixteenWeekForest)\n",
        "print('Validation Accuracy Score:'+ str(SixteenForestValMetrics[0]))\n",
        "print('Validation Precision Score:'+ str(SixteenForestValMetrics[1]))\n",
        "print('Validation Recall Score:'+ str(SixteenForestValMetrics[2]))\n",
        "print('Validation F1 Score:'+ str(SixteenForestValMetrics[3]))"
      ],
      "metadata": {
        "id": "rVSBYKfIsz8D",
        "colab": {
          "base_uri": "https://localhost:8080/"
        },
        "outputId": "aa338475-4a2c-48f2-bd18-90bdd08ac0fe"
      },
      "execution_count": null,
      "outputs": [
        {
          "output_type": "stream",
          "name": "stdout",
          "text": [
            "Validation Accuracy Score:0.9433138091928919\n",
            "Validation Precision Score:0.915177219024538\n",
            "Validation Recall Score:0.9121376811594203\n",
            "Validation F1 Score:0.9136549221230907\n"
          ]
        }
      ]
    },
    {
      "cell_type": "markdown",
      "source": [
        "### SVM"
      ],
      "metadata": {
        "id": "flpvKC-qsz8E"
      }
    },
    {
      "cell_type": "code",
      "source": [
        "SixteenWeekSVM = svm.SVC(random_state=31415)\n",
        "SixteenWeekSVM = SixteenWeekSVM.fit(SixteenTrainX, SixteenTrainY)"
      ],
      "metadata": {
        "id": "gHrzaK9Qsz8E"
      },
      "execution_count": null,
      "outputs": []
    },
    {
      "cell_type": "code",
      "source": [
        "SixteenSVMTrainMetrics=get_metrics(SixteenTrainX, SixteenTrainY, SixteenWeekSVM)\n",
        "print('Training Accuracy Score:'+ str(SixteenSVMTrainMetrics[0]))\n",
        "print('Training Precision Score:'+ str(SixteenSVMTrainMetrics[1]))\n",
        "print('Training Recall Score:'+ str(SixteenSVMTrainMetrics[2]))\n",
        "print('Training F1 Score:'+ str(SixteenSVMTrainMetrics[3]))"
      ],
      "metadata": {
        "id": "1n56zHOYsz8E",
        "colab": {
          "base_uri": "https://localhost:8080/"
        },
        "outputId": "e0263215-83fe-41aa-c457-b3bff448f8f1"
      },
      "execution_count": null,
      "outputs": [
        {
          "output_type": "stream",
          "name": "stdout",
          "text": [
            "Training Accuracy Score:0.6950723102889103\n",
            "Training Precision Score:0.7470489038785835\n",
            "Training Recall Score:0.046597244135899864\n",
            "Training F1 Score:0.08772277227722772\n"
          ]
        }
      ]
    },
    {
      "cell_type": "code",
      "source": [
        "SixteenSVMValMetrics=get_metrics(SixteenValX, SixteenValY, SixteenWeekSVM)\n",
        "print('Validation Accuracy Score:'+ str(SixteenSVMValMetrics[0]))\n",
        "print('Validation Precision Score:'+ str(SixteenSVMValMetrics[1]))\n",
        "print('Validation Recall Score:'+ str(SixteenSVMValMetrics[2]))\n",
        "print('Validation F1 Score:'+ str(SixteenSVMValMetrics[3]))"
      ],
      "metadata": {
        "id": "n7Z8PajJsz8E",
        "colab": {
          "base_uri": "https://localhost:8080/"
        },
        "outputId": "b544ce94-d381-4090-eb32-55cdfe219e44"
      },
      "execution_count": null,
      "outputs": [
        {
          "output_type": "stream",
          "name": "stdout",
          "text": [
            "Validation Accuracy Score:0.680532115556438\n",
            "Validation Precision Score:0.7582417582417582\n",
            "Validation Recall Score:0.041666666666666664\n",
            "Validation F1 Score:0.07899255867200916\n"
          ]
        }
      ]
    },
    {
      "cell_type": "markdown",
      "source": [
        "### Neural Network"
      ],
      "metadata": {
        "id": "qTR3jWPCsz8E"
      }
    },
    {
      "cell_type": "code",
      "source": [
        "SixteenWeekNN = Sequential()\n",
        "SixteenWeekNN.add(Dense(12, activation=\"relu\"))\n",
        "SixteenWeekNN.add(Dense(1, activation=\"sigmoid\"))"
      ],
      "metadata": {
        "id": "qatMFj4Hsz8E"
      },
      "execution_count": null,
      "outputs": []
    },
    {
      "cell_type": "code",
      "source": [
        "tf.keras.utils.set_random_seed(31415)\n",
        "#And binary crossentropy\n",
        "SixteenWeekNN.compile(\n",
        "    loss=\"binary_crossentropy\", optimizer=\"rmsprop\", \n",
        "    metrics=[\"acc\"]\n",
        ")\n",
        "\n",
        "SixteenWeekNN.fit(SixteenTrainX, SixteenTrainY, epochs=10, batch_size=128)"
      ],
      "metadata": {
        "id": "L8Fb2nSWsz8E",
        "colab": {
          "base_uri": "https://localhost:8080/"
        },
        "outputId": "4242729b-dbff-4269-b605-d626c706a8c8"
      },
      "execution_count": null,
      "outputs": [
        {
          "output_type": "stream",
          "name": "stdout",
          "text": [
            "Epoch 1/10\n",
            "709/709 [==============================] - 2s 2ms/step - loss: 1.8189 - acc: 0.7101\n",
            "Epoch 2/10\n",
            "709/709 [==============================] - 1s 2ms/step - loss: 0.6073 - acc: 0.8006\n",
            "Epoch 3/10\n",
            "709/709 [==============================] - 1s 2ms/step - loss: 0.4974 - acc: 0.8577\n",
            "Epoch 4/10\n",
            "709/709 [==============================] - 1s 2ms/step - loss: 0.4133 - acc: 0.8755\n",
            "Epoch 5/10\n",
            "709/709 [==============================] - 1s 2ms/step - loss: 0.3556 - acc: 0.8867\n",
            "Epoch 6/10\n",
            "709/709 [==============================] - 1s 2ms/step - loss: 0.3103 - acc: 0.8966\n",
            "Epoch 7/10\n",
            "709/709 [==============================] - 1s 2ms/step - loss: 0.2924 - acc: 0.9030\n",
            "Epoch 8/10\n",
            "709/709 [==============================] - 1s 2ms/step - loss: 0.2777 - acc: 0.9096\n",
            "Epoch 9/10\n",
            "709/709 [==============================] - 1s 2ms/step - loss: 0.2670 - acc: 0.9147\n",
            "Epoch 10/10\n",
            "709/709 [==============================] - 1s 2ms/step - loss: 0.2551 - acc: 0.9187\n"
          ]
        },
        {
          "output_type": "execute_result",
          "data": {
            "text/plain": [
              "<keras.callbacks.History at 0x7fcc69dc02d0>"
            ]
          },
          "metadata": {},
          "execution_count": 120
        }
      ]
    },
    {
      "cell_type": "code",
      "source": [
        "SixteenNNTrainMetrics=get_metrics_nn(SixteenTrainX, SixteenTrainY, SixteenWeekNN)\n",
        "print('Training Accuracy Score:'+ str(SixteenNNTrainMetrics[0]))\n",
        "print('Training Precision Score:'+ str(SixteenNNTrainMetrics[1]))\n",
        "print('Training Recall Score:'+ str(SixteenNNTrainMetrics[2]))\n",
        "print('Training F1 Score:'+ str(SixteenNNTrainMetrics[3]))"
      ],
      "metadata": {
        "id": "qTB4WLpksz8E",
        "colab": {
          "base_uri": "https://localhost:8080/"
        },
        "outputId": "136f3e3b-171d-4aae-85bd-0e41ba0d0b23"
      },
      "execution_count": null,
      "outputs": [
        {
          "output_type": "stream",
          "name": "stdout",
          "text": [
            "Training Accuracy Score:0.9235419355550407\n",
            "Training Precision Score:0.913221558719951\n",
            "Training Recall Score:0.8364713719715298\n",
            "Training F1 Score:0.8731631439289963\n"
          ]
        }
      ]
    },
    {
      "cell_type": "code",
      "source": [
        "SixteenNNValMetrics=get_metrics_nn(SixteenValX, SixteenValY, SixteenWeekNN)\n",
        "print('Validation Accuracy Score:'+ str(SixteenNNValMetrics[0]))\n",
        "print('Validation Precision Score:'+ str(SixteenNNValMetrics[1]))\n",
        "print('Validation Recall Score:'+ str(SixteenNNValMetrics[2]))\n",
        "print('Validation F1 Score:'+ str(SixteenNNValMetrics[3]))"
      ],
      "metadata": {
        "id": "IXiBa4Zhsz8E",
        "colab": {
          "base_uri": "https://localhost:8080/"
        },
        "outputId": "f6b3e72e-57be-49fb-fda8-02426d27bc04"
      },
      "execution_count": null,
      "outputs": [
        {
          "output_type": "stream",
          "name": "stdout",
          "text": [
            "Validation Accuracy Score:0.9247493298917899\n",
            "Validation Precision Score:0.9242524916943522\n",
            "Validation Recall Score:0.839975845410628\n",
            "Validation F1 Score:0.8801012337867764\n"
          ]
        }
      ]
    },
    {
      "cell_type": "markdown",
      "source": [
        "## Twenty Week Data Models"
      ],
      "metadata": {
        "id": "JFBJvLkDs4xK"
      }
    },
    {
      "cell_type": "markdown",
      "source": [
        "### Data Splitting"
      ],
      "metadata": {
        "id": "4ya4K65ks4xL"
      }
    },
    {
      "cell_type": "code",
      "source": [
        "TwentyTrain, TwentyTest=train_test_split(TwentyWeekData, train_size=0.8, random_state=31415)\n",
        "TwentyTrain, TwentyVal=train_test_split(TwentyTrain, train_size=0.9, random_state=31415)"
      ],
      "metadata": {
        "id": "PIzF5Mgds4xL"
      },
      "execution_count": null,
      "outputs": []
    },
    {
      "cell_type": "code",
      "source": [
        "TwentyTrainY=TwentyTrain['DiscontinuedTF']\n",
        "TwentyTrainX=TwentyTrain.iloc[:,1:]\n",
        "\n",
        "TwentyValY=TwentyVal['DiscontinuedTF']\n",
        "TwentyValX=TwentyVal.iloc[:,1:]\n",
        "\n",
        "TwentyTestY=TwentyTest['DiscontinuedTF']\n",
        "TwentyTestX=TwentyTest.iloc[:,1:]"
      ],
      "metadata": {
        "id": "TSJVd7ixs4xL"
      },
      "execution_count": null,
      "outputs": []
    },
    {
      "cell_type": "markdown",
      "source": [
        "### Random Forest"
      ],
      "metadata": {
        "id": "K57ppiq-s4xL"
      }
    },
    {
      "cell_type": "code",
      "source": [
        "TwentyWeekForest = ensemble.RandomForestClassifier(random_state=31415)\n",
        "TwentyWeekForest = TwentyWeekForest.fit(TwentyTrainX, TwentyTrainY)"
      ],
      "metadata": {
        "id": "Sb1g3sLss4xL"
      },
      "execution_count": null,
      "outputs": []
    },
    {
      "cell_type": "code",
      "source": [
        "TwentyForestTrainMetrics=get_metrics(TwentyTrainX, TwentyTrainY, TwentyWeekForest)\n",
        "print('Training Accuracy Score:'+ str(TwentyForestTrainMetrics[0]))\n",
        "print('Training Precision Score:'+ str(TwentyForestTrainMetrics[1]))\n",
        "print('Training Recall Score:'+ str(TwentyForestTrainMetrics[2]))\n",
        "print('Training F1 Score:'+ str(TwentyForestTrainMetrics[3]))"
      ],
      "metadata": {
        "id": "Ve_xEjO6s4xL",
        "colab": {
          "base_uri": "https://localhost:8080/"
        },
        "outputId": "869a8da2-3cc9-49bd-8812-444e15e165ce"
      },
      "execution_count": null,
      "outputs": [
        {
          "output_type": "stream",
          "name": "stdout",
          "text": [
            "Training Accuracy Score:0.999955542218221\n",
            "Training Precision Score:0.9998925886143931\n",
            "Training Recall Score:0.9999641936407906\n",
            "Training F1 Score:0.9999283898456801\n"
          ]
        }
      ]
    },
    {
      "cell_type": "code",
      "source": [
        "TwentyForestValMetrics=get_metrics(TwentyValX, TwentyValY, TwentyWeekForest)\n",
        "print('Validation Accuracy Score:'+ str(TwentyForestValMetrics[0]))\n",
        "print('Validation Precision Score:'+ str(TwentyForestValMetrics[1]))\n",
        "print('Validation Recall Score:'+ str(TwentyForestValMetrics[2]))\n",
        "print('Validation F1 Score:'+ str(TwentyForestValMetrics[3]))"
      ],
      "metadata": {
        "id": "bsgdfer-s4xL",
        "colab": {
          "base_uri": "https://localhost:8080/"
        },
        "outputId": "93099251-da26-4589-e1e8-afd1f129116e"
      },
      "execution_count": null,
      "outputs": [
        {
          "output_type": "stream",
          "name": "stdout",
          "text": [
            "Validation Accuracy Score:0.9513902780556112\n",
            "Validation Precision Score:0.9301181102362205\n",
            "Validation Recall Score:0.9121621621621622\n",
            "Validation F1 Score:0.9210526315789473\n"
          ]
        }
      ]
    },
    {
      "cell_type": "markdown",
      "source": [
        "### SVM"
      ],
      "metadata": {
        "id": "SEh2QF-ys4xM"
      }
    },
    {
      "cell_type": "code",
      "source": [
        "TwentyWeekSVM = svm.SVC(random_state=31415)\n",
        "TwentyWeekSVM = TwentyWeekSVM.fit(TwentyTrainX, TwentyTrainY)"
      ],
      "metadata": {
        "id": "sUmPpZM_s4xM"
      },
      "execution_count": null,
      "outputs": []
    },
    {
      "cell_type": "code",
      "source": [
        "TwentySVMTrainMetrics=get_metrics(TwentyTrainX, TwentyTrainY, TwentyWeekSVM)\n",
        "print('Training Accuracy Score:'+ str(TwentySVMTrainMetrics[0]))\n",
        "print('Training Precision Score:'+ str(TwentySVMTrainMetrics[1]))\n",
        "print('Training Recall Score:'+ str(TwentySVMTrainMetrics[2]))\n",
        "print('Training F1 Score:'+ str(TwentySVMTrainMetrics[3]))"
      ],
      "metadata": {
        "id": "KQjm3cOMs4xM",
        "colab": {
          "base_uri": "https://localhost:8080/"
        },
        "outputId": "55d35541-59a8-40ca-915a-aee5a74ef43c"
      },
      "execution_count": null,
      "outputs": [
        {
          "output_type": "stream",
          "name": "stdout",
          "text": [
            "Training Accuracy Score:0.6992097629288787\n",
            "Training Precision Score:0.7732154137713203\n",
            "Training Recall Score:0.0438269836723002\n",
            "Training F1 Score:0.08295211954864289\n"
          ]
        }
      ]
    },
    {
      "cell_type": "code",
      "source": [
        "TwentySVMValMetrics=get_metrics(TwentyValX, TwentyValY, TwentyWeekSVM)\n",
        "print('Validation Accuracy Score:'+ str(TwentySVMValMetrics[0]))\n",
        "print('Validation Precision Score:'+ str(TwentySVMValMetrics[1]))\n",
        "print('Validation Recall Score:'+ str(TwentySVMValMetrics[2]))\n",
        "print('Validation F1 Score:'+ str(TwentySVMValMetrics[3]))"
      ],
      "metadata": {
        "id": "9aDD_8NBs4xM",
        "colab": {
          "base_uri": "https://localhost:8080/"
        },
        "outputId": "cd05f8e1-4e08-4c0b-bc4c-26535e23613f"
      },
      "execution_count": null,
      "outputs": [
        {
          "output_type": "stream",
          "name": "stdout",
          "text": [
            "Validation Accuracy Score:0.6991398279655932\n",
            "Validation Precision Score:0.7688172043010753\n",
            "Validation Recall Score:0.04601029601029601\n",
            "Validation F1 Score:0.08682452944748027\n"
          ]
        }
      ]
    },
    {
      "cell_type": "markdown",
      "source": [
        "### Neural Network"
      ],
      "metadata": {
        "id": "ZDDdpca7s4xM"
      }
    },
    {
      "cell_type": "code",
      "source": [
        "TwentyWeekNN = Sequential()\n",
        "TwentyWeekNN.add(Dense(12, activation=\"relu\"))\n",
        "TwentyWeekNN.add(Dense(1, activation=\"sigmoid\"))"
      ],
      "metadata": {
        "id": "1eFLfNBZs4xM"
      },
      "execution_count": null,
      "outputs": []
    },
    {
      "cell_type": "code",
      "source": [
        "tf.keras.utils.set_random_seed(31415)\n",
        "#And binary crossentropy\n",
        "TwentyWeekNN.compile(\n",
        "    loss=\"binary_crossentropy\", optimizer=\"rmsprop\", \n",
        "    metrics=[\"acc\"]\n",
        ")\n",
        "\n",
        "TwentyWeekNN.fit(TwentyTrainX, TwentyTrainY, epochs=10, batch_size=128)"
      ],
      "metadata": {
        "id": "J20tpB7rs4xM",
        "colab": {
          "base_uri": "https://localhost:8080/"
        },
        "outputId": "4673d236-d0db-43d9-b515-73d6557370d4"
      },
      "execution_count": null,
      "outputs": [
        {
          "output_type": "stream",
          "name": "stdout",
          "text": [
            "Epoch 1/10\n",
            "703/703 [==============================] - 2s 2ms/step - loss: 4.0308 - acc: 0.7724\n",
            "Epoch 2/10\n",
            "703/703 [==============================] - 1s 2ms/step - loss: 1.8533 - acc: 0.8487\n",
            "Epoch 3/10\n",
            "703/703 [==============================] - 1s 2ms/step - loss: 1.0357 - acc: 0.8690\n",
            "Epoch 4/10\n",
            "703/703 [==============================] - 1s 2ms/step - loss: 0.4568 - acc: 0.8882\n",
            "Epoch 5/10\n",
            "703/703 [==============================] - 1s 2ms/step - loss: 0.3342 - acc: 0.9046\n",
            "Epoch 6/10\n",
            "703/703 [==============================] - 1s 2ms/step - loss: 0.2927 - acc: 0.9117\n",
            "Epoch 7/10\n",
            "703/703 [==============================] - 1s 2ms/step - loss: 0.2754 - acc: 0.9158\n",
            "Epoch 8/10\n",
            "703/703 [==============================] - 1s 2ms/step - loss: 0.2614 - acc: 0.9186\n",
            "Epoch 9/10\n",
            "703/703 [==============================] - 1s 2ms/step - loss: 0.2540 - acc: 0.9202\n",
            "Epoch 10/10\n",
            "703/703 [==============================] - 1s 2ms/step - loss: 0.2475 - acc: 0.9232\n"
          ]
        },
        {
          "output_type": "execute_result",
          "data": {
            "text/plain": [
              "<keras.callbacks.History at 0x7fcc69c93410>"
            ]
          },
          "metadata": {},
          "execution_count": 132
        }
      ]
    },
    {
      "cell_type": "code",
      "source": [
        "TwentyNNTrainMetrics=get_metrics_nn(TwentyTrainX, TwentyTrainY, TwentyWeekNN)\n",
        "print('Training Accuracy Score:'+ str(TwentyNNTrainMetrics[0]))\n",
        "print('Training Precision Score:'+ str(TwentyNNTrainMetrics[1]))\n",
        "print('Training Recall Score:'+ str(TwentyNNTrainMetrics[2]))\n",
        "print('Training F1 Score:'+ str(TwentyNNTrainMetrics[3]))"
      ],
      "metadata": {
        "id": "QOt27lR8s4xM",
        "colab": {
          "base_uri": "https://localhost:8080/"
        },
        "outputId": "f76d6acb-76ff-4987-d4be-1865e2bab093"
      },
      "execution_count": null,
      "outputs": [
        {
          "output_type": "stream",
          "name": "stdout",
          "text": [
            "Training Accuracy Score:0.9244773432029609\n",
            "Training Precision Score:0.9202227082919069\n",
            "Training Recall Score:0.8285233457462046\n",
            "Training F1 Score:0.8719687976937426\n"
          ]
        }
      ]
    },
    {
      "cell_type": "code",
      "source": [
        "TwentyNNValMetrics=get_metrics_nn(TwentyValX, TwentyValY, TwentyWeekNN)\n",
        "print('Validation Accuracy Score:'+ str(TwentyNNValMetrics[0]))\n",
        "print('Validation Precision Score:'+ str(TwentyNNValMetrics[1]))\n",
        "print('Validation Recall Score:'+ str(TwentyNNValMetrics[2]))\n",
        "print('Validation F1 Score:'+ str(TwentyNNValMetrics[3]))"
      ],
      "metadata": {
        "id": "LmNUn6aKs4xM",
        "colab": {
          "base_uri": "https://localhost:8080/"
        },
        "outputId": "e6ec7819-dfd6-43da-df96-2137cff30116"
      },
      "execution_count": null,
      "outputs": [
        {
          "output_type": "stream",
          "name": "stdout",
          "text": [
            "Validation Accuracy Score:0.9271854370874175\n",
            "Validation Precision Score:0.9299132947976878\n",
            "Validation Recall Score:0.8281853281853282\n",
            "Validation F1 Score:0.8761061946902655\n"
          ]
        }
      ]
    },
    {
      "cell_type": "markdown",
      "source": [
        "## Twentyfour Week Data Models"
      ],
      "metadata": {
        "id": "ZmF9K7Ags-iD"
      }
    },
    {
      "cell_type": "markdown",
      "source": [
        "### Data Splitting"
      ],
      "metadata": {
        "id": "UaEK4yT0s-iD"
      }
    },
    {
      "cell_type": "code",
      "source": [
        "TwentyfourTrain, TwentyfourTest=train_test_split(TwentyfourWeekData, train_size=0.8, random_state=31415)\n",
        "TwentyfourTrain, TwentyfourVal=train_test_split(TwentyfourTrain, train_size=0.9, random_state=31415)"
      ],
      "metadata": {
        "id": "nERk94pWs-iD"
      },
      "execution_count": null,
      "outputs": []
    },
    {
      "cell_type": "code",
      "source": [
        "TwentyfourTrainY=TwentyfourTrain['DiscontinuedTF']\n",
        "TwentyfourTrainX=TwentyfourTrain.iloc[:,1:]\n",
        "\n",
        "TwentyfourValY=TwentyfourVal['DiscontinuedTF']\n",
        "TwentyfourValX=TwentyfourVal.iloc[:,1:]\n",
        "\n",
        "TwentyfourTestY=TwentyfourTest['DiscontinuedTF']\n",
        "TwentyfourTestX=TwentyfourTest.iloc[:,1:]"
      ],
      "metadata": {
        "id": "LvyGFCXvs-iD"
      },
      "execution_count": null,
      "outputs": []
    },
    {
      "cell_type": "markdown",
      "source": [
        "### Random Forest"
      ],
      "metadata": {
        "id": "-yKVV7iBs-iD"
      }
    },
    {
      "cell_type": "code",
      "source": [
        "TwentyfourWeekForest = ensemble.RandomForestClassifier(random_state=31415)\n",
        "TwentyfourWeekForest = TwentyfourWeekForest.fit(TwentyfourTrainX, TwentyfourTrainY)"
      ],
      "metadata": {
        "id": "XOTMo0gls-iD"
      },
      "execution_count": null,
      "outputs": []
    },
    {
      "cell_type": "code",
      "source": [
        "TwentyfourForestTrainMetrics=get_metrics(TwentyfourTrainX, TwentyfourTrainY, TwentyfourWeekForest)\n",
        "print('Training Accuracy Score:'+ str(TwentyfourForestTrainMetrics[0]))\n",
        "print('Training Precision Score:'+ str(TwentyfourForestTrainMetrics[1]))\n",
        "print('Training Recall Score:'+ str(TwentyfourForestTrainMetrics[2]))\n",
        "print('Training F1 Score:'+ str(TwentyfourForestTrainMetrics[3]))"
      ],
      "metadata": {
        "id": "WNOI09GBs-iD",
        "colab": {
          "base_uri": "https://localhost:8080/"
        },
        "outputId": "080839f3-4f66-45e7-cff3-14517712be85"
      },
      "execution_count": null,
      "outputs": [
        {
          "output_type": "stream",
          "name": "stdout",
          "text": [
            "Training Accuracy Score:0.9999662508015434\n",
            "Training Precision Score:0.9999630805582219\n",
            "Training Recall Score:0.9999261638424336\n",
            "Training F1 Score:0.999944621859598\n"
          ]
        }
      ]
    },
    {
      "cell_type": "code",
      "source": [
        "TwentyfourForestValMetrics=get_metrics(TwentyfourValX, TwentyfourValY, TwentyfourWeekForest)\n",
        "print('Validation Accuracy Score:'+ str(TwentyfourForestValMetrics[0]))\n",
        "print('Validation Precision Score:'+ str(TwentyfourForestValMetrics[1]))\n",
        "print('Validation Recall Score:'+ str(TwentyfourForestValMetrics[2]))\n",
        "print('Validation F1 Score:'+ str(TwentyfourForestValMetrics[3]))"
      ],
      "metadata": {
        "id": "Z0dX_f_gs-iE",
        "colab": {
          "base_uri": "https://localhost:8080/"
        },
        "outputId": "ef01f507-6e99-45b8-f046-9939682d3e43"
      },
      "execution_count": null,
      "outputs": [
        {
          "output_type": "stream",
          "name": "stdout",
          "text": [
            "Validation Accuracy Score:0.9601093449427964\n",
            "Validation Precision Score:0.9499136442141624\n",
            "Validation Recall Score:0.916972324108036\n",
            "Validation F1 Score:0.9331523583305056\n"
          ]
        }
      ]
    },
    {
      "cell_type": "markdown",
      "source": [
        "### SVM"
      ],
      "metadata": {
        "id": "5arRkcg0s-iE"
      }
    },
    {
      "cell_type": "code",
      "source": [
        "TwentyfourWeekSVM = svm.SVC(random_state=31415)\n",
        "TwentyfourWeekSVM = TwentyfourWeekSVM.fit(TwentyfourTrainX, TwentyfourTrainY)"
      ],
      "metadata": {
        "id": "kRhuCezns-iE"
      },
      "execution_count": null,
      "outputs": []
    },
    {
      "cell_type": "code",
      "source": [
        "TwentyfourSVMTrainMetrics=get_metrics(TwentyfourTrainX, TwentyfourTrainY, TwentyfourWeekSVM)\n",
        "print('Training Accuracy Score:'+ str(TwentyfourSVMTrainMetrics[0]))\n",
        "print('Training Precision Score:'+ str(TwentyfourSVMTrainMetrics[1]))\n",
        "print('Training Recall Score:'+ str(TwentyfourSVMTrainMetrics[2]))\n",
        "print('Training F1 Score:'+ str(TwentyfourSVMTrainMetrics[3]))"
      ],
      "metadata": {
        "id": "dvHyooEss-iE",
        "colab": {
          "base_uri": "https://localhost:8080/"
        },
        "outputId": "11e396a3-67a8-4ab0-b65a-561c3e5a9636"
      },
      "execution_count": null,
      "outputs": [
        {
          "output_type": "stream",
          "name": "stdout",
          "text": [
            "Training Accuracy Score:0.7057069894590003\n",
            "Training Precision Score:0.7898686679174484\n",
            "Training Recall Score:0.046627533503156494\n",
            "Training F1 Score:0.08805689186362685\n"
          ]
        }
      ]
    },
    {
      "cell_type": "code",
      "source": [
        "TwentyfourSVMValMetrics=get_metrics(TwentyfourValX, TwentyfourValY, TwentyfourWeekSVM)\n",
        "print('Validation Accuracy Score:'+ str(TwentyfourSVMValMetrics[0]))\n",
        "print('Validation Precision Score:'+ str(TwentyfourSVMValMetrics[1]))\n",
        "print('Validation Recall Score:'+ str(TwentyfourSVMValMetrics[2]))\n",
        "print('Validation F1 Score:'+ str(TwentyfourSVMValMetrics[3]))"
      ],
      "metadata": {
        "id": "ioRQe8PTs-iE",
        "colab": {
          "base_uri": "https://localhost:8080/"
        },
        "outputId": "815e00ac-181c-47fa-b603-497f92668ed7"
      },
      "execution_count": null,
      "outputs": [
        {
          "output_type": "stream",
          "name": "stdout",
          "text": [
            "Validation Accuracy Score:0.706692315480409\n",
            "Validation Precision Score:0.7741935483870968\n",
            "Validation Recall Score:0.0480160053351117\n",
            "Validation F1 Score:0.09042386185243328\n"
          ]
        }
      ]
    },
    {
      "cell_type": "markdown",
      "source": [
        "### Neural Network"
      ],
      "metadata": {
        "id": "ybjlSHAcs-iE"
      }
    },
    {
      "cell_type": "code",
      "source": [
        "TwentyfourWeekNN = Sequential()\n",
        "TwentyfourWeekNN.add(Dense(12, activation=\"relu\"))\n",
        "TwentyfourWeekNN.add(Dense(1, activation=\"sigmoid\"))"
      ],
      "metadata": {
        "id": "F-ZYscw4s-iF"
      },
      "execution_count": null,
      "outputs": []
    },
    {
      "cell_type": "code",
      "source": [
        "tf.keras.utils.set_random_seed(31415)\n",
        "#And binary crossentropy\n",
        "TwentyfourWeekNN.compile(\n",
        "    loss=\"binary_crossentropy\", optimizer=\"rmsprop\", \n",
        "    metrics=[\"acc\"]\n",
        ")\n",
        "\n",
        "TwentyfourWeekNN.fit(TwentyfourTrainX, TwentyfourTrainY, epochs=10, batch_size=128)"
      ],
      "metadata": {
        "id": "HVOKftyds-iF",
        "colab": {
          "base_uri": "https://localhost:8080/"
        },
        "outputId": "2584129d-a08d-4e34-850b-459ddf85a978"
      },
      "execution_count": null,
      "outputs": [
        {
          "output_type": "stream",
          "name": "stdout",
          "text": [
            "Epoch 1/10\n",
            "695/695 [==============================] - 2s 2ms/step - loss: 3.5136 - acc: 0.7920\n",
            "Epoch 2/10\n",
            "695/695 [==============================] - 1s 2ms/step - loss: 1.7720 - acc: 0.8628\n",
            "Epoch 3/10\n",
            "695/695 [==============================] - 1s 2ms/step - loss: 0.6788 - acc: 0.8874\n",
            "Epoch 4/10\n",
            "695/695 [==============================] - 1s 2ms/step - loss: 0.3768 - acc: 0.9112\n",
            "Epoch 5/10\n",
            "695/695 [==============================] - 1s 2ms/step - loss: 0.3265 - acc: 0.9189\n",
            "Epoch 6/10\n",
            "695/695 [==============================] - 1s 2ms/step - loss: 0.2916 - acc: 0.9236\n",
            "Epoch 7/10\n",
            "695/695 [==============================] - 1s 2ms/step - loss: 0.2685 - acc: 0.9253\n",
            "Epoch 8/10\n",
            "695/695 [==============================] - 1s 2ms/step - loss: 0.2543 - acc: 0.9274\n",
            "Epoch 9/10\n",
            "695/695 [==============================] - 1s 2ms/step - loss: 0.2344 - acc: 0.9288\n",
            "Epoch 10/10\n",
            "695/695 [==============================] - 1s 2ms/step - loss: 0.2224 - acc: 0.9312\n"
          ]
        },
        {
          "output_type": "execute_result",
          "data": {
            "text/plain": [
              "<keras.callbacks.History at 0x7fcc69b99450>"
            ]
          },
          "metadata": {},
          "execution_count": 144
        }
      ]
    },
    {
      "cell_type": "code",
      "source": [
        "TwentyfourNNTrainMetrics=get_metrics_nn(TwentyfourTrainX, TwentyfourTrainY, TwentyfourWeekNN)\n",
        "print('Training Accuracy Score:'+ str(TwentyfourNNTrainMetrics[0]))\n",
        "print('Training Precision Score:'+ str(TwentyfourNNTrainMetrics[1]))\n",
        "print('Training Recall Score:'+ str(TwentyfourNNTrainMetrics[2]))\n",
        "print('Training F1 Score:'+ str(TwentyfourNNTrainMetrics[3]))"
      ],
      "metadata": {
        "id": "AfD-ocWSs-iF",
        "colab": {
          "base_uri": "https://localhost:8080/"
        },
        "outputId": "1699d319-b569-4f24-be22-698dd75b73f2"
      },
      "execution_count": null,
      "outputs": [
        {
          "output_type": "stream",
          "name": "stdout",
          "text": [
            "Training Accuracy Score:0.9334690801093474\n",
            "Training Precision Score:0.935497140976593\n",
            "Training Recall Score:0.8395540296082992\n",
            "Training F1 Score:0.8849326795859599\n"
          ]
        }
      ]
    },
    {
      "cell_type": "code",
      "source": [
        "TwentyfourNNValMetrics=get_metrics_nn(TwentyfourValX, TwentyfourValY, TwentyfourWeekNN)\n",
        "print('Validation Accuracy Score:'+ str(TwentyfourNNValMetrics[0]))\n",
        "print('Validation Precision Score:'+ str(TwentyfourNNValMetrics[1]))\n",
        "print('Validation Recall Score:'+ str(TwentyfourNNValMetrics[2]))\n",
        "print('Validation F1 Score:'+ str(TwentyfourNNValMetrics[3]))"
      ],
      "metadata": {
        "id": "6IZ1WciGs-iF",
        "colab": {
          "base_uri": "https://localhost:8080/"
        },
        "outputId": "bc523b76-5c83-4c05-bdb9-ac2cf7394c30"
      },
      "execution_count": null,
      "outputs": [
        {
          "output_type": "stream",
          "name": "stdout",
          "text": [
            "Validation Accuracy Score:0.9296345044041713\n",
            "Validation Precision Score:0.9279346210995543\n",
            "Validation Recall Score:0.8329443147715905\n",
            "Validation F1 Score:0.8778773502020734\n"
          ]
        }
      ]
    },
    {
      "cell_type": "markdown",
      "source": [
        "# Final Testing"
      ],
      "metadata": {
        "id": "48pkaxlwE5p0"
      }
    },
    {
      "cell_type": "markdown",
      "source": [
        "## Metrics"
      ],
      "metadata": {
        "id": "tgir6jyYSPSc"
      }
    },
    {
      "cell_type": "code",
      "source": [
        "#get test dataset metrics for all forest models\n",
        "FourForestTestMetrics=get_metrics(FourTestX, FourTestY, FourWeekForest)\n",
        "print('Test Accuracy Score:'+ str(FourForestTestMetrics[0]))\n",
        "print('Test Precision Score:'+ str(FourForestTestMetrics[1]))\n",
        "print('Test Recall Score:'+ str(FourForestTestMetrics[2]))\n",
        "print('Test F1 Score:'+ str(FourForestTestMetrics[3]))"
      ],
      "metadata": {
        "colab": {
          "base_uri": "https://localhost:8080/"
        },
        "id": "FM4VB55SE-Lz",
        "outputId": "356532b6-fa8b-4f39-9a88-1064710ab746"
      },
      "execution_count": null,
      "outputs": [
        {
          "output_type": "stream",
          "name": "stdout",
          "text": [
            "Test Accuracy Score:0.7803427322123268\n",
            "Test Precision Score:0.7515258474887859\n",
            "Test Recall Score:0.7474584948438528\n",
            "Test F1 Score:0.7494866529774127\n"
          ]
        }
      ]
    },
    {
      "cell_type": "code",
      "source": [
        "EightForestTestMetrics=get_metrics(EightTestX, EightTestY, EightWeekForest)\n",
        "print('Test Accuracy Score:'+ str(EightForestTestMetrics[0]))\n",
        "print('Test Precision Score:'+ str(EightForestTestMetrics[1]))\n",
        "print('Test Recall Score:'+ str(EightForestTestMetrics[2]))\n",
        "print('Test F1 Score:'+ str(EightForestTestMetrics[3]))"
      ],
      "metadata": {
        "colab": {
          "base_uri": "https://localhost:8080/"
        },
        "id": "-IyuR-MKMBDk",
        "outputId": "c604a6e6-9d0f-493f-beab-97473fa588ad"
      },
      "execution_count": null,
      "outputs": [
        {
          "output_type": "stream",
          "name": "stdout",
          "text": [
            "Test Accuracy Score:0.8355365980724146\n",
            "Test Precision Score:0.8236428130783467\n",
            "Test Recall Score:0.7944217181108219\n",
            "Test F1 Score:0.8087684094953242\n"
          ]
        }
      ]
    },
    {
      "cell_type": "code",
      "source": [
        "TwelveForestTestMetrics=get_metrics(TwelveTestX, TwelveTestY, TwelveWeekForest)\n",
        "print('Test Accuracy Score:'+ str(TwelveForestTestMetrics[0]))\n",
        "print('Test Precision Score:'+ str(TwelveForestTestMetrics[1]))\n",
        "print('Test Recall Score:'+ str(TwelveForestTestMetrics[2]))\n",
        "print('Test F1 Score:'+ str(TwelveForestTestMetrics[3]))"
      ],
      "metadata": {
        "colab": {
          "base_uri": "https://localhost:8080/"
        },
        "id": "5-AUQ4D5MCtn",
        "outputId": "a33a118e-a791-47f7-f3e8-055067050ee5"
      },
      "execution_count": null,
      "outputs": [
        {
          "output_type": "stream",
          "name": "stdout",
          "text": [
            "Test Accuracy Score:0.8917178619534151\n",
            "Test Precision Score:0.8898553016525659\n",
            "Test Recall Score:0.8553621646271946\n",
            "Test F1 Score:0.8722678654472176\n"
          ]
        }
      ]
    },
    {
      "cell_type": "code",
      "source": [
        "SixteenForestTestMetrics=get_metrics(SixteenTestX, SixteenTestY, SixteenWeekForest)\n",
        "print('Test Accuracy Score:'+ str(SixteenForestTestMetrics[0]))\n",
        "print('Test Precision Score:'+ str(SixteenForestTestMetrics[1]))\n",
        "print('Test Recall Score:'+ str(SixteenForestTestMetrics[2]))\n",
        "print('Test F1 Score:'+ str(SixteenForestTestMetrics[3]))"
      ],
      "metadata": {
        "colab": {
          "base_uri": "https://localhost:8080/"
        },
        "id": "GBo7q7_AMCtn",
        "outputId": "e740d45d-ba24-43eb-b544-695aa0a6517a"
      },
      "execution_count": null,
      "outputs": [
        {
          "output_type": "stream",
          "name": "stdout",
          "text": [
            "Test Accuracy Score:0.9404709900321672\n",
            "Test Precision Score:0.9053793811785852\n",
            "Test Recall Score:0.9024827233171231\n",
            "Test F1 Score:0.9039287316541691\n"
          ]
        }
      ]
    },
    {
      "cell_type": "code",
      "source": [
        "TwentyForestTestMetrics=get_metrics(TwentyTestX, TwentyTestY, TwentyWeekForest)\n",
        "print('Test Accuracy Score:'+ str(TwentyForestTestMetrics[0]))\n",
        "print('Test Precision Score:'+ str(TwentyForestTestMetrics[1]))\n",
        "print('Test Recall Score:'+ str(TwentyForestTestMetrics[2]))\n",
        "print('Test F1 Score:'+ str(TwentyForestTestMetrics[3]))"
      ],
      "metadata": {
        "colab": {
          "base_uri": "https://localhost:8080/"
        },
        "id": "AECg9wFQMDaf",
        "outputId": "c81143b5-6b74-4cbf-8c56-aa1b1eb4c950"
      },
      "execution_count": null,
      "outputs": [
        {
          "output_type": "stream",
          "name": "stdout",
          "text": [
            "Test Accuracy Score:0.9461849317808987\n",
            "Test Precision Score:0.9198180636777128\n",
            "Test Recall Score:0.9067384063540866\n",
            "Test F1 Score:0.913231404425521\n"
          ]
        }
      ]
    },
    {
      "cell_type": "code",
      "source": [
        "TwentyfourForestTestMetrics=get_metrics(TwentyfourTestX, TwentyfourTestY, TwentyfourWeekForest)\n",
        "print('Test Accuracy Score:'+ str(TwentyfourForestTestMetrics[0]))\n",
        "print('Test Precision Score:'+ str(TwentyfourForestTestMetrics[1]))\n",
        "print('Test Recall Score:'+ str(TwentyfourForestTestMetrics[2]))\n",
        "print('Test F1 Score:'+ str(TwentyfourForestTestMetrics[3]))"
      ],
      "metadata": {
        "colab": {
          "base_uri": "https://localhost:8080/"
        },
        "id": "TkI8i9KoMDag",
        "outputId": "9a252270-1c28-4dd4-a1c5-cf43e5e6eb04"
      },
      "execution_count": null,
      "outputs": [
        {
          "output_type": "stream",
          "name": "stdout",
          "text": [
            "Test Accuracy Score:0.960716021383444\n",
            "Test Precision Score:0.9538590604026845\n",
            "Test Recall Score:0.9142321093540605\n",
            "Test F1 Score:0.9336252908170247\n"
          ]
        }
      ]
    },
    {
      "cell_type": "markdown",
      "source": [
        "## Confusion Matrices"
      ],
      "metadata": {
        "id": "llpz5pxvSRmY"
      }
    },
    {
      "cell_type": "code",
      "source": [
        "#Print confusion matrix for all forest models\n",
        "ForestFourTestCM=get_confusion_matrix(FourTestX, FourTestY, FourWeekForest)\n",
        "print(ForestFourTestCM)"
      ],
      "metadata": {
        "colab": {
          "base_uri": "https://localhost:8080/"
        },
        "id": "XtOdop6USeYv",
        "outputId": "8ae6f9ee-34dd-45ce-c979-1acc8e0ac14f"
      },
      "execution_count": null,
      "outputs": [
        {
          "output_type": "stream",
          "name": "stdout",
          "text": [
            "[[14051  3379]\n",
            " [ 3453 10220]]\n"
          ]
        }
      ]
    },
    {
      "cell_type": "code",
      "source": [
        "ForestEightTestCM=get_confusion_matrix(EightTestX, EightTestY, EightWeekForest)\n",
        "print(ForestEightTestCM)"
      ],
      "metadata": {
        "colab": {
          "base_uri": "https://localhost:8080/"
        },
        "id": "aI3HshuuTLSV",
        "outputId": "305833d0-8858-4a95-a68c-d8e8822cf6ca"
      },
      "execution_count": null,
      "outputs": [
        {
          "output_type": "stream",
          "name": "stdout",
          "text": [
            "[[14980  2287]\n",
            " [ 2764 10681]]\n"
          ]
        }
      ]
    },
    {
      "cell_type": "code",
      "source": [
        "ForestTwelveTestCM=get_confusion_matrix(TwelveTestX, TwelveTestY, TwelveWeekForest)\n",
        "print(ForestTwelveTestCM)"
      ],
      "metadata": {
        "colab": {
          "base_uri": "https://localhost:8080/"
        },
        "outputId": "c361f360-25c2-41d4-f1b3-291549d8dda8",
        "id": "yT37MK7VTMzg"
      },
      "execution_count": null,
      "outputs": [
        {
          "output_type": "stream",
          "name": "stdout",
          "text": [
            "[[15889  1393]\n",
            " [ 1903 11254]]\n"
          ]
        }
      ]
    },
    {
      "cell_type": "code",
      "source": [
        "ForestSixteenTestCM=get_confusion_matrix(SixteenTestX, SixteenTestY, SixteenWeekForest)\n",
        "print(ForestSixteenTestCM)"
      ],
      "metadata": {
        "colab": {
          "base_uri": "https://localhost:8080/"
        },
        "id": "yDKSGzK9TMzg",
        "outputId": "aab9230b-cd97-41a2-d4fa-dd9501e2ea6b"
      },
      "execution_count": null,
      "outputs": [
        {
          "output_type": "stream",
          "name": "stdout",
          "text": [
            "[[16630   737]\n",
            " [  762  7052]]\n"
          ]
        }
      ]
    },
    {
      "cell_type": "code",
      "source": [
        "ForestTwentyTestCM=get_confusion_matrix(TwentyTestX, TwentyTestY, TwentyWeekForest)\n",
        "print(ForestTwentyTestCM)"
      ],
      "metadata": {
        "colab": {
          "base_uri": "https://localhost:8080/"
        },
        "outputId": "39a613f2-cea8-40e2-80bb-2b79fe6dea33",
        "id": "45W8bBR9TM6o"
      },
      "execution_count": null,
      "outputs": [
        {
          "output_type": "stream",
          "name": "stdout",
          "text": [
            "[[16570   617]\n",
            " [  728  7078]]\n"
          ]
        }
      ]
    },
    {
      "cell_type": "code",
      "source": [
        "ForestTwentyfourTestCM=get_confusion_matrix(TwentyfourTestX, TwentyfourTestY, TwentyfourWeekForest)\n",
        "print(ForestTwentyfourTestCM)"
      ],
      "metadata": {
        "colab": {
          "base_uri": "https://localhost:8080/"
        },
        "id": "a3C8SBkBTM6o",
        "outputId": "1ebd6ec4-e8d8-49b7-88c1-36d88f56516e"
      },
      "execution_count": null,
      "outputs": [
        {
          "output_type": "stream",
          "name": "stdout",
          "text": [
            "[[16900   330]\n",
            " [  640  6822]]\n"
          ]
        }
      ]
    },
    {
      "cell_type": "markdown",
      "source": [
        "## Baseline Model"
      ],
      "metadata": {
        "id": "lHaqNffibeER"
      }
    },
    {
      "cell_type": "code",
      "source": [
        "y_true=SixteenTestY\n",
        "y_pred=SixteenTestX['Status_9']\n",
        "print('Test Accuracy Score:'+ str(accuracy_score(y_true, y_pred)))\n",
        "print('Test Precision Score:'+ str(precision_score(y_true, y_pred)))\n",
        "print('Test Recall Score:'+ str(recall_score(y_true, y_pred)))\n",
        "print('Test F1 Score:'+ str(f1_score(y_true, y_pred)))"
      ],
      "metadata": {
        "colab": {
          "base_uri": "https://localhost:8080/"
        },
        "id": "r-wWzFcgbgLd",
        "outputId": "23a16d21-42b7-45ad-f3d9-17a6f03be00c"
      },
      "execution_count": null,
      "outputs": [
        {
          "output_type": "stream",
          "name": "stdout",
          "text": [
            "Test Accuracy Score:0.930185457289226\n",
            "Test Precision Score:0.922550934970695\n",
            "Test Recall Score:0.8460455592526235\n",
            "Test F1 Score:0.8826435246995995\n"
          ]
        }
      ]
    },
    {
      "cell_type": "code",
      "source": [
        "print(confusion_matrix(y_true, y_pred))"
      ],
      "metadata": {
        "colab": {
          "base_uri": "https://localhost:8080/"
        },
        "id": "hN0xbnkqcKPC",
        "outputId": "e8e7d2b9-06ce-4e22-d152-789d99c74c89"
      },
      "execution_count": null,
      "outputs": [
        {
          "output_type": "stream",
          "name": "stdout",
          "text": [
            "[[16812   555]\n",
            " [ 1203  6611]]\n"
          ]
        }
      ]
    },
    {
      "cell_type": "markdown",
      "source": [
        "# Results Visualisations"
      ],
      "metadata": {
        "id": "RVMPFrGbPYVA"
      }
    },
    {
      "cell_type": "markdown",
      "source": [
        "## Metrics datasets"
      ],
      "metadata": {
        "id": "3BdPyk0cIayA"
      }
    },
    {
      "cell_type": "code",
      "source": [
        "#Create Dataset using Train, Validation, Or test metrics for all model types\n",
        "ForestTrainFullMetrics={'Accuracy':[FourForestTrainMetrics[0],EightForestTrainMetrics[0],TwelveForestTrainMetrics[0],SixteenForestTrainMetrics[0],TwentyForestTrainMetrics[0],TwentyfourForestTrainMetrics[0]],\n",
        "                      'Precision':[FourForestTrainMetrics[1],EightForestTrainMetrics[1],TwelveForestTrainMetrics[1],SixteenForestTrainMetrics[1],TwentyForestTrainMetrics[1],TwentyfourForestTrainMetrics[1]],\n",
        "                      'Recall':[FourForestTrainMetrics[2],EightForestTrainMetrics[2],TwelveForestTrainMetrics[2],SixteenForestTrainMetrics[2],TwentyForestTrainMetrics[2],TwentyfourForestTrainMetrics[2]],\n",
        "                      'F1':[FourForestTrainMetrics[3],EightForestTrainMetrics[3],TwelveForestTrainMetrics[3],SixteenForestTrainMetrics[3],TwentyForestTrainMetrics[3],TwentyfourForestTrainMetrics[3]]}\n",
        "ForestTrainFullMetrics=pd.DataFrame(ForestTrainFullMetrics, index=[4,8,12,16,20,24])\n",
        "#Set index name\n",
        "ForestTrainFullMetrics.index.name='Weeks of Data'\n",
        "ForestTrainFullMetrics"
      ],
      "metadata": {
        "colab": {
          "base_uri": "https://localhost:8080/"
        },
        "id": "cnZZQ_1VPcqS",
        "outputId": "342ebccf-91ed-4702-db18-978d5840dd2d"
      },
      "execution_count": null,
      "outputs": [
        {
          "output_type": "execute_result",
          "data": {
            "text/plain": [
              "               Accuracy  Precision    Recall        F1\n",
              "Weeks of Data                                         \n",
              "4              0.999696   0.999635  0.999676  0.999656\n",
              "8              0.999955   0.999917  0.999979  0.999948\n",
              "12             0.999963   0.999958  0.999958  0.999958\n",
              "16             0.999912   0.999860  0.999860  0.999860\n",
              "20             0.999956   0.999893  0.999964  0.999928\n",
              "24             0.999966   0.999963  0.999926  0.999945"
            ],
            "text/html": [
              "\n",
              "  <div id=\"df-320fe573-4ba8-4769-b927-b6f14252b6b9\">\n",
              "    <div class=\"colab-df-container\">\n",
              "      <div>\n",
              "<style scoped>\n",
              "    .dataframe tbody tr th:only-of-type {\n",
              "        vertical-align: middle;\n",
              "    }\n",
              "\n",
              "    .dataframe tbody tr th {\n",
              "        vertical-align: top;\n",
              "    }\n",
              "\n",
              "    .dataframe thead th {\n",
              "        text-align: right;\n",
              "    }\n",
              "</style>\n",
              "<table border=\"1\" class=\"dataframe\">\n",
              "  <thead>\n",
              "    <tr style=\"text-align: right;\">\n",
              "      <th></th>\n",
              "      <th>Accuracy</th>\n",
              "      <th>Precision</th>\n",
              "      <th>Recall</th>\n",
              "      <th>F1</th>\n",
              "    </tr>\n",
              "    <tr>\n",
              "      <th>Weeks of Data</th>\n",
              "      <th></th>\n",
              "      <th></th>\n",
              "      <th></th>\n",
              "      <th></th>\n",
              "    </tr>\n",
              "  </thead>\n",
              "  <tbody>\n",
              "    <tr>\n",
              "      <th>4</th>\n",
              "      <td>0.999696</td>\n",
              "      <td>0.999635</td>\n",
              "      <td>0.999676</td>\n",
              "      <td>0.999656</td>\n",
              "    </tr>\n",
              "    <tr>\n",
              "      <th>8</th>\n",
              "      <td>0.999955</td>\n",
              "      <td>0.999917</td>\n",
              "      <td>0.999979</td>\n",
              "      <td>0.999948</td>\n",
              "    </tr>\n",
              "    <tr>\n",
              "      <th>12</th>\n",
              "      <td>0.999963</td>\n",
              "      <td>0.999958</td>\n",
              "      <td>0.999958</td>\n",
              "      <td>0.999958</td>\n",
              "    </tr>\n",
              "    <tr>\n",
              "      <th>16</th>\n",
              "      <td>0.999912</td>\n",
              "      <td>0.999860</td>\n",
              "      <td>0.999860</td>\n",
              "      <td>0.999860</td>\n",
              "    </tr>\n",
              "    <tr>\n",
              "      <th>20</th>\n",
              "      <td>0.999956</td>\n",
              "      <td>0.999893</td>\n",
              "      <td>0.999964</td>\n",
              "      <td>0.999928</td>\n",
              "    </tr>\n",
              "    <tr>\n",
              "      <th>24</th>\n",
              "      <td>0.999966</td>\n",
              "      <td>0.999963</td>\n",
              "      <td>0.999926</td>\n",
              "      <td>0.999945</td>\n",
              "    </tr>\n",
              "  </tbody>\n",
              "</table>\n",
              "</div>\n",
              "      <button class=\"colab-df-convert\" onclick=\"convertToInteractive('df-320fe573-4ba8-4769-b927-b6f14252b6b9')\"\n",
              "              title=\"Convert this dataframe to an interactive table.\"\n",
              "              style=\"display:none;\">\n",
              "        \n",
              "  <svg xmlns=\"http://www.w3.org/2000/svg\" height=\"24px\"viewBox=\"0 0 24 24\"\n",
              "       width=\"24px\">\n",
              "    <path d=\"M0 0h24v24H0V0z\" fill=\"none\"/>\n",
              "    <path d=\"M18.56 5.44l.94 2.06.94-2.06 2.06-.94-2.06-.94-.94-2.06-.94 2.06-2.06.94zm-11 1L8.5 8.5l.94-2.06 2.06-.94-2.06-.94L8.5 2.5l-.94 2.06-2.06.94zm10 10l.94 2.06.94-2.06 2.06-.94-2.06-.94-.94-2.06-.94 2.06-2.06.94z\"/><path d=\"M17.41 7.96l-1.37-1.37c-.4-.4-.92-.59-1.43-.59-.52 0-1.04.2-1.43.59L10.3 9.45l-7.72 7.72c-.78.78-.78 2.05 0 2.83L4 21.41c.39.39.9.59 1.41.59.51 0 1.02-.2 1.41-.59l7.78-7.78 2.81-2.81c.8-.78.8-2.07 0-2.86zM5.41 20L4 18.59l7.72-7.72 1.47 1.35L5.41 20z\"/>\n",
              "  </svg>\n",
              "      </button>\n",
              "      \n",
              "  <style>\n",
              "    .colab-df-container {\n",
              "      display:flex;\n",
              "      flex-wrap:wrap;\n",
              "      gap: 12px;\n",
              "    }\n",
              "\n",
              "    .colab-df-convert {\n",
              "      background-color: #E8F0FE;\n",
              "      border: none;\n",
              "      border-radius: 50%;\n",
              "      cursor: pointer;\n",
              "      display: none;\n",
              "      fill: #1967D2;\n",
              "      height: 32px;\n",
              "      padding: 0 0 0 0;\n",
              "      width: 32px;\n",
              "    }\n",
              "\n",
              "    .colab-df-convert:hover {\n",
              "      background-color: #E2EBFA;\n",
              "      box-shadow: 0px 1px 2px rgba(60, 64, 67, 0.3), 0px 1px 3px 1px rgba(60, 64, 67, 0.15);\n",
              "      fill: #174EA6;\n",
              "    }\n",
              "\n",
              "    [theme=dark] .colab-df-convert {\n",
              "      background-color: #3B4455;\n",
              "      fill: #D2E3FC;\n",
              "    }\n",
              "\n",
              "    [theme=dark] .colab-df-convert:hover {\n",
              "      background-color: #434B5C;\n",
              "      box-shadow: 0px 1px 3px 1px rgba(0, 0, 0, 0.15);\n",
              "      filter: drop-shadow(0px 1px 2px rgba(0, 0, 0, 0.3));\n",
              "      fill: #FFFFFF;\n",
              "    }\n",
              "  </style>\n",
              "\n",
              "      <script>\n",
              "        const buttonEl =\n",
              "          document.querySelector('#df-320fe573-4ba8-4769-b927-b6f14252b6b9 button.colab-df-convert');\n",
              "        buttonEl.style.display =\n",
              "          google.colab.kernel.accessAllowed ? 'block' : 'none';\n",
              "\n",
              "        async function convertToInteractive(key) {\n",
              "          const element = document.querySelector('#df-320fe573-4ba8-4769-b927-b6f14252b6b9');\n",
              "          const dataTable =\n",
              "            await google.colab.kernel.invokeFunction('convertToInteractive',\n",
              "                                                     [key], {});\n",
              "          if (!dataTable) return;\n",
              "\n",
              "          const docLinkHtml = 'Like what you see? Visit the ' +\n",
              "            '<a target=\"_blank\" href=https://colab.research.google.com/notebooks/data_table.ipynb>data table notebook</a>'\n",
              "            + ' to learn more about interactive tables.';\n",
              "          element.innerHTML = '';\n",
              "          dataTable['output_type'] = 'display_data';\n",
              "          await google.colab.output.renderOutput(dataTable, element);\n",
              "          const docLink = document.createElement('div');\n",
              "          docLink.innerHTML = docLinkHtml;\n",
              "          element.appendChild(docLink);\n",
              "        }\n",
              "      </script>\n",
              "    </div>\n",
              "  </div>\n",
              "  "
            ]
          },
          "metadata": {},
          "execution_count": 282
        }
      ]
    },
    {
      "cell_type": "code",
      "source": [
        "ForestValFullMetrics={'Accuracy':[FourForestValMetrics[0],EightForestValMetrics[0],TwelveForestValMetrics[0],SixteenForestValMetrics[0],TwentyForestValMetrics[0],TwentyfourForestValMetrics[0]],\n",
        "                      'Precision':[FourForestValMetrics[1],EightForestValMetrics[1],TwelveForestValMetrics[1],SixteenForestValMetrics[1],TwentyForestValMetrics[1],TwentyfourForestValMetrics[1]],\n",
        "                      'Recall':[FourForestValMetrics[2],EightForestValMetrics[2],TwelveForestValMetrics[2],SixteenForestValMetrics[2],TwentyForestValMetrics[2],TwentyfourForestValMetrics[2]],\n",
        "                      'F1':[FourForestValMetrics[3],EightForestValMetrics[3],TwelveForestValMetrics[3],SixteenForestValMetrics[3],TwentyForestValMetrics[3],TwentyfourForestValMetrics[3]]}\n",
        "ForestValFullMetrics=pd.DataFrame(ForestValFullMetrics, index=[4,8,12,16,20,24])\n",
        "ForestValFullMetrics.index.name='Weeks of Data'\n",
        "ForestValFullMetrics"
      ],
      "metadata": {
        "colab": {
          "base_uri": "https://localhost:8080/"
        },
        "id": "pjw-gBkjRM3l",
        "outputId": "a3742b58-1189-4b0e-fcd8-8bfc64e7ad82"
      },
      "execution_count": null,
      "outputs": [
        {
          "output_type": "execute_result",
          "data": {
            "text/plain": [
              "               Accuracy  Precision    Recall        F1\n",
              "Weeks of Data                                         \n",
              "4              0.781850   0.767093  0.744500  0.755628\n",
              "8              0.838502   0.826307  0.795995  0.810867\n",
              "12             0.890112   0.883906  0.860193  0.871888\n",
              "16             0.943314   0.915177  0.912138  0.913655\n",
              "20             0.951390   0.930118  0.912162  0.921053\n",
              "24             0.960109   0.949914  0.916972  0.933152"
            ],
            "text/html": [
              "\n",
              "  <div id=\"df-d66a958d-8fcc-4659-8785-c06f11054d99\">\n",
              "    <div class=\"colab-df-container\">\n",
              "      <div>\n",
              "<style scoped>\n",
              "    .dataframe tbody tr th:only-of-type {\n",
              "        vertical-align: middle;\n",
              "    }\n",
              "\n",
              "    .dataframe tbody tr th {\n",
              "        vertical-align: top;\n",
              "    }\n",
              "\n",
              "    .dataframe thead th {\n",
              "        text-align: right;\n",
              "    }\n",
              "</style>\n",
              "<table border=\"1\" class=\"dataframe\">\n",
              "  <thead>\n",
              "    <tr style=\"text-align: right;\">\n",
              "      <th></th>\n",
              "      <th>Accuracy</th>\n",
              "      <th>Precision</th>\n",
              "      <th>Recall</th>\n",
              "      <th>F1</th>\n",
              "    </tr>\n",
              "    <tr>\n",
              "      <th>Weeks of Data</th>\n",
              "      <th></th>\n",
              "      <th></th>\n",
              "      <th></th>\n",
              "      <th></th>\n",
              "    </tr>\n",
              "  </thead>\n",
              "  <tbody>\n",
              "    <tr>\n",
              "      <th>4</th>\n",
              "      <td>0.781850</td>\n",
              "      <td>0.767093</td>\n",
              "      <td>0.744500</td>\n",
              "      <td>0.755628</td>\n",
              "    </tr>\n",
              "    <tr>\n",
              "      <th>8</th>\n",
              "      <td>0.838502</td>\n",
              "      <td>0.826307</td>\n",
              "      <td>0.795995</td>\n",
              "      <td>0.810867</td>\n",
              "    </tr>\n",
              "    <tr>\n",
              "      <th>12</th>\n",
              "      <td>0.890112</td>\n",
              "      <td>0.883906</td>\n",
              "      <td>0.860193</td>\n",
              "      <td>0.871888</td>\n",
              "    </tr>\n",
              "    <tr>\n",
              "      <th>16</th>\n",
              "      <td>0.943314</td>\n",
              "      <td>0.915177</td>\n",
              "      <td>0.912138</td>\n",
              "      <td>0.913655</td>\n",
              "    </tr>\n",
              "    <tr>\n",
              "      <th>20</th>\n",
              "      <td>0.951390</td>\n",
              "      <td>0.930118</td>\n",
              "      <td>0.912162</td>\n",
              "      <td>0.921053</td>\n",
              "    </tr>\n",
              "    <tr>\n",
              "      <th>24</th>\n",
              "      <td>0.960109</td>\n",
              "      <td>0.949914</td>\n",
              "      <td>0.916972</td>\n",
              "      <td>0.933152</td>\n",
              "    </tr>\n",
              "  </tbody>\n",
              "</table>\n",
              "</div>\n",
              "      <button class=\"colab-df-convert\" onclick=\"convertToInteractive('df-d66a958d-8fcc-4659-8785-c06f11054d99')\"\n",
              "              title=\"Convert this dataframe to an interactive table.\"\n",
              "              style=\"display:none;\">\n",
              "        \n",
              "  <svg xmlns=\"http://www.w3.org/2000/svg\" height=\"24px\"viewBox=\"0 0 24 24\"\n",
              "       width=\"24px\">\n",
              "    <path d=\"M0 0h24v24H0V0z\" fill=\"none\"/>\n",
              "    <path d=\"M18.56 5.44l.94 2.06.94-2.06 2.06-.94-2.06-.94-.94-2.06-.94 2.06-2.06.94zm-11 1L8.5 8.5l.94-2.06 2.06-.94-2.06-.94L8.5 2.5l-.94 2.06-2.06.94zm10 10l.94 2.06.94-2.06 2.06-.94-2.06-.94-.94-2.06-.94 2.06-2.06.94z\"/><path d=\"M17.41 7.96l-1.37-1.37c-.4-.4-.92-.59-1.43-.59-.52 0-1.04.2-1.43.59L10.3 9.45l-7.72 7.72c-.78.78-.78 2.05 0 2.83L4 21.41c.39.39.9.59 1.41.59.51 0 1.02-.2 1.41-.59l7.78-7.78 2.81-2.81c.8-.78.8-2.07 0-2.86zM5.41 20L4 18.59l7.72-7.72 1.47 1.35L5.41 20z\"/>\n",
              "  </svg>\n",
              "      </button>\n",
              "      \n",
              "  <style>\n",
              "    .colab-df-container {\n",
              "      display:flex;\n",
              "      flex-wrap:wrap;\n",
              "      gap: 12px;\n",
              "    }\n",
              "\n",
              "    .colab-df-convert {\n",
              "      background-color: #E8F0FE;\n",
              "      border: none;\n",
              "      border-radius: 50%;\n",
              "      cursor: pointer;\n",
              "      display: none;\n",
              "      fill: #1967D2;\n",
              "      height: 32px;\n",
              "      padding: 0 0 0 0;\n",
              "      width: 32px;\n",
              "    }\n",
              "\n",
              "    .colab-df-convert:hover {\n",
              "      background-color: #E2EBFA;\n",
              "      box-shadow: 0px 1px 2px rgba(60, 64, 67, 0.3), 0px 1px 3px 1px rgba(60, 64, 67, 0.15);\n",
              "      fill: #174EA6;\n",
              "    }\n",
              "\n",
              "    [theme=dark] .colab-df-convert {\n",
              "      background-color: #3B4455;\n",
              "      fill: #D2E3FC;\n",
              "    }\n",
              "\n",
              "    [theme=dark] .colab-df-convert:hover {\n",
              "      background-color: #434B5C;\n",
              "      box-shadow: 0px 1px 3px 1px rgba(0, 0, 0, 0.15);\n",
              "      filter: drop-shadow(0px 1px 2px rgba(0, 0, 0, 0.3));\n",
              "      fill: #FFFFFF;\n",
              "    }\n",
              "  </style>\n",
              "\n",
              "      <script>\n",
              "        const buttonEl =\n",
              "          document.querySelector('#df-d66a958d-8fcc-4659-8785-c06f11054d99 button.colab-df-convert');\n",
              "        buttonEl.style.display =\n",
              "          google.colab.kernel.accessAllowed ? 'block' : 'none';\n",
              "\n",
              "        async function convertToInteractive(key) {\n",
              "          const element = document.querySelector('#df-d66a958d-8fcc-4659-8785-c06f11054d99');\n",
              "          const dataTable =\n",
              "            await google.colab.kernel.invokeFunction('convertToInteractive',\n",
              "                                                     [key], {});\n",
              "          if (!dataTable) return;\n",
              "\n",
              "          const docLinkHtml = 'Like what you see? Visit the ' +\n",
              "            '<a target=\"_blank\" href=https://colab.research.google.com/notebooks/data_table.ipynb>data table notebook</a>'\n",
              "            + ' to learn more about interactive tables.';\n",
              "          element.innerHTML = '';\n",
              "          dataTable['output_type'] = 'display_data';\n",
              "          await google.colab.output.renderOutput(dataTable, element);\n",
              "          const docLink = document.createElement('div');\n",
              "          docLink.innerHTML = docLinkHtml;\n",
              "          element.appendChild(docLink);\n",
              "        }\n",
              "      </script>\n",
              "    </div>\n",
              "  </div>\n",
              "  "
            ]
          },
          "metadata": {},
          "execution_count": 283
        }
      ]
    },
    {
      "cell_type": "code",
      "source": [
        "ForestTestFullMetrics={'Accuracy':[FourForestTestMetrics[0],EightForestTestMetrics[0],TwelveForestTestMetrics[0],SixteenForestTestMetrics[0],TwentyForestTestMetrics[0],TwentyfourForestTestMetrics[0]],\n",
        "                      'Precision':[FourForestTestMetrics[1],EightForestTestMetrics[1],TwelveForestTestMetrics[1],SixteenForestTestMetrics[1],TwentyForestTestMetrics[1],TwentyfourForestTestMetrics[1]],\n",
        "                      'Recall':[FourForestTestMetrics[2],EightForestTestMetrics[2],TwelveForestTestMetrics[2],SixteenForestTestMetrics[2],TwentyForestTestMetrics[2],TwentyfourForestTestMetrics[2]],\n",
        "                      'F1':[FourForestTestMetrics[3],EightForestTestMetrics[3],TwelveForestTestMetrics[3],SixteenForestTestMetrics[3],TwentyForestTestMetrics[3],TwentyfourForestTestMetrics[3]]}\n",
        "ForestTestFullMetrics=pd.DataFrame(ForestTestFullMetrics, index=[4,8,12,16,20,24])\n",
        "ForestTestFullMetrics.index.name='Weeks of Data'\n",
        "ForestTestFullMetrics"
      ],
      "metadata": {
        "colab": {
          "base_uri": "https://localhost:8080/",
          "height": 269
        },
        "id": "ZF_ojQbQRk5_",
        "outputId": "7b6ba69d-71d3-4bd4-cf1c-91b5ee9193e5"
      },
      "execution_count": null,
      "outputs": [
        {
          "output_type": "execute_result",
          "data": {
            "text/plain": [
              "               Accuracy  Precision    Recall        F1\n",
              "Weeks of Data                                         \n",
              "4              0.780343   0.751526  0.747458  0.749487\n",
              "8              0.835537   0.823643  0.794422  0.808768\n",
              "12             0.891718   0.889855  0.855362  0.872268\n",
              "16             0.940471   0.905379  0.902483  0.903929\n",
              "20             0.946185   0.919818  0.906738  0.913231\n",
              "24             0.960716   0.953859  0.914232  0.933625"
            ],
            "text/html": [
              "\n",
              "  <div id=\"df-08f9b524-3ab6-4f06-8d46-6febe113cf2e\">\n",
              "    <div class=\"colab-df-container\">\n",
              "      <div>\n",
              "<style scoped>\n",
              "    .dataframe tbody tr th:only-of-type {\n",
              "        vertical-align: middle;\n",
              "    }\n",
              "\n",
              "    .dataframe tbody tr th {\n",
              "        vertical-align: top;\n",
              "    }\n",
              "\n",
              "    .dataframe thead th {\n",
              "        text-align: right;\n",
              "    }\n",
              "</style>\n",
              "<table border=\"1\" class=\"dataframe\">\n",
              "  <thead>\n",
              "    <tr style=\"text-align: right;\">\n",
              "      <th></th>\n",
              "      <th>Accuracy</th>\n",
              "      <th>Precision</th>\n",
              "      <th>Recall</th>\n",
              "      <th>F1</th>\n",
              "    </tr>\n",
              "    <tr>\n",
              "      <th>Weeks of Data</th>\n",
              "      <th></th>\n",
              "      <th></th>\n",
              "      <th></th>\n",
              "      <th></th>\n",
              "    </tr>\n",
              "  </thead>\n",
              "  <tbody>\n",
              "    <tr>\n",
              "      <th>4</th>\n",
              "      <td>0.780343</td>\n",
              "      <td>0.751526</td>\n",
              "      <td>0.747458</td>\n",
              "      <td>0.749487</td>\n",
              "    </tr>\n",
              "    <tr>\n",
              "      <th>8</th>\n",
              "      <td>0.835537</td>\n",
              "      <td>0.823643</td>\n",
              "      <td>0.794422</td>\n",
              "      <td>0.808768</td>\n",
              "    </tr>\n",
              "    <tr>\n",
              "      <th>12</th>\n",
              "      <td>0.891718</td>\n",
              "      <td>0.889855</td>\n",
              "      <td>0.855362</td>\n",
              "      <td>0.872268</td>\n",
              "    </tr>\n",
              "    <tr>\n",
              "      <th>16</th>\n",
              "      <td>0.940471</td>\n",
              "      <td>0.905379</td>\n",
              "      <td>0.902483</td>\n",
              "      <td>0.903929</td>\n",
              "    </tr>\n",
              "    <tr>\n",
              "      <th>20</th>\n",
              "      <td>0.946185</td>\n",
              "      <td>0.919818</td>\n",
              "      <td>0.906738</td>\n",
              "      <td>0.913231</td>\n",
              "    </tr>\n",
              "    <tr>\n",
              "      <th>24</th>\n",
              "      <td>0.960716</td>\n",
              "      <td>0.953859</td>\n",
              "      <td>0.914232</td>\n",
              "      <td>0.933625</td>\n",
              "    </tr>\n",
              "  </tbody>\n",
              "</table>\n",
              "</div>\n",
              "      <button class=\"colab-df-convert\" onclick=\"convertToInteractive('df-08f9b524-3ab6-4f06-8d46-6febe113cf2e')\"\n",
              "              title=\"Convert this dataframe to an interactive table.\"\n",
              "              style=\"display:none;\">\n",
              "        \n",
              "  <svg xmlns=\"http://www.w3.org/2000/svg\" height=\"24px\"viewBox=\"0 0 24 24\"\n",
              "       width=\"24px\">\n",
              "    <path d=\"M0 0h24v24H0V0z\" fill=\"none\"/>\n",
              "    <path d=\"M18.56 5.44l.94 2.06.94-2.06 2.06-.94-2.06-.94-.94-2.06-.94 2.06-2.06.94zm-11 1L8.5 8.5l.94-2.06 2.06-.94-2.06-.94L8.5 2.5l-.94 2.06-2.06.94zm10 10l.94 2.06.94-2.06 2.06-.94-2.06-.94-.94-2.06-.94 2.06-2.06.94z\"/><path d=\"M17.41 7.96l-1.37-1.37c-.4-.4-.92-.59-1.43-.59-.52 0-1.04.2-1.43.59L10.3 9.45l-7.72 7.72c-.78.78-.78 2.05 0 2.83L4 21.41c.39.39.9.59 1.41.59.51 0 1.02-.2 1.41-.59l7.78-7.78 2.81-2.81c.8-.78.8-2.07 0-2.86zM5.41 20L4 18.59l7.72-7.72 1.47 1.35L5.41 20z\"/>\n",
              "  </svg>\n",
              "      </button>\n",
              "      \n",
              "  <style>\n",
              "    .colab-df-container {\n",
              "      display:flex;\n",
              "      flex-wrap:wrap;\n",
              "      gap: 12px;\n",
              "    }\n",
              "\n",
              "    .colab-df-convert {\n",
              "      background-color: #E8F0FE;\n",
              "      border: none;\n",
              "      border-radius: 50%;\n",
              "      cursor: pointer;\n",
              "      display: none;\n",
              "      fill: #1967D2;\n",
              "      height: 32px;\n",
              "      padding: 0 0 0 0;\n",
              "      width: 32px;\n",
              "    }\n",
              "\n",
              "    .colab-df-convert:hover {\n",
              "      background-color: #E2EBFA;\n",
              "      box-shadow: 0px 1px 2px rgba(60, 64, 67, 0.3), 0px 1px 3px 1px rgba(60, 64, 67, 0.15);\n",
              "      fill: #174EA6;\n",
              "    }\n",
              "\n",
              "    [theme=dark] .colab-df-convert {\n",
              "      background-color: #3B4455;\n",
              "      fill: #D2E3FC;\n",
              "    }\n",
              "\n",
              "    [theme=dark] .colab-df-convert:hover {\n",
              "      background-color: #434B5C;\n",
              "      box-shadow: 0px 1px 3px 1px rgba(0, 0, 0, 0.15);\n",
              "      filter: drop-shadow(0px 1px 2px rgba(0, 0, 0, 0.3));\n",
              "      fill: #FFFFFF;\n",
              "    }\n",
              "  </style>\n",
              "\n",
              "      <script>\n",
              "        const buttonEl =\n",
              "          document.querySelector('#df-08f9b524-3ab6-4f06-8d46-6febe113cf2e button.colab-df-convert');\n",
              "        buttonEl.style.display =\n",
              "          google.colab.kernel.accessAllowed ? 'block' : 'none';\n",
              "\n",
              "        async function convertToInteractive(key) {\n",
              "          const element = document.querySelector('#df-08f9b524-3ab6-4f06-8d46-6febe113cf2e');\n",
              "          const dataTable =\n",
              "            await google.colab.kernel.invokeFunction('convertToInteractive',\n",
              "                                                     [key], {});\n",
              "          if (!dataTable) return;\n",
              "\n",
              "          const docLinkHtml = 'Like what you see? Visit the ' +\n",
              "            '<a target=\"_blank\" href=https://colab.research.google.com/notebooks/data_table.ipynb>data table notebook</a>'\n",
              "            + ' to learn more about interactive tables.';\n",
              "          element.innerHTML = '';\n",
              "          dataTable['output_type'] = 'display_data';\n",
              "          await google.colab.output.renderOutput(dataTable, element);\n",
              "          const docLink = document.createElement('div');\n",
              "          docLink.innerHTML = docLinkHtml;\n",
              "          element.appendChild(docLink);\n",
              "        }\n",
              "      </script>\n",
              "    </div>\n",
              "  </div>\n",
              "  "
            ]
          },
          "metadata": {},
          "execution_count": 70
        }
      ]
    },
    {
      "cell_type": "code",
      "source": [
        "NNTrainFullMetrics={'Accuracy':[FourNNTrainMetrics[0],EightNNTrainMetrics[0],TwelveNNTrainMetrics[0],SixteenNNTrainMetrics[0],TwentyNNTrainMetrics[0],TwentyfourNNTrainMetrics[0]],\n",
        "                      'Precision':[FourNNTrainMetrics[1],EightNNTrainMetrics[1],TwelveNNTrainMetrics[1],SixteenNNTrainMetrics[1],TwentyNNTrainMetrics[1],TwentyfourNNTrainMetrics[1]],\n",
        "                      'Recall':[FourNNTrainMetrics[2],EightNNTrainMetrics[2],TwelveNNTrainMetrics[2],SixteenNNTrainMetrics[2],TwentyNNTrainMetrics[2],TwentyfourNNTrainMetrics[2]],\n",
        "                      'F1':[FourNNTrainMetrics[3],EightNNTrainMetrics[3],TwelveNNTrainMetrics[3],SixteenNNTrainMetrics[3],TwentyNNTrainMetrics[3],TwentyfourNNTrainMetrics[3]]}\n",
        "NNTrainFullMetrics=pd.DataFrame(NNTrainFullMetrics, index=[4,8,12,16,20,24])\n",
        "NNTrainFullMetrics.index.name='Weeks of Data'\n",
        "NNTrainFullMetrics"
      ],
      "metadata": {
        "colab": {
          "base_uri": "https://localhost:8080/"
        },
        "outputId": "4e8e71e7-0496-4376-b935-da4c97c8dd8f",
        "id": "yG_RIP6wR-4m"
      },
      "execution_count": null,
      "outputs": [
        {
          "output_type": "execute_result",
          "data": {
            "text/plain": [
              "               Accuracy  Precision    Recall        F1\n",
              "Weeks of Data                                         \n",
              "4              0.746296   0.692088  0.765098  0.726764\n",
              "8              0.788441   0.811690  0.670194  0.734186\n",
              "12             0.794033   0.877643  0.607381  0.717919\n",
              "16             0.923542   0.913222  0.836471  0.873163\n",
              "20             0.924477   0.920223  0.828523  0.871969\n",
              "24             0.933469   0.935497  0.839554  0.884933"
            ],
            "text/html": [
              "\n",
              "  <div id=\"df-b34e7aab-8790-4c37-9bac-f3202a7836b7\">\n",
              "    <div class=\"colab-df-container\">\n",
              "      <div>\n",
              "<style scoped>\n",
              "    .dataframe tbody tr th:only-of-type {\n",
              "        vertical-align: middle;\n",
              "    }\n",
              "\n",
              "    .dataframe tbody tr th {\n",
              "        vertical-align: top;\n",
              "    }\n",
              "\n",
              "    .dataframe thead th {\n",
              "        text-align: right;\n",
              "    }\n",
              "</style>\n",
              "<table border=\"1\" class=\"dataframe\">\n",
              "  <thead>\n",
              "    <tr style=\"text-align: right;\">\n",
              "      <th></th>\n",
              "      <th>Accuracy</th>\n",
              "      <th>Precision</th>\n",
              "      <th>Recall</th>\n",
              "      <th>F1</th>\n",
              "    </tr>\n",
              "    <tr>\n",
              "      <th>Weeks of Data</th>\n",
              "      <th></th>\n",
              "      <th></th>\n",
              "      <th></th>\n",
              "      <th></th>\n",
              "    </tr>\n",
              "  </thead>\n",
              "  <tbody>\n",
              "    <tr>\n",
              "      <th>4</th>\n",
              "      <td>0.746296</td>\n",
              "      <td>0.692088</td>\n",
              "      <td>0.765098</td>\n",
              "      <td>0.726764</td>\n",
              "    </tr>\n",
              "    <tr>\n",
              "      <th>8</th>\n",
              "      <td>0.788441</td>\n",
              "      <td>0.811690</td>\n",
              "      <td>0.670194</td>\n",
              "      <td>0.734186</td>\n",
              "    </tr>\n",
              "    <tr>\n",
              "      <th>12</th>\n",
              "      <td>0.794033</td>\n",
              "      <td>0.877643</td>\n",
              "      <td>0.607381</td>\n",
              "      <td>0.717919</td>\n",
              "    </tr>\n",
              "    <tr>\n",
              "      <th>16</th>\n",
              "      <td>0.923542</td>\n",
              "      <td>0.913222</td>\n",
              "      <td>0.836471</td>\n",
              "      <td>0.873163</td>\n",
              "    </tr>\n",
              "    <tr>\n",
              "      <th>20</th>\n",
              "      <td>0.924477</td>\n",
              "      <td>0.920223</td>\n",
              "      <td>0.828523</td>\n",
              "      <td>0.871969</td>\n",
              "    </tr>\n",
              "    <tr>\n",
              "      <th>24</th>\n",
              "      <td>0.933469</td>\n",
              "      <td>0.935497</td>\n",
              "      <td>0.839554</td>\n",
              "      <td>0.884933</td>\n",
              "    </tr>\n",
              "  </tbody>\n",
              "</table>\n",
              "</div>\n",
              "      <button class=\"colab-df-convert\" onclick=\"convertToInteractive('df-b34e7aab-8790-4c37-9bac-f3202a7836b7')\"\n",
              "              title=\"Convert this dataframe to an interactive table.\"\n",
              "              style=\"display:none;\">\n",
              "        \n",
              "  <svg xmlns=\"http://www.w3.org/2000/svg\" height=\"24px\"viewBox=\"0 0 24 24\"\n",
              "       width=\"24px\">\n",
              "    <path d=\"M0 0h24v24H0V0z\" fill=\"none\"/>\n",
              "    <path d=\"M18.56 5.44l.94 2.06.94-2.06 2.06-.94-2.06-.94-.94-2.06-.94 2.06-2.06.94zm-11 1L8.5 8.5l.94-2.06 2.06-.94-2.06-.94L8.5 2.5l-.94 2.06-2.06.94zm10 10l.94 2.06.94-2.06 2.06-.94-2.06-.94-.94-2.06-.94 2.06-2.06.94z\"/><path d=\"M17.41 7.96l-1.37-1.37c-.4-.4-.92-.59-1.43-.59-.52 0-1.04.2-1.43.59L10.3 9.45l-7.72 7.72c-.78.78-.78 2.05 0 2.83L4 21.41c.39.39.9.59 1.41.59.51 0 1.02-.2 1.41-.59l7.78-7.78 2.81-2.81c.8-.78.8-2.07 0-2.86zM5.41 20L4 18.59l7.72-7.72 1.47 1.35L5.41 20z\"/>\n",
              "  </svg>\n",
              "      </button>\n",
              "      \n",
              "  <style>\n",
              "    .colab-df-container {\n",
              "      display:flex;\n",
              "      flex-wrap:wrap;\n",
              "      gap: 12px;\n",
              "    }\n",
              "\n",
              "    .colab-df-convert {\n",
              "      background-color: #E8F0FE;\n",
              "      border: none;\n",
              "      border-radius: 50%;\n",
              "      cursor: pointer;\n",
              "      display: none;\n",
              "      fill: #1967D2;\n",
              "      height: 32px;\n",
              "      padding: 0 0 0 0;\n",
              "      width: 32px;\n",
              "    }\n",
              "\n",
              "    .colab-df-convert:hover {\n",
              "      background-color: #E2EBFA;\n",
              "      box-shadow: 0px 1px 2px rgba(60, 64, 67, 0.3), 0px 1px 3px 1px rgba(60, 64, 67, 0.15);\n",
              "      fill: #174EA6;\n",
              "    }\n",
              "\n",
              "    [theme=dark] .colab-df-convert {\n",
              "      background-color: #3B4455;\n",
              "      fill: #D2E3FC;\n",
              "    }\n",
              "\n",
              "    [theme=dark] .colab-df-convert:hover {\n",
              "      background-color: #434B5C;\n",
              "      box-shadow: 0px 1px 3px 1px rgba(0, 0, 0, 0.15);\n",
              "      filter: drop-shadow(0px 1px 2px rgba(0, 0, 0, 0.3));\n",
              "      fill: #FFFFFF;\n",
              "    }\n",
              "  </style>\n",
              "\n",
              "      <script>\n",
              "        const buttonEl =\n",
              "          document.querySelector('#df-b34e7aab-8790-4c37-9bac-f3202a7836b7 button.colab-df-convert');\n",
              "        buttonEl.style.display =\n",
              "          google.colab.kernel.accessAllowed ? 'block' : 'none';\n",
              "\n",
              "        async function convertToInteractive(key) {\n",
              "          const element = document.querySelector('#df-b34e7aab-8790-4c37-9bac-f3202a7836b7');\n",
              "          const dataTable =\n",
              "            await google.colab.kernel.invokeFunction('convertToInteractive',\n",
              "                                                     [key], {});\n",
              "          if (!dataTable) return;\n",
              "\n",
              "          const docLinkHtml = 'Like what you see? Visit the ' +\n",
              "            '<a target=\"_blank\" href=https://colab.research.google.com/notebooks/data_table.ipynb>data table notebook</a>'\n",
              "            + ' to learn more about interactive tables.';\n",
              "          element.innerHTML = '';\n",
              "          dataTable['output_type'] = 'display_data';\n",
              "          await google.colab.output.renderOutput(dataTable, element);\n",
              "          const docLink = document.createElement('div');\n",
              "          docLink.innerHTML = docLinkHtml;\n",
              "          element.appendChild(docLink);\n",
              "        }\n",
              "      </script>\n",
              "    </div>\n",
              "  </div>\n",
              "  "
            ]
          },
          "metadata": {},
          "execution_count": 285
        }
      ]
    },
    {
      "cell_type": "code",
      "source": [
        "NNValFullMetrics={'Accuracy':[FourNNValMetrics[0],EightNNValMetrics[0],TwelveNNValMetrics[0],SixteenNNValMetrics[0],TwentyNNValMetrics[0],TwentyfourNNValMetrics[0]],\n",
        "                      'Precision':[FourNNValMetrics[1],EightNNValMetrics[1],TwelveNNValMetrics[1],SixteenNNValMetrics[1],TwentyNNValMetrics[1],TwentyfourNNValMetrics[1]],\n",
        "                      'Recall':[FourNNValMetrics[2],EightNNValMetrics[2],TwelveNNValMetrics[2],SixteenNNValMetrics[2],TwentyNNValMetrics[2],TwentyfourNNValMetrics[2]],\n",
        "                      'F1':[FourNNValMetrics[3],EightNNValMetrics[3],TwelveNNValMetrics[3],SixteenNNValMetrics[3],TwentyNNValMetrics[3],TwentyfourNNValMetrics[3]]}\n",
        "NNValFullMetrics=pd.DataFrame(NNValFullMetrics, index=[4,8,12,16,20,24])\n",
        "NNValFullMetrics.index.name='Weeks of Data'\n",
        "NNValFullMetrics"
      ],
      "metadata": {
        "colab": {
          "base_uri": "https://localhost:8080/"
        },
        "outputId": "d4827dcb-d609-4865-a793-0b3ea2956bd3",
        "id": "r6XB92IMR-4n"
      },
      "execution_count": null,
      "outputs": [
        {
          "output_type": "execute_result",
          "data": {
            "text/plain": [
              "               Accuracy  Precision    Recall        F1\n",
              "Weeks of Data                                         \n",
              "4              0.748654   0.706774  0.760823  0.732804\n",
              "8              0.787464   0.813590  0.663298  0.730797\n",
              "12             0.815375   0.866426  0.680144  0.762066\n",
              "16             0.924749   0.924252  0.839976  0.880101\n",
              "20             0.927185   0.929913  0.828185  0.876106\n",
              "24             0.929635   0.927935  0.832944  0.877877"
            ],
            "text/html": [
              "\n",
              "  <div id=\"df-8dd32400-27ff-4459-a23f-94256309d83e\">\n",
              "    <div class=\"colab-df-container\">\n",
              "      <div>\n",
              "<style scoped>\n",
              "    .dataframe tbody tr th:only-of-type {\n",
              "        vertical-align: middle;\n",
              "    }\n",
              "\n",
              "    .dataframe tbody tr th {\n",
              "        vertical-align: top;\n",
              "    }\n",
              "\n",
              "    .dataframe thead th {\n",
              "        text-align: right;\n",
              "    }\n",
              "</style>\n",
              "<table border=\"1\" class=\"dataframe\">\n",
              "  <thead>\n",
              "    <tr style=\"text-align: right;\">\n",
              "      <th></th>\n",
              "      <th>Accuracy</th>\n",
              "      <th>Precision</th>\n",
              "      <th>Recall</th>\n",
              "      <th>F1</th>\n",
              "    </tr>\n",
              "    <tr>\n",
              "      <th>Weeks of Data</th>\n",
              "      <th></th>\n",
              "      <th></th>\n",
              "      <th></th>\n",
              "      <th></th>\n",
              "    </tr>\n",
              "  </thead>\n",
              "  <tbody>\n",
              "    <tr>\n",
              "      <th>4</th>\n",
              "      <td>0.748654</td>\n",
              "      <td>0.706774</td>\n",
              "      <td>0.760823</td>\n",
              "      <td>0.732804</td>\n",
              "    </tr>\n",
              "    <tr>\n",
              "      <th>8</th>\n",
              "      <td>0.787464</td>\n",
              "      <td>0.813590</td>\n",
              "      <td>0.663298</td>\n",
              "      <td>0.730797</td>\n",
              "    </tr>\n",
              "    <tr>\n",
              "      <th>12</th>\n",
              "      <td>0.815375</td>\n",
              "      <td>0.866426</td>\n",
              "      <td>0.680144</td>\n",
              "      <td>0.762066</td>\n",
              "    </tr>\n",
              "    <tr>\n",
              "      <th>16</th>\n",
              "      <td>0.924749</td>\n",
              "      <td>0.924252</td>\n",
              "      <td>0.839976</td>\n",
              "      <td>0.880101</td>\n",
              "    </tr>\n",
              "    <tr>\n",
              "      <th>20</th>\n",
              "      <td>0.927185</td>\n",
              "      <td>0.929913</td>\n",
              "      <td>0.828185</td>\n",
              "      <td>0.876106</td>\n",
              "    </tr>\n",
              "    <tr>\n",
              "      <th>24</th>\n",
              "      <td>0.929635</td>\n",
              "      <td>0.927935</td>\n",
              "      <td>0.832944</td>\n",
              "      <td>0.877877</td>\n",
              "    </tr>\n",
              "  </tbody>\n",
              "</table>\n",
              "</div>\n",
              "      <button class=\"colab-df-convert\" onclick=\"convertToInteractive('df-8dd32400-27ff-4459-a23f-94256309d83e')\"\n",
              "              title=\"Convert this dataframe to an interactive table.\"\n",
              "              style=\"display:none;\">\n",
              "        \n",
              "  <svg xmlns=\"http://www.w3.org/2000/svg\" height=\"24px\"viewBox=\"0 0 24 24\"\n",
              "       width=\"24px\">\n",
              "    <path d=\"M0 0h24v24H0V0z\" fill=\"none\"/>\n",
              "    <path d=\"M18.56 5.44l.94 2.06.94-2.06 2.06-.94-2.06-.94-.94-2.06-.94 2.06-2.06.94zm-11 1L8.5 8.5l.94-2.06 2.06-.94-2.06-.94L8.5 2.5l-.94 2.06-2.06.94zm10 10l.94 2.06.94-2.06 2.06-.94-2.06-.94-.94-2.06-.94 2.06-2.06.94z\"/><path d=\"M17.41 7.96l-1.37-1.37c-.4-.4-.92-.59-1.43-.59-.52 0-1.04.2-1.43.59L10.3 9.45l-7.72 7.72c-.78.78-.78 2.05 0 2.83L4 21.41c.39.39.9.59 1.41.59.51 0 1.02-.2 1.41-.59l7.78-7.78 2.81-2.81c.8-.78.8-2.07 0-2.86zM5.41 20L4 18.59l7.72-7.72 1.47 1.35L5.41 20z\"/>\n",
              "  </svg>\n",
              "      </button>\n",
              "      \n",
              "  <style>\n",
              "    .colab-df-container {\n",
              "      display:flex;\n",
              "      flex-wrap:wrap;\n",
              "      gap: 12px;\n",
              "    }\n",
              "\n",
              "    .colab-df-convert {\n",
              "      background-color: #E8F0FE;\n",
              "      border: none;\n",
              "      border-radius: 50%;\n",
              "      cursor: pointer;\n",
              "      display: none;\n",
              "      fill: #1967D2;\n",
              "      height: 32px;\n",
              "      padding: 0 0 0 0;\n",
              "      width: 32px;\n",
              "    }\n",
              "\n",
              "    .colab-df-convert:hover {\n",
              "      background-color: #E2EBFA;\n",
              "      box-shadow: 0px 1px 2px rgba(60, 64, 67, 0.3), 0px 1px 3px 1px rgba(60, 64, 67, 0.15);\n",
              "      fill: #174EA6;\n",
              "    }\n",
              "\n",
              "    [theme=dark] .colab-df-convert {\n",
              "      background-color: #3B4455;\n",
              "      fill: #D2E3FC;\n",
              "    }\n",
              "\n",
              "    [theme=dark] .colab-df-convert:hover {\n",
              "      background-color: #434B5C;\n",
              "      box-shadow: 0px 1px 3px 1px rgba(0, 0, 0, 0.15);\n",
              "      filter: drop-shadow(0px 1px 2px rgba(0, 0, 0, 0.3));\n",
              "      fill: #FFFFFF;\n",
              "    }\n",
              "  </style>\n",
              "\n",
              "      <script>\n",
              "        const buttonEl =\n",
              "          document.querySelector('#df-8dd32400-27ff-4459-a23f-94256309d83e button.colab-df-convert');\n",
              "        buttonEl.style.display =\n",
              "          google.colab.kernel.accessAllowed ? 'block' : 'none';\n",
              "\n",
              "        async function convertToInteractive(key) {\n",
              "          const element = document.querySelector('#df-8dd32400-27ff-4459-a23f-94256309d83e');\n",
              "          const dataTable =\n",
              "            await google.colab.kernel.invokeFunction('convertToInteractive',\n",
              "                                                     [key], {});\n",
              "          if (!dataTable) return;\n",
              "\n",
              "          const docLinkHtml = 'Like what you see? Visit the ' +\n",
              "            '<a target=\"_blank\" href=https://colab.research.google.com/notebooks/data_table.ipynb>data table notebook</a>'\n",
              "            + ' to learn more about interactive tables.';\n",
              "          element.innerHTML = '';\n",
              "          dataTable['output_type'] = 'display_data';\n",
              "          await google.colab.output.renderOutput(dataTable, element);\n",
              "          const docLink = document.createElement('div');\n",
              "          docLink.innerHTML = docLinkHtml;\n",
              "          element.appendChild(docLink);\n",
              "        }\n",
              "      </script>\n",
              "    </div>\n",
              "  </div>\n",
              "  "
            ]
          },
          "metadata": {},
          "execution_count": 286
        }
      ]
    },
    {
      "cell_type": "code",
      "source": [
        "SVMTrainFullMetrics={'Accuracy':[FourSVMTrainMetrics[0],EightSVMTrainMetrics[0],TwelveSVMTrainMetrics[0],SixteenSVMTrainMetrics[0],TwentySVMTrainMetrics[0],TwentyfourSVMTrainMetrics[0]],\n",
        "                      'Precision':[FourSVMTrainMetrics[1],EightSVMTrainMetrics[1],TwelveSVMTrainMetrics[1],SixteenSVMTrainMetrics[1],TwentySVMTrainMetrics[1],TwentyfourSVMTrainMetrics[1]],\n",
        "                      'Recall':[FourSVMTrainMetrics[2],EightSVMTrainMetrics[2],TwelveSVMTrainMetrics[2],SixteenSVMTrainMetrics[2],TwentySVMTrainMetrics[2],TwentyfourSVMTrainMetrics[2]],\n",
        "                      'F1':[FourSVMTrainMetrics[3],EightSVMTrainMetrics[3],TwelveSVMTrainMetrics[3],SixteenSVMTrainMetrics[3],TwentySVMTrainMetrics[3],TwentyfourSVMTrainMetrics[3]]}\n",
        "SVMTrainFullMetrics=pd.DataFrame(SVMTrainFullMetrics, index=[4,8,12,16,20,24])\n",
        "SVMTrainFullMetrics.index.name='Weeks of Data'\n",
        "SVMTrainFullMetrics"
      ],
      "metadata": {
        "colab": {
          "base_uri": "https://localhost:8080/"
        },
        "outputId": "c0899685-ea19-4796-fd46-de981e832b6a",
        "id": "0G79gT4PR_Jm"
      },
      "execution_count": null,
      "outputs": [
        {
          "output_type": "execute_result",
          "data": {
            "text/plain": [
              "               Accuracy  Precision    Recall        F1\n",
              "Weeks of Data                                         \n",
              "4              0.660156   0.631612  0.550387  0.588209\n",
              "8              0.668678   0.639587  0.549815  0.591313\n",
              "12             0.674664   0.640179  0.561912  0.598498\n",
              "16             0.695072   0.747049  0.046597  0.087723\n",
              "20             0.699210   0.773215  0.043827  0.082952\n",
              "24             0.705707   0.789869  0.046628  0.088057"
            ],
            "text/html": [
              "\n",
              "  <div id=\"df-b73d7971-deac-4c7c-9760-731407fe01ff\">\n",
              "    <div class=\"colab-df-container\">\n",
              "      <div>\n",
              "<style scoped>\n",
              "    .dataframe tbody tr th:only-of-type {\n",
              "        vertical-align: middle;\n",
              "    }\n",
              "\n",
              "    .dataframe tbody tr th {\n",
              "        vertical-align: top;\n",
              "    }\n",
              "\n",
              "    .dataframe thead th {\n",
              "        text-align: right;\n",
              "    }\n",
              "</style>\n",
              "<table border=\"1\" class=\"dataframe\">\n",
              "  <thead>\n",
              "    <tr style=\"text-align: right;\">\n",
              "      <th></th>\n",
              "      <th>Accuracy</th>\n",
              "      <th>Precision</th>\n",
              "      <th>Recall</th>\n",
              "      <th>F1</th>\n",
              "    </tr>\n",
              "    <tr>\n",
              "      <th>Weeks of Data</th>\n",
              "      <th></th>\n",
              "      <th></th>\n",
              "      <th></th>\n",
              "      <th></th>\n",
              "    </tr>\n",
              "  </thead>\n",
              "  <tbody>\n",
              "    <tr>\n",
              "      <th>4</th>\n",
              "      <td>0.660156</td>\n",
              "      <td>0.631612</td>\n",
              "      <td>0.550387</td>\n",
              "      <td>0.588209</td>\n",
              "    </tr>\n",
              "    <tr>\n",
              "      <th>8</th>\n",
              "      <td>0.668678</td>\n",
              "      <td>0.639587</td>\n",
              "      <td>0.549815</td>\n",
              "      <td>0.591313</td>\n",
              "    </tr>\n",
              "    <tr>\n",
              "      <th>12</th>\n",
              "      <td>0.674664</td>\n",
              "      <td>0.640179</td>\n",
              "      <td>0.561912</td>\n",
              "      <td>0.598498</td>\n",
              "    </tr>\n",
              "    <tr>\n",
              "      <th>16</th>\n",
              "      <td>0.695072</td>\n",
              "      <td>0.747049</td>\n",
              "      <td>0.046597</td>\n",
              "      <td>0.087723</td>\n",
              "    </tr>\n",
              "    <tr>\n",
              "      <th>20</th>\n",
              "      <td>0.699210</td>\n",
              "      <td>0.773215</td>\n",
              "      <td>0.043827</td>\n",
              "      <td>0.082952</td>\n",
              "    </tr>\n",
              "    <tr>\n",
              "      <th>24</th>\n",
              "      <td>0.705707</td>\n",
              "      <td>0.789869</td>\n",
              "      <td>0.046628</td>\n",
              "      <td>0.088057</td>\n",
              "    </tr>\n",
              "  </tbody>\n",
              "</table>\n",
              "</div>\n",
              "      <button class=\"colab-df-convert\" onclick=\"convertToInteractive('df-b73d7971-deac-4c7c-9760-731407fe01ff')\"\n",
              "              title=\"Convert this dataframe to an interactive table.\"\n",
              "              style=\"display:none;\">\n",
              "        \n",
              "  <svg xmlns=\"http://www.w3.org/2000/svg\" height=\"24px\"viewBox=\"0 0 24 24\"\n",
              "       width=\"24px\">\n",
              "    <path d=\"M0 0h24v24H0V0z\" fill=\"none\"/>\n",
              "    <path d=\"M18.56 5.44l.94 2.06.94-2.06 2.06-.94-2.06-.94-.94-2.06-.94 2.06-2.06.94zm-11 1L8.5 8.5l.94-2.06 2.06-.94-2.06-.94L8.5 2.5l-.94 2.06-2.06.94zm10 10l.94 2.06.94-2.06 2.06-.94-2.06-.94-.94-2.06-.94 2.06-2.06.94z\"/><path d=\"M17.41 7.96l-1.37-1.37c-.4-.4-.92-.59-1.43-.59-.52 0-1.04.2-1.43.59L10.3 9.45l-7.72 7.72c-.78.78-.78 2.05 0 2.83L4 21.41c.39.39.9.59 1.41.59.51 0 1.02-.2 1.41-.59l7.78-7.78 2.81-2.81c.8-.78.8-2.07 0-2.86zM5.41 20L4 18.59l7.72-7.72 1.47 1.35L5.41 20z\"/>\n",
              "  </svg>\n",
              "      </button>\n",
              "      \n",
              "  <style>\n",
              "    .colab-df-container {\n",
              "      display:flex;\n",
              "      flex-wrap:wrap;\n",
              "      gap: 12px;\n",
              "    }\n",
              "\n",
              "    .colab-df-convert {\n",
              "      background-color: #E8F0FE;\n",
              "      border: none;\n",
              "      border-radius: 50%;\n",
              "      cursor: pointer;\n",
              "      display: none;\n",
              "      fill: #1967D2;\n",
              "      height: 32px;\n",
              "      padding: 0 0 0 0;\n",
              "      width: 32px;\n",
              "    }\n",
              "\n",
              "    .colab-df-convert:hover {\n",
              "      background-color: #E2EBFA;\n",
              "      box-shadow: 0px 1px 2px rgba(60, 64, 67, 0.3), 0px 1px 3px 1px rgba(60, 64, 67, 0.15);\n",
              "      fill: #174EA6;\n",
              "    }\n",
              "\n",
              "    [theme=dark] .colab-df-convert {\n",
              "      background-color: #3B4455;\n",
              "      fill: #D2E3FC;\n",
              "    }\n",
              "\n",
              "    [theme=dark] .colab-df-convert:hover {\n",
              "      background-color: #434B5C;\n",
              "      box-shadow: 0px 1px 3px 1px rgba(0, 0, 0, 0.15);\n",
              "      filter: drop-shadow(0px 1px 2px rgba(0, 0, 0, 0.3));\n",
              "      fill: #FFFFFF;\n",
              "    }\n",
              "  </style>\n",
              "\n",
              "      <script>\n",
              "        const buttonEl =\n",
              "          document.querySelector('#df-b73d7971-deac-4c7c-9760-731407fe01ff button.colab-df-convert');\n",
              "        buttonEl.style.display =\n",
              "          google.colab.kernel.accessAllowed ? 'block' : 'none';\n",
              "\n",
              "        async function convertToInteractive(key) {\n",
              "          const element = document.querySelector('#df-b73d7971-deac-4c7c-9760-731407fe01ff');\n",
              "          const dataTable =\n",
              "            await google.colab.kernel.invokeFunction('convertToInteractive',\n",
              "                                                     [key], {});\n",
              "          if (!dataTable) return;\n",
              "\n",
              "          const docLinkHtml = 'Like what you see? Visit the ' +\n",
              "            '<a target=\"_blank\" href=https://colab.research.google.com/notebooks/data_table.ipynb>data table notebook</a>'\n",
              "            + ' to learn more about interactive tables.';\n",
              "          element.innerHTML = '';\n",
              "          dataTable['output_type'] = 'display_data';\n",
              "          await google.colab.output.renderOutput(dataTable, element);\n",
              "          const docLink = document.createElement('div');\n",
              "          docLink.innerHTML = docLinkHtml;\n",
              "          element.appendChild(docLink);\n",
              "        }\n",
              "      </script>\n",
              "    </div>\n",
              "  </div>\n",
              "  "
            ]
          },
          "metadata": {},
          "execution_count": 287
        }
      ]
    },
    {
      "cell_type": "code",
      "source": [
        "SVMValFullMetrics={'Accuracy':[FourSVMValMetrics[0],EightSVMValMetrics[0],TwelveSVMValMetrics[0],SixteenSVMValMetrics[0],TwentySVMValMetrics[0],TwentyfourSVMValMetrics[0]],\n",
        "                      'Precision':[FourSVMValMetrics[1],EightSVMValMetrics[1],TwelveSVMValMetrics[1],SixteenSVMValMetrics[1],TwentySVMValMetrics[1],TwentyfourSVMValMetrics[1]],\n",
        "                      'Recall':[FourSVMValMetrics[2],EightSVMValMetrics[2],TwelveSVMValMetrics[2],SixteenSVMValMetrics[2],TwentySVMValMetrics[2],TwentyfourSVMValMetrics[2]],\n",
        "                      'F1':[FourSVMValMetrics[3],EightSVMValMetrics[3],TwelveSVMValMetrics[3],SixteenSVMValMetrics[3],TwentySVMValMetrics[3],TwentyfourSVMValMetrics[3]]}\n",
        "SVMValFullMetrics=pd.DataFrame(SVMValFullMetrics, index=[4,8,12,16,20,24])\n",
        "SVMValFullMetrics.index.name='Weeks of Data'\n",
        "SVMValFullMetrics"
      ],
      "metadata": {
        "colab": {
          "base_uri": "https://localhost:8080/"
        },
        "outputId": "5d099cec-8760-45b6-b33d-20d9dfcff589",
        "id": "ETYeEHJPR_Jn"
      },
      "execution_count": null,
      "outputs": [
        {
          "output_type": "execute_result",
          "data": {
            "text/plain": [
              "               Accuracy  Precision    Recall        F1\n",
              "Weeks of Data                                         \n",
              "4              0.660076   0.646961  0.549503  0.594263\n",
              "8              0.675214   0.645078  0.562980  0.601239\n",
              "12             0.670910   0.639298  0.557529  0.595620\n",
              "16             0.680532   0.758242  0.041667  0.078993\n",
              "20             0.699140   0.768817  0.046010  0.086825\n",
              "24             0.706692   0.774194  0.048016  0.090424"
            ],
            "text/html": [
              "\n",
              "  <div id=\"df-6a4cb62a-dd23-4b34-8616-ec3cc0d546fc\">\n",
              "    <div class=\"colab-df-container\">\n",
              "      <div>\n",
              "<style scoped>\n",
              "    .dataframe tbody tr th:only-of-type {\n",
              "        vertical-align: middle;\n",
              "    }\n",
              "\n",
              "    .dataframe tbody tr th {\n",
              "        vertical-align: top;\n",
              "    }\n",
              "\n",
              "    .dataframe thead th {\n",
              "        text-align: right;\n",
              "    }\n",
              "</style>\n",
              "<table border=\"1\" class=\"dataframe\">\n",
              "  <thead>\n",
              "    <tr style=\"text-align: right;\">\n",
              "      <th></th>\n",
              "      <th>Accuracy</th>\n",
              "      <th>Precision</th>\n",
              "      <th>Recall</th>\n",
              "      <th>F1</th>\n",
              "    </tr>\n",
              "    <tr>\n",
              "      <th>Weeks of Data</th>\n",
              "      <th></th>\n",
              "      <th></th>\n",
              "      <th></th>\n",
              "      <th></th>\n",
              "    </tr>\n",
              "  </thead>\n",
              "  <tbody>\n",
              "    <tr>\n",
              "      <th>4</th>\n",
              "      <td>0.660076</td>\n",
              "      <td>0.646961</td>\n",
              "      <td>0.549503</td>\n",
              "      <td>0.594263</td>\n",
              "    </tr>\n",
              "    <tr>\n",
              "      <th>8</th>\n",
              "      <td>0.675214</td>\n",
              "      <td>0.645078</td>\n",
              "      <td>0.562980</td>\n",
              "      <td>0.601239</td>\n",
              "    </tr>\n",
              "    <tr>\n",
              "      <th>12</th>\n",
              "      <td>0.670910</td>\n",
              "      <td>0.639298</td>\n",
              "      <td>0.557529</td>\n",
              "      <td>0.595620</td>\n",
              "    </tr>\n",
              "    <tr>\n",
              "      <th>16</th>\n",
              "      <td>0.680532</td>\n",
              "      <td>0.758242</td>\n",
              "      <td>0.041667</td>\n",
              "      <td>0.078993</td>\n",
              "    </tr>\n",
              "    <tr>\n",
              "      <th>20</th>\n",
              "      <td>0.699140</td>\n",
              "      <td>0.768817</td>\n",
              "      <td>0.046010</td>\n",
              "      <td>0.086825</td>\n",
              "    </tr>\n",
              "    <tr>\n",
              "      <th>24</th>\n",
              "      <td>0.706692</td>\n",
              "      <td>0.774194</td>\n",
              "      <td>0.048016</td>\n",
              "      <td>0.090424</td>\n",
              "    </tr>\n",
              "  </tbody>\n",
              "</table>\n",
              "</div>\n",
              "      <button class=\"colab-df-convert\" onclick=\"convertToInteractive('df-6a4cb62a-dd23-4b34-8616-ec3cc0d546fc')\"\n",
              "              title=\"Convert this dataframe to an interactive table.\"\n",
              "              style=\"display:none;\">\n",
              "        \n",
              "  <svg xmlns=\"http://www.w3.org/2000/svg\" height=\"24px\"viewBox=\"0 0 24 24\"\n",
              "       width=\"24px\">\n",
              "    <path d=\"M0 0h24v24H0V0z\" fill=\"none\"/>\n",
              "    <path d=\"M18.56 5.44l.94 2.06.94-2.06 2.06-.94-2.06-.94-.94-2.06-.94 2.06-2.06.94zm-11 1L8.5 8.5l.94-2.06 2.06-.94-2.06-.94L8.5 2.5l-.94 2.06-2.06.94zm10 10l.94 2.06.94-2.06 2.06-.94-2.06-.94-.94-2.06-.94 2.06-2.06.94z\"/><path d=\"M17.41 7.96l-1.37-1.37c-.4-.4-.92-.59-1.43-.59-.52 0-1.04.2-1.43.59L10.3 9.45l-7.72 7.72c-.78.78-.78 2.05 0 2.83L4 21.41c.39.39.9.59 1.41.59.51 0 1.02-.2 1.41-.59l7.78-7.78 2.81-2.81c.8-.78.8-2.07 0-2.86zM5.41 20L4 18.59l7.72-7.72 1.47 1.35L5.41 20z\"/>\n",
              "  </svg>\n",
              "      </button>\n",
              "      \n",
              "  <style>\n",
              "    .colab-df-container {\n",
              "      display:flex;\n",
              "      flex-wrap:wrap;\n",
              "      gap: 12px;\n",
              "    }\n",
              "\n",
              "    .colab-df-convert {\n",
              "      background-color: #E8F0FE;\n",
              "      border: none;\n",
              "      border-radius: 50%;\n",
              "      cursor: pointer;\n",
              "      display: none;\n",
              "      fill: #1967D2;\n",
              "      height: 32px;\n",
              "      padding: 0 0 0 0;\n",
              "      width: 32px;\n",
              "    }\n",
              "\n",
              "    .colab-df-convert:hover {\n",
              "      background-color: #E2EBFA;\n",
              "      box-shadow: 0px 1px 2px rgba(60, 64, 67, 0.3), 0px 1px 3px 1px rgba(60, 64, 67, 0.15);\n",
              "      fill: #174EA6;\n",
              "    }\n",
              "\n",
              "    [theme=dark] .colab-df-convert {\n",
              "      background-color: #3B4455;\n",
              "      fill: #D2E3FC;\n",
              "    }\n",
              "\n",
              "    [theme=dark] .colab-df-convert:hover {\n",
              "      background-color: #434B5C;\n",
              "      box-shadow: 0px 1px 3px 1px rgba(0, 0, 0, 0.15);\n",
              "      filter: drop-shadow(0px 1px 2px rgba(0, 0, 0, 0.3));\n",
              "      fill: #FFFFFF;\n",
              "    }\n",
              "  </style>\n",
              "\n",
              "      <script>\n",
              "        const buttonEl =\n",
              "          document.querySelector('#df-6a4cb62a-dd23-4b34-8616-ec3cc0d546fc button.colab-df-convert');\n",
              "        buttonEl.style.display =\n",
              "          google.colab.kernel.accessAllowed ? 'block' : 'none';\n",
              "\n",
              "        async function convertToInteractive(key) {\n",
              "          const element = document.querySelector('#df-6a4cb62a-dd23-4b34-8616-ec3cc0d546fc');\n",
              "          const dataTable =\n",
              "            await google.colab.kernel.invokeFunction('convertToInteractive',\n",
              "                                                     [key], {});\n",
              "          if (!dataTable) return;\n",
              "\n",
              "          const docLinkHtml = 'Like what you see? Visit the ' +\n",
              "            '<a target=\"_blank\" href=https://colab.research.google.com/notebooks/data_table.ipynb>data table notebook</a>'\n",
              "            + ' to learn more about interactive tables.';\n",
              "          element.innerHTML = '';\n",
              "          dataTable['output_type'] = 'display_data';\n",
              "          await google.colab.output.renderOutput(dataTable, element);\n",
              "          const docLink = document.createElement('div');\n",
              "          docLink.innerHTML = docLinkHtml;\n",
              "          element.appendChild(docLink);\n",
              "        }\n",
              "      </script>\n",
              "    </div>\n",
              "  </div>\n",
              "  "
            ]
          },
          "metadata": {},
          "execution_count": 288
        }
      ]
    },
    {
      "cell_type": "code",
      "source": [
        "#Create Dataframe with all models validation accuracies\n",
        "FullValAccuracy={'Support Vector Machine':[0.660075557,0.675213675,0.670909987,0.680532116,0.699139828,0.706692315],\n",
        "              'Random Forest':[0.781850334,0.838502239,0.890111695,0.943313809,0.951390278,0.960109345],\n",
        "              'Neural Network':[0.75588779,0.787464387,0.790489488,0.92474933,0.927185437,0.929634504]}\n",
        "FullValAccuracy=pd.DataFrame(FullValAccuracy, index=[4,8,12,16,20,24])\n",
        "FullValAccuracy.index.name='Weeks of Data'\n",
        "FullValAccuracy"
      ],
      "metadata": {
        "id": "XdguGbVsfQQu"
      },
      "execution_count": null,
      "outputs": []
    },
    {
      "cell_type": "markdown",
      "source": [
        "## Visualisations"
      ],
      "metadata": {
        "id": "U3bC5DoTIflE"
      }
    },
    {
      "cell_type": "code",
      "source": [
        "#Set xtick numbers (only once)\n",
        "xtickn=[4,8,12,16,20,24]\n",
        "plt.figure(figsize=(10,8))\n",
        "#Plot all metrics on to plot\n",
        "plt.plot(ForestTrainFullMetrics['Accuracy'], label='Accuracy')\n",
        "plt.plot(ForestTrainFullMetrics['Precision'], label='Precision')\n",
        "plt.plot(ForestTrainFullMetrics['Recall'], label='Recall')\n",
        "plt.plot(ForestTrainFullMetrics['F1'], label='F1')\n",
        "#Set legend, xticks, and labels\n",
        "plt.legend(loc='best')\n",
        "plt.xticks(xtickn)\n",
        "plt.xlabel('Weeks of Data')\n",
        "plt.ylabel('Score')\n",
        "plt.title('Random Forest Training Metrics')\n",
        "plt.show()"
      ],
      "metadata": {
        "colab": {
          "base_uri": "https://localhost:8080/",
          "height": 252
        },
        "id": "h1iomkFmIhSH",
        "outputId": "f2637dfb-66f1-47df-f386-7d0142620ca7"
      },
      "execution_count": null,
      "outputs": [
        {
          "output_type": "error",
          "ename": "NameError",
          "evalue": "ignored",
          "traceback": [
            "\u001b[0;31m---------------------------------------------------------------------------\u001b[0m",
            "\u001b[0;31mNameError\u001b[0m                                 Traceback (most recent call last)",
            "\u001b[0;32m<ipython-input-72-d4ea0787ae8b>\u001b[0m in \u001b[0;36m<module>\u001b[0;34m\u001b[0m\n\u001b[1;32m      1\u001b[0m \u001b[0mxtickn\u001b[0m\u001b[0;34m=\u001b[0m\u001b[0;34m[\u001b[0m\u001b[0;36m4\u001b[0m\u001b[0;34m,\u001b[0m\u001b[0;36m8\u001b[0m\u001b[0;34m,\u001b[0m\u001b[0;36m12\u001b[0m\u001b[0;34m,\u001b[0m\u001b[0;36m16\u001b[0m\u001b[0;34m,\u001b[0m\u001b[0;36m20\u001b[0m\u001b[0;34m,\u001b[0m\u001b[0;36m24\u001b[0m\u001b[0;34m]\u001b[0m\u001b[0;34m\u001b[0m\u001b[0;34m\u001b[0m\u001b[0m\n\u001b[1;32m      2\u001b[0m \u001b[0mplt\u001b[0m\u001b[0;34m.\u001b[0m\u001b[0mfigure\u001b[0m\u001b[0;34m(\u001b[0m\u001b[0mfigsize\u001b[0m\u001b[0;34m=\u001b[0m\u001b[0;34m(\u001b[0m\u001b[0;36m10\u001b[0m\u001b[0;34m,\u001b[0m\u001b[0;36m8\u001b[0m\u001b[0;34m)\u001b[0m\u001b[0;34m)\u001b[0m\u001b[0;34m\u001b[0m\u001b[0;34m\u001b[0m\u001b[0m\n\u001b[0;32m----> 3\u001b[0;31m \u001b[0mplt\u001b[0m\u001b[0;34m.\u001b[0m\u001b[0mplot\u001b[0m\u001b[0;34m(\u001b[0m\u001b[0mForestTrainFullMetrics\u001b[0m\u001b[0;34m[\u001b[0m\u001b[0;34m'Accuracy'\u001b[0m\u001b[0;34m]\u001b[0m\u001b[0;34m,\u001b[0m \u001b[0mlabel\u001b[0m\u001b[0;34m=\u001b[0m\u001b[0;34m'Accuracy'\u001b[0m\u001b[0;34m)\u001b[0m\u001b[0;34m\u001b[0m\u001b[0;34m\u001b[0m\u001b[0m\n\u001b[0m\u001b[1;32m      4\u001b[0m \u001b[0mplt\u001b[0m\u001b[0;34m.\u001b[0m\u001b[0mplot\u001b[0m\u001b[0;34m(\u001b[0m\u001b[0mForestTrainFullMetrics\u001b[0m\u001b[0;34m[\u001b[0m\u001b[0;34m'Precision'\u001b[0m\u001b[0;34m]\u001b[0m\u001b[0;34m,\u001b[0m \u001b[0mlabel\u001b[0m\u001b[0;34m=\u001b[0m\u001b[0;34m'Precision'\u001b[0m\u001b[0;34m)\u001b[0m\u001b[0;34m\u001b[0m\u001b[0;34m\u001b[0m\u001b[0m\n\u001b[1;32m      5\u001b[0m \u001b[0mplt\u001b[0m\u001b[0;34m.\u001b[0m\u001b[0mplot\u001b[0m\u001b[0;34m(\u001b[0m\u001b[0mForestTrainFullMetrics\u001b[0m\u001b[0;34m[\u001b[0m\u001b[0;34m'Recall'\u001b[0m\u001b[0;34m]\u001b[0m\u001b[0;34m,\u001b[0m \u001b[0mlabel\u001b[0m\u001b[0;34m=\u001b[0m\u001b[0;34m'Recall'\u001b[0m\u001b[0;34m)\u001b[0m\u001b[0;34m\u001b[0m\u001b[0;34m\u001b[0m\u001b[0m\n",
            "\u001b[0;31mNameError\u001b[0m: name 'ForestTrainFullMetrics' is not defined"
          ]
        },
        {
          "output_type": "display_data",
          "data": {
            "text/plain": [
              "<Figure size 720x576 with 0 Axes>"
            ]
          },
          "metadata": {}
        }
      ]
    },
    {
      "cell_type": "code",
      "source": [
        "#Repeat for all models\n",
        "plt.figure(figsize=(10,8))\n",
        "plt.plot(ForestValFullMetrics['Accuracy'], label='Accuracy')\n",
        "plt.plot(ForestValFullMetrics['Precision'], label='Precision')\n",
        "plt.plot(ForestValFullMetrics['Recall'], label='Recall')\n",
        "plt.plot(ForestValFullMetrics['F1'], label='F1')\n",
        "plt.legend(loc='best')\n",
        "plt.xticks(xtickn)\n",
        "plt.xlabel('Weeks of Data')\n",
        "plt.ylabel('Score')\n",
        "plt.title('Random Forest Validation Metrics')\n",
        "plt.show()"
      ],
      "metadata": {
        "colab": {
          "base_uri": "https://localhost:8080/"
        },
        "id": "sw4JpNGpIzhP",
        "outputId": "df697d4f-1761-4811-c529-70e94cde2988"
      },
      "execution_count": null,
      "outputs": [
        {
          "output_type": "display_data",
          "data": {
            "text/plain": [
              "<Figure size 720x576 with 1 Axes>"
            ],
            "image/png": "[encoded data removed]"
          },
          "metadata": {
            "needs_background": "light"
          }
        }
      ]
    },
    {
      "cell_type": "code",
      "source": [
        "plt.figure(figsize=(10,8))\n",
        "plt.plot(ForestTestFullMetrics['Accuracy'], label='Accuracy')\n",
        "plt.plot(ForestTestFullMetrics['Precision'], label='Precision')\n",
        "plt.plot(ForestTestFullMetrics['Recall'], label='Recall')\n",
        "plt.plot(ForestTestFullMetrics['F1'], label='F1')\n",
        "plt.axhline(y=0.9, color='black', linestyle='--')\n",
        "plt.text(4,0.905, 'Target Accuracy')\n",
        "plt.legend(loc='best')\n",
        "plt.xticks(xtickn)\n",
        "plt.xlabel('Weeks of Data')\n",
        "plt.ylabel('Score')\n",
        "plt.title('Random Forest Test Metrics')\n",
        "plt.show()"
      ],
      "metadata": {
        "colab": {
          "base_uri": "https://localhost:8080/",
          "height": 513
        },
        "id": "83-qQv9hJHmF",
        "outputId": "44631717-fb02-4d9c-de23-10a864702bb2"
      },
      "execution_count": null,
      "outputs": [
        {
          "output_type": "display_data",
          "data": {
            "text/plain": [
              "<Figure size 720x576 with 1 Axes>"
            ],
            "image/png": "[encoded data removed]"
          },
          "metadata": {
            "needs_background": "light"
          }
        }
      ]
    },
    {
      "cell_type": "code",
      "source": [
        "plt.figure(figsize=(10,8))\n",
        "plt.plot(NNTrainFullMetrics['Accuracy'], label='Accuracy')\n",
        "plt.plot(NNTrainFullMetrics['Precision'], label='Precision')\n",
        "plt.plot(NNTrainFullMetrics['Recall'], label='Recall')\n",
        "plt.plot(NNTrainFullMetrics['F1'], label='F1')\n",
        "plt.legend(loc='best')\n",
        "plt.xticks(xtickn)\n",
        "plt.xlabel('Weeks of Data')\n",
        "plt.ylabel('Score')\n",
        "plt.title('Neural Network Training Metrics')\n",
        "plt.show()"
      ],
      "metadata": {
        "colab": {
          "base_uri": "https://localhost:8080/"
        },
        "id": "IDhuTXH3JPg4",
        "outputId": "3a5b7933-6ac3-4669-820a-722a6c38794f"
      },
      "execution_count": null,
      "outputs": [
        {
          "output_type": "display_data",
          "data": {
            "text/plain": [
              "<Figure size 720x576 with 1 Axes>"
            ],
            "image/png": "[encoded data removed]"
          },
          "metadata": {
            "needs_background": "light"
          }
        }
      ]
    },
    {
      "cell_type": "code",
      "source": [
        "plt.figure(figsize=(10,8))\n",
        "plt.plot(NNValFullMetrics['Accuracy'], label='Accuracy')\n",
        "plt.plot(NNValFullMetrics['Precision'], label='Precision')\n",
        "plt.plot(NNValFullMetrics['Recall'], label='Recall')\n",
        "plt.plot(NNValFullMetrics['F1'], label='F1')\n",
        "plt.legend(loc='best')\n",
        "plt.xticks(xtickn)\n",
        "plt.xlabel('Weeks of Data')\n",
        "plt.ylabel('Score')\n",
        "plt.title('Neural Network Validation Metrics')\n",
        "plt.show()"
      ],
      "metadata": {
        "colab": {
          "base_uri": "https://localhost:8080/"
        },
        "id": "5efXP7kPJdOq",
        "outputId": "5c10cd61-eda2-4fa8-aaaf-a0db5d4272eb"
      },
      "execution_count": null,
      "outputs": [
        {
          "output_type": "display_data",
          "data": {
            "text/plain": [
              "<Figure size 720x576 with 1 Axes>"
            ],
            "image/png": "[encoded data removed]"
          },
          "metadata": {
            "needs_background": "light"
          }
        }
      ]
    },
    {
      "cell_type": "code",
      "source": [
        "plt.figure(figsize=(10,8))\n",
        "plt.plot(SVMTrainFullMetrics['Accuracy'], label='Accuracy')\n",
        "plt.plot(SVMTrainFullMetrics['Precision'], label='Precision')\n",
        "plt.plot(SVMTrainFullMetrics['Recall'], label='Recall')\n",
        "plt.plot(SVMTrainFullMetrics['F1'], label='F1')\n",
        "plt.legend(loc='best')\n",
        "plt.xticks(xtickn)\n",
        "plt.xlabel('Weeks of Data')\n",
        "plt.ylabel('Score')\n",
        "plt.title('Support Vector Machine Training Metrics')\n",
        "plt.show()"
      ],
      "metadata": {
        "colab": {
          "base_uri": "https://localhost:8080/"
        },
        "id": "Wv76owm9JkR_",
        "outputId": "91ac1dd2-741c-4d2c-f4a2-1aa514b2e9c6"
      },
      "execution_count": null,
      "outputs": [
        {
          "output_type": "display_data",
          "data": {
            "text/plain": [
              "<Figure size 720x576 with 1 Axes>"
            ],
            "image/png": "[encoded data removed]"
          },
          "metadata": {
            "needs_background": "light"
          }
        }
      ]
    },
    {
      "cell_type": "code",
      "source": [
        "plt.figure(figsize=(10,8))\n",
        "plt.plot(SVMValFullMetrics['Accuracy'], label='Accuracy')\n",
        "plt.plot(SVMValFullMetrics['Precision'], label='Precision')\n",
        "plt.plot(SVMValFullMetrics['Recall'], label='Recall')\n",
        "plt.plot(SVMValFullMetrics['F1'], label='F1')\n",
        "plt.legend(loc='best')\n",
        "plt.xticks(xtickn)\n",
        "plt.xlabel('Weeks of Data')\n",
        "plt.ylabel('Score')\n",
        "plt.title('Support Vector Machine Validation Metrics')\n",
        "plt.show()"
      ],
      "metadata": {
        "colab": {
          "base_uri": "https://localhost:8080/"
        },
        "id": "b_1zGgoiJsdy",
        "outputId": "21c47957-2c0e-43df-fb7f-6fb9bb789578"
      },
      "execution_count": null,
      "outputs": [
        {
          "output_type": "display_data",
          "data": {
            "text/plain": [
              "<Figure size 720x576 with 1 Axes>"
            ],
            "image/png": "[encoded data removed]"
          },
          "metadata": {
            "needs_background": "light"
          }
        }
      ]
    },
    {
      "cell_type": "code",
      "source": [
        "#Create plot with all validation accuracies, for comparison between model types\n",
        "plt.figure(figsize=(10,8))\n",
        "plt.plot(FullValAccuracy['Support Vector Machine'], label='Support Vector Machine')\n",
        "plt.plot(FullValAccuracy['Random Forest'], label='Random Forest')\n",
        "plt.plot(FullValAccuracy['Neural Network'], label='Neural Network')\n",
        "plt.legend(loc='best')\n",
        "plt.xticks(xtickn)\n",
        "plt.xlabel('Weeks of Data')\n",
        "plt.ylabel('Accuracy')\n",
        "plt.title('Validation Accuracy for all algorithms over time')\n",
        "plt.show()"
      ],
      "metadata": {
        "id": "JtblAJ5TfdL-"
      },
      "execution_count": null,
      "outputs": []
    }
  ]
}